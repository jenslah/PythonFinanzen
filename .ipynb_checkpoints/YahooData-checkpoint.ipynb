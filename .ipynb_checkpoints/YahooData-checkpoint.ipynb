{
 "cells": [
  {
   "cell_type": "code",
   "execution_count": 5,
   "id": "4f500e55",
   "metadata": {},
   "outputs": [
    {
     "name": "stdout",
     "output_type": "stream",
     "text": [
      "Python version = 3.9.5\n",
      "yfinance version = 0.1.69\n",
      "Today = 2022-02-06T12:30:34\n",
      "\n",
      "[*********************100%***********************]  1 of 1 completed\n"
     ]
    },
    {
     "data": {
      "application/vnd.plotly.v1+json": {
       "config": {
        "plotlyServerURL": "https://plot.ly"
       },
       "data": [
        {
         "close": [
          1.3700000047683716,
          1.3339999914169312,
          1.2990000247955322,
          1.340999960899353,
          1.3240000009536743,
          1.2769999504089355,
          1.3040000200271606,
          1.3309999704360962,
          1.3700000047683716,
          1.309000015258789,
          1.3240000009536743,
          1.3359999656677246,
          1.409999966621399,
          1.4600000381469727,
          1.4839999675750732,
          1.534000039100647,
          1.5410000085830688,
          1.5290000438690186,
          1.4789999723434448,
          1.4809999465942383,
          1.5290000438690186,
          1.5240000486373901,
          1.5709999799728394,
          1.6050000190734863,
          1.6139999628067017,
          1.5800000429153442,
          1.5490000247955322,
          1.5190000534057617,
          1.5759999752044678,
          1.5839999914169312,
          1.6349999904632568,
          1.6360000371932983,
          1.6759999990463257,
          1.6549999713897705,
          1.6349999904632568,
          1.61899995803833,
          1.5290000438690186,
          1.5679999589920044,
          1.5570000410079956,
          1.5750000476837158,
          1.5490000247955322,
          1.5789999961853027,
          1.5240000486373901,
          1.4529999494552612,
          1.496999979019165,
          1.4320000410079956,
          1.559999942779541,
          1.559999942779541,
          1.5820000171661377,
          1.6230000257492065,
          1.6339999437332153,
          1.6039999723434448,
          1.5889999866485596,
          1.5360000133514404,
          1.625,
          1.6670000553131104,
          1.6449999809265137,
          1.4819999933242798,
          1.5299999713897705,
          1.4429999589920044,
          1.434000015258789,
          1.4479999542236328,
          1.343000054359436,
          1.434000015258789,
          1.4800000190734863,
          1.5089999437332153,
          1.4869999885559082,
          1.4889999628067017,
          1.4240000247955322,
          1.437999963760376,
          1.4630000591278076,
          1.4220000505447388,
          1.4019999504089355,
          1.4190000295639038,
          1.4869999885559082,
          1.4570000171661377,
          1.4930000305175781,
          1.4809999465942383,
          1.4809999465942383,
          1.5429999828338623,
          1.5149999856948853,
          1.5119999647140503,
          1.628000020980835,
          1.6679999828338623,
          1.7050000429153442,
          1.7330000400543213,
          1.7710000276565552,
          1.7799999713897705,
          1.746000051498413,
          1.725000023841858,
          1.7109999656677246,
          1.7719999551773071,
          1.8650000095367432,
          1.8270000219345093,
          1.8329999446868896,
          1.746999979019165,
          1.7350000143051147,
          1.7829999923706055,
          1.8480000495910645,
          1.8070000410079956,
          1.781999945640564,
          1.781999945640564,
          1.7999999523162842,
          1.7660000324249268,
          1.8270000219345093,
          1.9299999475479126
         ],
         "high": [
          1.3849999904632568,
          1.3630000352859497,
          1.3459999561309814,
          1.3550000190734863,
          1.3380000591278076,
          1.350000023841858,
          1.319000005722046,
          1.3509999513626099,
          1.3860000371932983,
          1.3380000591278076,
          1.3259999752044678,
          1.3380000591278076,
          1.4110000133514404,
          1.465999960899353,
          1.5169999599456787,
          1.5670000314712524,
          1.5529999732971191,
          1.5549999475479126,
          1.5049999952316284,
          1.5080000162124634,
          1.5379999876022339,
          1.5429999828338623,
          1.5729999542236328,
          1.6169999837875366,
          1.6139999628067017,
          1.6150000095367432,
          1.600000023841858,
          1.5460000038146973,
          1.5770000219345093,
          1.6269999742507935,
          1.6360000371932983,
          1.652999997138977,
          1.6829999685287476,
          1.690999984741211,
          1.6729999780654907,
          1.6540000438690186,
          1.5989999771118164,
          1.5820000171661377,
          1.61899995803833,
          1.6050000190734863,
          1.5700000524520874,
          1.6019999980926514,
          1.5789999961853027,
          1.5470000505447388,
          1.503999948501587,
          1.468999981880188,
          1.5920000076293945,
          1.559999942779541,
          1.5889999866485596,
          1.625,
          1.6369999647140503,
          1.6460000276565552,
          1.6130000352859497,
          1.5570000410079956,
          1.6269999742507935,
          1.6690000295639038,
          1.6929999589920044,
          1.5429999828338623,
          1.565000057220459,
          1.5,
          1.496999979019165,
          1.465000033378601,
          1.4700000286102295,
          1.440999984741211,
          1.4819999933242798,
          1.5369999408721924,
          1.5080000162124634,
          1.5199999809265137,
          1.472000002861023,
          1.472000002861023,
          1.4839999675750732,
          1.4789999723434448,
          1.4119999408721924,
          1.4210000038146973,
          1.4980000257492065,
          1.4809999465942383,
          1.5010000467300415,
          1.49399995803833,
          1.4889999628067017,
          1.5579999685287476,
          1.5499999523162842,
          1.5219999551773071,
          1.6349999904632568,
          1.6859999895095825,
          1.7100000381469727,
          1.74399995803833,
          1.8009999990463257,
          1.8079999685287476,
          1.784999966621399,
          1.746000051498413,
          1.746000051498413,
          1.774999976158142,
          1.8660000562667847,
          1.8739999532699585,
          1.8450000286102295,
          1.784999966621399,
          1.7369999885559082,
          1.7869999408721924,
          1.8569999933242798,
          1.8420000076293945,
          1.8480000495910645,
          1.815999984741211,
          1.8200000524520874,
          1.8109999895095825,
          1.847000002861023,
          1.9359999895095825
         ],
         "low": [
          1.3580000400543213,
          1.3270000219345093,
          1.2869999408721924,
          1.3170000314712524,
          1.315999984741211,
          1.2649999856948853,
          1.2599999904632568,
          1.309000015258789,
          1.3359999656677246,
          1.2970000505447388,
          1.305999994277954,
          1.2970000505447388,
          1.3359999656677246,
          1.4220000505447388,
          1.4700000286102295,
          1.5149999856948853,
          1.4980000257492065,
          1.5119999647140503,
          1.4739999771118164,
          1.4630000591278076,
          1.4889999628067017,
          1.5089999437332153,
          1.5290000438690186,
          1.5579999685287476,
          1.6139999628067017,
          1.5770000219345093,
          1.5260000228881836,
          1.5069999694824219,
          1.5390000343322754,
          1.5770000219345093,
          1.593000054359436,
          1.6200000047683716,
          1.6449999809265137,
          1.6360000371932983,
          1.6200000047683716,
          1.6169999837875366,
          1.5199999809265137,
          1.5299999713897705,
          1.5540000200271606,
          1.5609999895095825,
          1.527999997138977,
          1.5299999713897705,
          1.5089999437332153,
          1.4500000476837158,
          1.4600000381469727,
          1.4149999618530273,
          1.4639999866485596,
          1.559999942779541,
          1.5410000085830688,
          1.5490000247955322,
          1.5989999771118164,
          1.5989999771118164,
          1.5770000219345093,
          1.5210000276565552,
          1.5700000524520874,
          1.6390000581741333,
          1.6390000581741333,
          1.4730000495910645,
          1.5110000371932983,
          1.4119999408721924,
          1.430999994277954,
          1.409000039100647,
          1.343000054359436,
          1.3700000047683716,
          1.4390000104904175,
          1.4889999628067017,
          1.472000002861023,
          1.4509999752044678,
          1.4140000343322754,
          1.4210000038146973,
          1.4359999895095825,
          1.4160000085830688,
          1.371999979019165,
          1.375,
          1.4479999542236328,
          1.4479999542236328,
          1.4579999446868896,
          1.4759999513626099,
          1.4550000429153442,
          1.5049999952316284,
          1.5130000114440918,
          1.4910000562667847,
          1.5329999923706055,
          1.6540000438690186,
          1.6469999551773071,
          1.7209999561309814,
          1.7269999980926514,
          1.7669999599456787,
          1.7450000047683716,
          1.7109999656677246,
          1.7079999446868896,
          1.7059999704360962,
          1.812999963760376,
          1.8220000267028809,
          1.8200000524520874,
          1.7330000400543213,
          1.7070000171661377,
          1.7300000190734863,
          1.7710000276565552,
          1.781999945640564,
          1.7769999504089355,
          1.7730000019073486,
          1.75,
          1.7430000305175781,
          1.7970000505447388,
          1.809999942779541
         ],
         "name": "market data",
         "open": [
          1.3660000562667847,
          1.3480000495910645,
          1.3380000591278076,
          1.319000005722046,
          1.3380000591278076,
          1.3459999561309814,
          1.2740000486373901,
          1.312000036239624,
          1.340000033378601,
          1.309000015258789,
          1.3240000009536743,
          1.3359999656677246,
          1.3380000591278076,
          1.4229999780654907,
          1.496000051498413,
          1.5369999408721924,
          1.5169999599456787,
          1.5379999876022339,
          1.496000051498413,
          1.4859999418258667,
          1.4910000562667847,
          1.5429999828338623,
          1.5290000438690186,
          1.5750000476837158,
          1.6139999628067017,
          1.600000023841858,
          1.565000057220459,
          1.5369999408721924,
          1.5420000553131104,
          1.5989999771118164,
          1.593000054359436,
          1.6230000257492065,
          1.6749999523162842,
          1.687000036239624,
          1.6540000438690186,
          1.6180000305175781,
          1.5829999446868896,
          1.5410000085830688,
          1.6050000190734863,
          1.5870000123977661,
          1.555999994277954,
          1.534999966621399,
          1.5679999589920044,
          1.5260000228881836,
          1.4830000400543213,
          1.4639999866485596,
          1.4730000495910645,
          1.559999942779541,
          1.5720000267028809,
          1.5529999732971191,
          1.6009999513626099,
          1.6410000324249268,
          1.5959999561309814,
          1.5290000438690186,
          1.5750000476837158,
          1.6549999713897705,
          1.6649999618530273,
          1.5379999876022339,
          1.5470000505447388,
          1.444000005722046,
          1.4819999933242798,
          1.4220000505447388,
          1.4240000247955322,
          1.3899999856948853,
          1.4529999494552612,
          1.4900000095367432,
          1.4839999675750732,
          1.5089999437332153,
          1.468000054359436,
          1.4390000104904175,
          1.4459999799728394,
          1.472000002861023,
          1.3949999809265137,
          1.3869999647140503,
          1.4500000476837158,
          1.4769999980926514,
          1.4759999513626099,
          1.4889999628067017,
          1.4859999418258667,
          1.5049999952316284,
          1.531000018119812,
          1.5049999952316284,
          1.534000039100647,
          1.6629999876022339,
          1.659999966621399,
          1.7330000400543213,
          1.7389999628067017,
          1.774999976158142,
          1.7599999904632568,
          1.7319999933242798,
          1.7380000352859497,
          1.7259999513626099,
          1.8270000219345093,
          1.8580000400543213,
          1.8289999961853027,
          1.7719999551773071,
          1.7319999933242798,
          1.7740000486373901,
          1.784999966621399,
          1.8300000429153442,
          1.8339999914169312,
          1.8029999732971191,
          1.75,
          1.7769999504089355,
          1.7979999780654907,
          1.812999963760376
         ],
         "type": "candlestick",
         "x": [
          "2021-09-07T00:00:00",
          "2021-09-08T00:00:00",
          "2021-09-09T00:00:00",
          "2021-09-10T00:00:00",
          "2021-09-13T00:00:00",
          "2021-09-14T00:00:00",
          "2021-09-15T00:00:00",
          "2021-09-16T00:00:00",
          "2021-09-17T00:00:00",
          "2021-09-20T00:00:00",
          "2021-09-21T00:00:00",
          "2021-09-22T00:00:00",
          "2021-09-23T00:00:00",
          "2021-09-24T00:00:00",
          "2021-09-27T00:00:00",
          "2021-09-28T00:00:00",
          "2021-09-29T00:00:00",
          "2021-09-30T00:00:00",
          "2021-10-01T00:00:00",
          "2021-10-04T00:00:00",
          "2021-10-05T00:00:00",
          "2021-10-06T00:00:00",
          "2021-10-07T00:00:00",
          "2021-10-08T00:00:00",
          "2021-10-11T00:00:00",
          "2021-10-12T00:00:00",
          "2021-10-13T00:00:00",
          "2021-10-14T00:00:00",
          "2021-10-15T00:00:00",
          "2021-10-18T00:00:00",
          "2021-10-19T00:00:00",
          "2021-10-20T00:00:00",
          "2021-10-21T00:00:00",
          "2021-10-22T00:00:00",
          "2021-10-25T00:00:00",
          "2021-10-26T00:00:00",
          "2021-10-27T00:00:00",
          "2021-10-28T00:00:00",
          "2021-10-29T00:00:00",
          "2021-11-01T00:00:00",
          "2021-11-02T00:00:00",
          "2021-11-03T00:00:00",
          "2021-11-04T00:00:00",
          "2021-11-05T00:00:00",
          "2021-11-08T00:00:00",
          "2021-11-09T00:00:00",
          "2021-11-10T00:00:00",
          "2021-11-11T00:00:00",
          "2021-11-12T00:00:00",
          "2021-11-15T00:00:00",
          "2021-11-16T00:00:00",
          "2021-11-17T00:00:00",
          "2021-11-18T00:00:00",
          "2021-11-19T00:00:00",
          "2021-11-22T00:00:00",
          "2021-11-23T00:00:00",
          "2021-11-24T00:00:00",
          "2021-11-26T00:00:00",
          "2021-11-29T00:00:00",
          "2021-11-30T00:00:00",
          "2021-12-01T00:00:00",
          "2021-12-02T00:00:00",
          "2021-12-03T00:00:00",
          "2021-12-06T00:00:00",
          "2021-12-07T00:00:00",
          "2021-12-08T00:00:00",
          "2021-12-09T00:00:00",
          "2021-12-10T00:00:00",
          "2021-12-13T00:00:00",
          "2021-12-14T00:00:00",
          "2021-12-15T00:00:00",
          "2021-12-16T00:00:00",
          "2021-12-17T00:00:00",
          "2021-12-20T00:00:00",
          "2021-12-21T00:00:00",
          "2021-12-22T00:00:00",
          "2021-12-23T00:00:00",
          "2021-12-27T00:00:00",
          "2021-12-28T00:00:00",
          "2021-12-29T00:00:00",
          "2021-12-30T00:00:00",
          "2021-12-31T00:00:00",
          "2022-01-03T00:00:00",
          "2022-01-04T00:00:00",
          "2022-01-05T00:00:00",
          "2022-01-06T00:00:00",
          "2022-01-07T00:00:00",
          "2022-01-10T00:00:00",
          "2022-01-11T00:00:00",
          "2022-01-12T00:00:00",
          "2022-01-13T00:00:00",
          "2022-01-14T00:00:00",
          "2022-01-18T00:00:00",
          "2022-01-19T00:00:00",
          "2022-01-20T00:00:00",
          "2022-01-21T00:00:00",
          "2022-01-24T00:00:00",
          "2022-01-25T00:00:00",
          "2022-01-26T00:00:00",
          "2022-01-27T00:00:00",
          "2022-01-28T00:00:00",
          "2022-01-31T00:00:00",
          "2022-02-01T00:00:00",
          "2022-02-02T00:00:00",
          "2022-02-03T00:00:00",
          "2022-02-04T00:00:00"
         ]
        }
       ],
       "layout": {
        "autosize": true,
        "template": {
         "data": {
          "bar": [
           {
            "error_x": {
             "color": "#2a3f5f"
            },
            "error_y": {
             "color": "#2a3f5f"
            },
            "marker": {
             "line": {
              "color": "#E5ECF6",
              "width": 0.5
             },
             "pattern": {
              "fillmode": "overlay",
              "size": 10,
              "solidity": 0.2
             }
            },
            "type": "bar"
           }
          ],
          "barpolar": [
           {
            "marker": {
             "line": {
              "color": "#E5ECF6",
              "width": 0.5
             },
             "pattern": {
              "fillmode": "overlay",
              "size": 10,
              "solidity": 0.2
             }
            },
            "type": "barpolar"
           }
          ],
          "carpet": [
           {
            "aaxis": {
             "endlinecolor": "#2a3f5f",
             "gridcolor": "white",
             "linecolor": "white",
             "minorgridcolor": "white",
             "startlinecolor": "#2a3f5f"
            },
            "baxis": {
             "endlinecolor": "#2a3f5f",
             "gridcolor": "white",
             "linecolor": "white",
             "minorgridcolor": "white",
             "startlinecolor": "#2a3f5f"
            },
            "type": "carpet"
           }
          ],
          "choropleth": [
           {
            "colorbar": {
             "outlinewidth": 0,
             "ticks": ""
            },
            "type": "choropleth"
           }
          ],
          "contour": [
           {
            "colorbar": {
             "outlinewidth": 0,
             "ticks": ""
            },
            "colorscale": [
             [
              0,
              "#0d0887"
             ],
             [
              0.1111111111111111,
              "#46039f"
             ],
             [
              0.2222222222222222,
              "#7201a8"
             ],
             [
              0.3333333333333333,
              "#9c179e"
             ],
             [
              0.4444444444444444,
              "#bd3786"
             ],
             [
              0.5555555555555556,
              "#d8576b"
             ],
             [
              0.6666666666666666,
              "#ed7953"
             ],
             [
              0.7777777777777778,
              "#fb9f3a"
             ],
             [
              0.8888888888888888,
              "#fdca26"
             ],
             [
              1,
              "#f0f921"
             ]
            ],
            "type": "contour"
           }
          ],
          "contourcarpet": [
           {
            "colorbar": {
             "outlinewidth": 0,
             "ticks": ""
            },
            "type": "contourcarpet"
           }
          ],
          "heatmap": [
           {
            "colorbar": {
             "outlinewidth": 0,
             "ticks": ""
            },
            "colorscale": [
             [
              0,
              "#0d0887"
             ],
             [
              0.1111111111111111,
              "#46039f"
             ],
             [
              0.2222222222222222,
              "#7201a8"
             ],
             [
              0.3333333333333333,
              "#9c179e"
             ],
             [
              0.4444444444444444,
              "#bd3786"
             ],
             [
              0.5555555555555556,
              "#d8576b"
             ],
             [
              0.6666666666666666,
              "#ed7953"
             ],
             [
              0.7777777777777778,
              "#fb9f3a"
             ],
             [
              0.8888888888888888,
              "#fdca26"
             ],
             [
              1,
              "#f0f921"
             ]
            ],
            "type": "heatmap"
           }
          ],
          "heatmapgl": [
           {
            "colorbar": {
             "outlinewidth": 0,
             "ticks": ""
            },
            "colorscale": [
             [
              0,
              "#0d0887"
             ],
             [
              0.1111111111111111,
              "#46039f"
             ],
             [
              0.2222222222222222,
              "#7201a8"
             ],
             [
              0.3333333333333333,
              "#9c179e"
             ],
             [
              0.4444444444444444,
              "#bd3786"
             ],
             [
              0.5555555555555556,
              "#d8576b"
             ],
             [
              0.6666666666666666,
              "#ed7953"
             ],
             [
              0.7777777777777778,
              "#fb9f3a"
             ],
             [
              0.8888888888888888,
              "#fdca26"
             ],
             [
              1,
              "#f0f921"
             ]
            ],
            "type": "heatmapgl"
           }
          ],
          "histogram": [
           {
            "marker": {
             "pattern": {
              "fillmode": "overlay",
              "size": 10,
              "solidity": 0.2
             }
            },
            "type": "histogram"
           }
          ],
          "histogram2d": [
           {
            "colorbar": {
             "outlinewidth": 0,
             "ticks": ""
            },
            "colorscale": [
             [
              0,
              "#0d0887"
             ],
             [
              0.1111111111111111,
              "#46039f"
             ],
             [
              0.2222222222222222,
              "#7201a8"
             ],
             [
              0.3333333333333333,
              "#9c179e"
             ],
             [
              0.4444444444444444,
              "#bd3786"
             ],
             [
              0.5555555555555556,
              "#d8576b"
             ],
             [
              0.6666666666666666,
              "#ed7953"
             ],
             [
              0.7777777777777778,
              "#fb9f3a"
             ],
             [
              0.8888888888888888,
              "#fdca26"
             ],
             [
              1,
              "#f0f921"
             ]
            ],
            "type": "histogram2d"
           }
          ],
          "histogram2dcontour": [
           {
            "colorbar": {
             "outlinewidth": 0,
             "ticks": ""
            },
            "colorscale": [
             [
              0,
              "#0d0887"
             ],
             [
              0.1111111111111111,
              "#46039f"
             ],
             [
              0.2222222222222222,
              "#7201a8"
             ],
             [
              0.3333333333333333,
              "#9c179e"
             ],
             [
              0.4444444444444444,
              "#bd3786"
             ],
             [
              0.5555555555555556,
              "#d8576b"
             ],
             [
              0.6666666666666666,
              "#ed7953"
             ],
             [
              0.7777777777777778,
              "#fb9f3a"
             ],
             [
              0.8888888888888888,
              "#fdca26"
             ],
             [
              1,
              "#f0f921"
             ]
            ],
            "type": "histogram2dcontour"
           }
          ],
          "mesh3d": [
           {
            "colorbar": {
             "outlinewidth": 0,
             "ticks": ""
            },
            "type": "mesh3d"
           }
          ],
          "parcoords": [
           {
            "line": {
             "colorbar": {
              "outlinewidth": 0,
              "ticks": ""
             }
            },
            "type": "parcoords"
           }
          ],
          "pie": [
           {
            "automargin": true,
            "type": "pie"
           }
          ],
          "scatter": [
           {
            "marker": {
             "colorbar": {
              "outlinewidth": 0,
              "ticks": ""
             }
            },
            "type": "scatter"
           }
          ],
          "scatter3d": [
           {
            "line": {
             "colorbar": {
              "outlinewidth": 0,
              "ticks": ""
             }
            },
            "marker": {
             "colorbar": {
              "outlinewidth": 0,
              "ticks": ""
             }
            },
            "type": "scatter3d"
           }
          ],
          "scattercarpet": [
           {
            "marker": {
             "colorbar": {
              "outlinewidth": 0,
              "ticks": ""
             }
            },
            "type": "scattercarpet"
           }
          ],
          "scattergeo": [
           {
            "marker": {
             "colorbar": {
              "outlinewidth": 0,
              "ticks": ""
             }
            },
            "type": "scattergeo"
           }
          ],
          "scattergl": [
           {
            "marker": {
             "colorbar": {
              "outlinewidth": 0,
              "ticks": ""
             }
            },
            "type": "scattergl"
           }
          ],
          "scattermapbox": [
           {
            "marker": {
             "colorbar": {
              "outlinewidth": 0,
              "ticks": ""
             }
            },
            "type": "scattermapbox"
           }
          ],
          "scatterpolar": [
           {
            "marker": {
             "colorbar": {
              "outlinewidth": 0,
              "ticks": ""
             }
            },
            "type": "scatterpolar"
           }
          ],
          "scatterpolargl": [
           {
            "marker": {
             "colorbar": {
              "outlinewidth": 0,
              "ticks": ""
             }
            },
            "type": "scatterpolargl"
           }
          ],
          "scatterternary": [
           {
            "marker": {
             "colorbar": {
              "outlinewidth": 0,
              "ticks": ""
             }
            },
            "type": "scatterternary"
           }
          ],
          "surface": [
           {
            "colorbar": {
             "outlinewidth": 0,
             "ticks": ""
            },
            "colorscale": [
             [
              0,
              "#0d0887"
             ],
             [
              0.1111111111111111,
              "#46039f"
             ],
             [
              0.2222222222222222,
              "#7201a8"
             ],
             [
              0.3333333333333333,
              "#9c179e"
             ],
             [
              0.4444444444444444,
              "#bd3786"
             ],
             [
              0.5555555555555556,
              "#d8576b"
             ],
             [
              0.6666666666666666,
              "#ed7953"
             ],
             [
              0.7777777777777778,
              "#fb9f3a"
             ],
             [
              0.8888888888888888,
              "#fdca26"
             ],
             [
              1,
              "#f0f921"
             ]
            ],
            "type": "surface"
           }
          ],
          "table": [
           {
            "cells": {
             "fill": {
              "color": "#EBF0F8"
             },
             "line": {
              "color": "white"
             }
            },
            "header": {
             "fill": {
              "color": "#C8D4E3"
             },
             "line": {
              "color": "white"
             }
            },
            "type": "table"
           }
          ]
         },
         "layout": {
          "annotationdefaults": {
           "arrowcolor": "#2a3f5f",
           "arrowhead": 0,
           "arrowwidth": 1
          },
          "autotypenumbers": "strict",
          "coloraxis": {
           "colorbar": {
            "outlinewidth": 0,
            "ticks": ""
           }
          },
          "colorscale": {
           "diverging": [
            [
             0,
             "#8e0152"
            ],
            [
             0.1,
             "#c51b7d"
            ],
            [
             0.2,
             "#de77ae"
            ],
            [
             0.3,
             "#f1b6da"
            ],
            [
             0.4,
             "#fde0ef"
            ],
            [
             0.5,
             "#f7f7f7"
            ],
            [
             0.6,
             "#e6f5d0"
            ],
            [
             0.7,
             "#b8e186"
            ],
            [
             0.8,
             "#7fbc41"
            ],
            [
             0.9,
             "#4d9221"
            ],
            [
             1,
             "#276419"
            ]
           ],
           "sequential": [
            [
             0,
             "#0d0887"
            ],
            [
             0.1111111111111111,
             "#46039f"
            ],
            [
             0.2222222222222222,
             "#7201a8"
            ],
            [
             0.3333333333333333,
             "#9c179e"
            ],
            [
             0.4444444444444444,
             "#bd3786"
            ],
            [
             0.5555555555555556,
             "#d8576b"
            ],
            [
             0.6666666666666666,
             "#ed7953"
            ],
            [
             0.7777777777777778,
             "#fb9f3a"
            ],
            [
             0.8888888888888888,
             "#fdca26"
            ],
            [
             1,
             "#f0f921"
            ]
           ],
           "sequentialminus": [
            [
             0,
             "#0d0887"
            ],
            [
             0.1111111111111111,
             "#46039f"
            ],
            [
             0.2222222222222222,
             "#7201a8"
            ],
            [
             0.3333333333333333,
             "#9c179e"
            ],
            [
             0.4444444444444444,
             "#bd3786"
            ],
            [
             0.5555555555555556,
             "#d8576b"
            ],
            [
             0.6666666666666666,
             "#ed7953"
            ],
            [
             0.7777777777777778,
             "#fb9f3a"
            ],
            [
             0.8888888888888888,
             "#fdca26"
            ],
            [
             1,
             "#f0f921"
            ]
           ]
          },
          "colorway": [
           "#636efa",
           "#EF553B",
           "#00cc96",
           "#ab63fa",
           "#FFA15A",
           "#19d3f3",
           "#FF6692",
           "#B6E880",
           "#FF97FF",
           "#FECB52"
          ],
          "font": {
           "color": "#2a3f5f"
          },
          "geo": {
           "bgcolor": "white",
           "lakecolor": "white",
           "landcolor": "#E5ECF6",
           "showlakes": true,
           "showland": true,
           "subunitcolor": "white"
          },
          "hoverlabel": {
           "align": "left"
          },
          "hovermode": "closest",
          "mapbox": {
           "style": "light"
          },
          "paper_bgcolor": "white",
          "plot_bgcolor": "#E5ECF6",
          "polar": {
           "angularaxis": {
            "gridcolor": "white",
            "linecolor": "white",
            "ticks": ""
           },
           "bgcolor": "#E5ECF6",
           "radialaxis": {
            "gridcolor": "white",
            "linecolor": "white",
            "ticks": ""
           }
          },
          "scene": {
           "xaxis": {
            "backgroundcolor": "#E5ECF6",
            "gridcolor": "white",
            "gridwidth": 2,
            "linecolor": "white",
            "showbackground": true,
            "ticks": "",
            "zerolinecolor": "white"
           },
           "yaxis": {
            "backgroundcolor": "#E5ECF6",
            "gridcolor": "white",
            "gridwidth": 2,
            "linecolor": "white",
            "showbackground": true,
            "ticks": "",
            "zerolinecolor": "white"
           },
           "zaxis": {
            "backgroundcolor": "#E5ECF6",
            "gridcolor": "white",
            "gridwidth": 2,
            "linecolor": "white",
            "showbackground": true,
            "ticks": "",
            "zerolinecolor": "white"
           }
          },
          "shapedefaults": {
           "line": {
            "color": "#2a3f5f"
           }
          },
          "ternary": {
           "aaxis": {
            "gridcolor": "white",
            "linecolor": "white",
            "ticks": ""
           },
           "baxis": {
            "gridcolor": "white",
            "linecolor": "white",
            "ticks": ""
           },
           "bgcolor": "#E5ECF6",
           "caxis": {
            "gridcolor": "white",
            "linecolor": "white",
            "ticks": ""
           }
          },
          "title": {
           "x": 0.05
          },
          "xaxis": {
           "automargin": true,
           "gridcolor": "white",
           "linecolor": "white",
           "ticks": "",
           "title": {
            "standoff": 15
           },
           "zerolinecolor": "white",
           "zerolinewidth": 2
          },
          "yaxis": {
           "automargin": true,
           "gridcolor": "white",
           "linecolor": "white",
           "ticks": "",
           "title": {
            "standoff": 15
           },
           "zerolinecolor": "white",
           "zerolinewidth": 2
          }
         }
        },
        "title": {
         "text": "^TNX"
        },
        "xaxis": {
         "autorange": true,
         "range": [
          "2021-09-06 12:00",
          "2022-02-04 12:00"
         ],
         "rangeslider": {
          "autorange": true,
          "range": [
           "2021-09-06 12:00",
           "2022-02-04 12:00"
          ],
          "yaxis": {
           "_template": null,
           "rangemode": "match"
          }
         },
         "type": "date"
        },
        "yaxis": {
         "autorange": true,
         "range": [
          1.2224444349606831,
          1.9735555450121562
         ]
        }
       }
      },
      "image/png": "[encoded data removed]",
      "text/html": [
       "<div>                            <div id=\"2993eb57-798f-4ce7-8848-07d1e486c461\" class=\"plotly-graph-div\" style=\"height:525px; width:100%;\"></div>            <script type=\"text/javascript\">                require([\"plotly\"], function(Plotly) {                    window.PLOTLYENV=window.PLOTLYENV || {};                                    if (document.getElementById(\"2993eb57-798f-4ce7-8848-07d1e486c461\")) {                    Plotly.newPlot(                        \"2993eb57-798f-4ce7-8848-07d1e486c461\",                        [{\"close\":[1.3700000047683716,1.3339999914169312,1.2990000247955322,1.340999960899353,1.3240000009536743,1.2769999504089355,1.3040000200271606,1.3309999704360962,1.3700000047683716,1.309000015258789,1.3240000009536743,1.3359999656677246,1.409999966621399,1.4600000381469727,1.4839999675750732,1.534000039100647,1.5410000085830688,1.5290000438690186,1.4789999723434448,1.4809999465942383,1.5290000438690186,1.5240000486373901,1.5709999799728394,1.6050000190734863,1.6139999628067017,1.5800000429153442,1.5490000247955322,1.5190000534057617,1.5759999752044678,1.5839999914169312,1.6349999904632568,1.6360000371932983,1.6759999990463257,1.6549999713897705,1.6349999904632568,1.61899995803833,1.5290000438690186,1.5679999589920044,1.5570000410079956,1.5750000476837158,1.5490000247955322,1.5789999961853027,1.5240000486373901,1.4529999494552612,1.496999979019165,1.4320000410079956,1.559999942779541,1.559999942779541,1.5820000171661377,1.6230000257492065,1.6339999437332153,1.6039999723434448,1.5889999866485596,1.5360000133514404,1.625,1.6670000553131104,1.6449999809265137,1.4819999933242798,1.5299999713897705,1.4429999589920044,1.434000015258789,1.4479999542236328,1.343000054359436,1.434000015258789,1.4800000190734863,1.5089999437332153,1.4869999885559082,1.4889999628067017,1.4240000247955322,1.437999963760376,1.4630000591278076,1.4220000505447388,1.4019999504089355,1.4190000295639038,1.4869999885559082,1.4570000171661377,1.4930000305175781,1.4809999465942383,1.4809999465942383,1.5429999828338623,1.5149999856948853,1.5119999647140503,1.628000020980835,1.6679999828338623,1.7050000429153442,1.7330000400543213,1.7710000276565552,1.7799999713897705,1.746000051498413,1.725000023841858,1.7109999656677246,1.7719999551773071,1.8650000095367432,1.8270000219345093,1.8329999446868896,1.746999979019165,1.7350000143051147,1.7829999923706055,1.8480000495910645,1.8070000410079956,1.781999945640564,1.781999945640564,1.7999999523162842,1.7660000324249268,1.8270000219345093,1.9299999475479126],\"high\":[1.3849999904632568,1.3630000352859497,1.3459999561309814,1.3550000190734863,1.3380000591278076,1.350000023841858,1.319000005722046,1.3509999513626099,1.3860000371932983,1.3380000591278076,1.3259999752044678,1.3380000591278076,1.4110000133514404,1.465999960899353,1.5169999599456787,1.5670000314712524,1.5529999732971191,1.5549999475479126,1.5049999952316284,1.5080000162124634,1.5379999876022339,1.5429999828338623,1.5729999542236328,1.6169999837875366,1.6139999628067017,1.6150000095367432,1.600000023841858,1.5460000038146973,1.5770000219345093,1.6269999742507935,1.6360000371932983,1.652999997138977,1.6829999685287476,1.690999984741211,1.6729999780654907,1.6540000438690186,1.5989999771118164,1.5820000171661377,1.61899995803833,1.6050000190734863,1.5700000524520874,1.6019999980926514,1.5789999961853027,1.5470000505447388,1.503999948501587,1.468999981880188,1.5920000076293945,1.559999942779541,1.5889999866485596,1.625,1.6369999647140503,1.6460000276565552,1.6130000352859497,1.5570000410079956,1.6269999742507935,1.6690000295639038,1.6929999589920044,1.5429999828338623,1.565000057220459,1.5,1.496999979019165,1.465000033378601,1.4700000286102295,1.440999984741211,1.4819999933242798,1.5369999408721924,1.5080000162124634,1.5199999809265137,1.472000002861023,1.472000002861023,1.4839999675750732,1.4789999723434448,1.4119999408721924,1.4210000038146973,1.4980000257492065,1.4809999465942383,1.5010000467300415,1.49399995803833,1.4889999628067017,1.5579999685287476,1.5499999523162842,1.5219999551773071,1.6349999904632568,1.6859999895095825,1.7100000381469727,1.74399995803833,1.8009999990463257,1.8079999685287476,1.784999966621399,1.746000051498413,1.746000051498413,1.774999976158142,1.8660000562667847,1.8739999532699585,1.8450000286102295,1.784999966621399,1.7369999885559082,1.7869999408721924,1.8569999933242798,1.8420000076293945,1.8480000495910645,1.815999984741211,1.8200000524520874,1.8109999895095825,1.847000002861023,1.9359999895095825],\"low\":[1.3580000400543213,1.3270000219345093,1.2869999408721924,1.3170000314712524,1.315999984741211,1.2649999856948853,1.2599999904632568,1.309000015258789,1.3359999656677246,1.2970000505447388,1.305999994277954,1.2970000505447388,1.3359999656677246,1.4220000505447388,1.4700000286102295,1.5149999856948853,1.4980000257492065,1.5119999647140503,1.4739999771118164,1.4630000591278076,1.4889999628067017,1.5089999437332153,1.5290000438690186,1.5579999685287476,1.6139999628067017,1.5770000219345093,1.5260000228881836,1.5069999694824219,1.5390000343322754,1.5770000219345093,1.593000054359436,1.6200000047683716,1.6449999809265137,1.6360000371932983,1.6200000047683716,1.6169999837875366,1.5199999809265137,1.5299999713897705,1.5540000200271606,1.5609999895095825,1.527999997138977,1.5299999713897705,1.5089999437332153,1.4500000476837158,1.4600000381469727,1.4149999618530273,1.4639999866485596,1.559999942779541,1.5410000085830688,1.5490000247955322,1.5989999771118164,1.5989999771118164,1.5770000219345093,1.5210000276565552,1.5700000524520874,1.6390000581741333,1.6390000581741333,1.4730000495910645,1.5110000371932983,1.4119999408721924,1.430999994277954,1.409000039100647,1.343000054359436,1.3700000047683716,1.4390000104904175,1.4889999628067017,1.472000002861023,1.4509999752044678,1.4140000343322754,1.4210000038146973,1.4359999895095825,1.4160000085830688,1.371999979019165,1.375,1.4479999542236328,1.4479999542236328,1.4579999446868896,1.4759999513626099,1.4550000429153442,1.5049999952316284,1.5130000114440918,1.4910000562667847,1.5329999923706055,1.6540000438690186,1.6469999551773071,1.7209999561309814,1.7269999980926514,1.7669999599456787,1.7450000047683716,1.7109999656677246,1.7079999446868896,1.7059999704360962,1.812999963760376,1.8220000267028809,1.8200000524520874,1.7330000400543213,1.7070000171661377,1.7300000190734863,1.7710000276565552,1.781999945640564,1.7769999504089355,1.7730000019073486,1.75,1.7430000305175781,1.7970000505447388,1.809999942779541],\"name\":\"market data\",\"open\":[1.3660000562667847,1.3480000495910645,1.3380000591278076,1.319000005722046,1.3380000591278076,1.3459999561309814,1.2740000486373901,1.312000036239624,1.340000033378601,1.309000015258789,1.3240000009536743,1.3359999656677246,1.3380000591278076,1.4229999780654907,1.496000051498413,1.5369999408721924,1.5169999599456787,1.5379999876022339,1.496000051498413,1.4859999418258667,1.4910000562667847,1.5429999828338623,1.5290000438690186,1.5750000476837158,1.6139999628067017,1.600000023841858,1.565000057220459,1.5369999408721924,1.5420000553131104,1.5989999771118164,1.593000054359436,1.6230000257492065,1.6749999523162842,1.687000036239624,1.6540000438690186,1.6180000305175781,1.5829999446868896,1.5410000085830688,1.6050000190734863,1.5870000123977661,1.555999994277954,1.534999966621399,1.5679999589920044,1.5260000228881836,1.4830000400543213,1.4639999866485596,1.4730000495910645,1.559999942779541,1.5720000267028809,1.5529999732971191,1.6009999513626099,1.6410000324249268,1.5959999561309814,1.5290000438690186,1.5750000476837158,1.6549999713897705,1.6649999618530273,1.5379999876022339,1.5470000505447388,1.444000005722046,1.4819999933242798,1.4220000505447388,1.4240000247955322,1.3899999856948853,1.4529999494552612,1.4900000095367432,1.4839999675750732,1.5089999437332153,1.468000054359436,1.4390000104904175,1.4459999799728394,1.472000002861023,1.3949999809265137,1.3869999647140503,1.4500000476837158,1.4769999980926514,1.4759999513626099,1.4889999628067017,1.4859999418258667,1.5049999952316284,1.531000018119812,1.5049999952316284,1.534000039100647,1.6629999876022339,1.659999966621399,1.7330000400543213,1.7389999628067017,1.774999976158142,1.7599999904632568,1.7319999933242798,1.7380000352859497,1.7259999513626099,1.8270000219345093,1.8580000400543213,1.8289999961853027,1.7719999551773071,1.7319999933242798,1.7740000486373901,1.784999966621399,1.8300000429153442,1.8339999914169312,1.8029999732971191,1.75,1.7769999504089355,1.7979999780654907,1.812999963760376],\"x\":[\"2021-09-07T00:00:00\",\"2021-09-08T00:00:00\",\"2021-09-09T00:00:00\",\"2021-09-10T00:00:00\",\"2021-09-13T00:00:00\",\"2021-09-14T00:00:00\",\"2021-09-15T00:00:00\",\"2021-09-16T00:00:00\",\"2021-09-17T00:00:00\",\"2021-09-20T00:00:00\",\"2021-09-21T00:00:00\",\"2021-09-22T00:00:00\",\"2021-09-23T00:00:00\",\"2021-09-24T00:00:00\",\"2021-09-27T00:00:00\",\"2021-09-28T00:00:00\",\"2021-09-29T00:00:00\",\"2021-09-30T00:00:00\",\"2021-10-01T00:00:00\",\"2021-10-04T00:00:00\",\"2021-10-05T00:00:00\",\"2021-10-06T00:00:00\",\"2021-10-07T00:00:00\",\"2021-10-08T00:00:00\",\"2021-10-11T00:00:00\",\"2021-10-12T00:00:00\",\"2021-10-13T00:00:00\",\"2021-10-14T00:00:00\",\"2021-10-15T00:00:00\",\"2021-10-18T00:00:00\",\"2021-10-19T00:00:00\",\"2021-10-20T00:00:00\",\"2021-10-21T00:00:00\",\"2021-10-22T00:00:00\",\"2021-10-25T00:00:00\",\"2021-10-26T00:00:00\",\"2021-10-27T00:00:00\",\"2021-10-28T00:00:00\",\"2021-10-29T00:00:00\",\"2021-11-01T00:00:00\",\"2021-11-02T00:00:00\",\"2021-11-03T00:00:00\",\"2021-11-04T00:00:00\",\"2021-11-05T00:00:00\",\"2021-11-08T00:00:00\",\"2021-11-09T00:00:00\",\"2021-11-10T00:00:00\",\"2021-11-11T00:00:00\",\"2021-11-12T00:00:00\",\"2021-11-15T00:00:00\",\"2021-11-16T00:00:00\",\"2021-11-17T00:00:00\",\"2021-11-18T00:00:00\",\"2021-11-19T00:00:00\",\"2021-11-22T00:00:00\",\"2021-11-23T00:00:00\",\"2021-11-24T00:00:00\",\"2021-11-26T00:00:00\",\"2021-11-29T00:00:00\",\"2021-11-30T00:00:00\",\"2021-12-01T00:00:00\",\"2021-12-02T00:00:00\",\"2021-12-03T00:00:00\",\"2021-12-06T00:00:00\",\"2021-12-07T00:00:00\",\"2021-12-08T00:00:00\",\"2021-12-09T00:00:00\",\"2021-12-10T00:00:00\",\"2021-12-13T00:00:00\",\"2021-12-14T00:00:00\",\"2021-12-15T00:00:00\",\"2021-12-16T00:00:00\",\"2021-12-17T00:00:00\",\"2021-12-20T00:00:00\",\"2021-12-21T00:00:00\",\"2021-12-22T00:00:00\",\"2021-12-23T00:00:00\",\"2021-12-27T00:00:00\",\"2021-12-28T00:00:00\",\"2021-12-29T00:00:00\",\"2021-12-30T00:00:00\",\"2021-12-31T00:00:00\",\"2022-01-03T00:00:00\",\"2022-01-04T00:00:00\",\"2022-01-05T00:00:00\",\"2022-01-06T00:00:00\",\"2022-01-07T00:00:00\",\"2022-01-10T00:00:00\",\"2022-01-11T00:00:00\",\"2022-01-12T00:00:00\",\"2022-01-13T00:00:00\",\"2022-01-14T00:00:00\",\"2022-01-18T00:00:00\",\"2022-01-19T00:00:00\",\"2022-01-20T00:00:00\",\"2022-01-21T00:00:00\",\"2022-01-24T00:00:00\",\"2022-01-25T00:00:00\",\"2022-01-26T00:00:00\",\"2022-01-27T00:00:00\",\"2022-01-28T00:00:00\",\"2022-01-31T00:00:00\",\"2022-02-01T00:00:00\",\"2022-02-02T00:00:00\",\"2022-02-03T00:00:00\",\"2022-02-04T00:00:00\"],\"type\":\"candlestick\"}],                        {\"template\":{\"data\":{\"bar\":[{\"error_x\":{\"color\":\"#2a3f5f\"},\"error_y\":{\"color\":\"#2a3f5f\"},\"marker\":{\"line\":{\"color\":\"#E5ECF6\",\"width\":0.5},\"pattern\":{\"fillmode\":\"overlay\",\"size\":10,\"solidity\":0.2}},\"type\":\"bar\"}],\"barpolar\":[{\"marker\":{\"line\":{\"color\":\"#E5ECF6\",\"width\":0.5},\"pattern\":{\"fillmode\":\"overlay\",\"size\":10,\"solidity\":0.2}},\"type\":\"barpolar\"}],\"carpet\":[{\"aaxis\":{\"endlinecolor\":\"#2a3f5f\",\"gridcolor\":\"white\",\"linecolor\":\"white\",\"minorgridcolor\":\"white\",\"startlinecolor\":\"#2a3f5f\"},\"baxis\":{\"endlinecolor\":\"#2a3f5f\",\"gridcolor\":\"white\",\"linecolor\":\"white\",\"minorgridcolor\":\"white\",\"startlinecolor\":\"#2a3f5f\"},\"type\":\"carpet\"}],\"choropleth\":[{\"colorbar\":{\"outlinewidth\":0,\"ticks\":\"\"},\"type\":\"choropleth\"}],\"contour\":[{\"colorbar\":{\"outlinewidth\":0,\"ticks\":\"\"},\"colorscale\":[[0.0,\"#0d0887\"],[0.1111111111111111,\"#46039f\"],[0.2222222222222222,\"#7201a8\"],[0.3333333333333333,\"#9c179e\"],[0.4444444444444444,\"#bd3786\"],[0.5555555555555556,\"#d8576b\"],[0.6666666666666666,\"#ed7953\"],[0.7777777777777778,\"#fb9f3a\"],[0.8888888888888888,\"#fdca26\"],[1.0,\"#f0f921\"]],\"type\":\"contour\"}],\"contourcarpet\":[{\"colorbar\":{\"outlinewidth\":0,\"ticks\":\"\"},\"type\":\"contourcarpet\"}],\"heatmap\":[{\"colorbar\":{\"outlinewidth\":0,\"ticks\":\"\"},\"colorscale\":[[0.0,\"#0d0887\"],[0.1111111111111111,\"#46039f\"],[0.2222222222222222,\"#7201a8\"],[0.3333333333333333,\"#9c179e\"],[0.4444444444444444,\"#bd3786\"],[0.5555555555555556,\"#d8576b\"],[0.6666666666666666,\"#ed7953\"],[0.7777777777777778,\"#fb9f3a\"],[0.8888888888888888,\"#fdca26\"],[1.0,\"#f0f921\"]],\"type\":\"heatmap\"}],\"heatmapgl\":[{\"colorbar\":{\"outlinewidth\":0,\"ticks\":\"\"},\"colorscale\":[[0.0,\"#0d0887\"],[0.1111111111111111,\"#46039f\"],[0.2222222222222222,\"#7201a8\"],[0.3333333333333333,\"#9c179e\"],[0.4444444444444444,\"#bd3786\"],[0.5555555555555556,\"#d8576b\"],[0.6666666666666666,\"#ed7953\"],[0.7777777777777778,\"#fb9f3a\"],[0.8888888888888888,\"#fdca26\"],[1.0,\"#f0f921\"]],\"type\":\"heatmapgl\"}],\"histogram\":[{\"marker\":{\"pattern\":{\"fillmode\":\"overlay\",\"size\":10,\"solidity\":0.2}},\"type\":\"histogram\"}],\"histogram2d\":[{\"colorbar\":{\"outlinewidth\":0,\"ticks\":\"\"},\"colorscale\":[[0.0,\"#0d0887\"],[0.1111111111111111,\"#46039f\"],[0.2222222222222222,\"#7201a8\"],[0.3333333333333333,\"#9c179e\"],[0.4444444444444444,\"#bd3786\"],[0.5555555555555556,\"#d8576b\"],[0.6666666666666666,\"#ed7953\"],[0.7777777777777778,\"#fb9f3a\"],[0.8888888888888888,\"#fdca26\"],[1.0,\"#f0f921\"]],\"type\":\"histogram2d\"}],\"histogram2dcontour\":[{\"colorbar\":{\"outlinewidth\":0,\"ticks\":\"\"},\"colorscale\":[[0.0,\"#0d0887\"],[0.1111111111111111,\"#46039f\"],[0.2222222222222222,\"#7201a8\"],[0.3333333333333333,\"#9c179e\"],[0.4444444444444444,\"#bd3786\"],[0.5555555555555556,\"#d8576b\"],[0.6666666666666666,\"#ed7953\"],[0.7777777777777778,\"#fb9f3a\"],[0.8888888888888888,\"#fdca26\"],[1.0,\"#f0f921\"]],\"type\":\"histogram2dcontour\"}],\"mesh3d\":[{\"colorbar\":{\"outlinewidth\":0,\"ticks\":\"\"},\"type\":\"mesh3d\"}],\"parcoords\":[{\"line\":{\"colorbar\":{\"outlinewidth\":0,\"ticks\":\"\"}},\"type\":\"parcoords\"}],\"pie\":[{\"automargin\":true,\"type\":\"pie\"}],\"scatter\":[{\"marker\":{\"colorbar\":{\"outlinewidth\":0,\"ticks\":\"\"}},\"type\":\"scatter\"}],\"scatter3d\":[{\"line\":{\"colorbar\":{\"outlinewidth\":0,\"ticks\":\"\"}},\"marker\":{\"colorbar\":{\"outlinewidth\":0,\"ticks\":\"\"}},\"type\":\"scatter3d\"}],\"scattercarpet\":[{\"marker\":{\"colorbar\":{\"outlinewidth\":0,\"ticks\":\"\"}},\"type\":\"scattercarpet\"}],\"scattergeo\":[{\"marker\":{\"colorbar\":{\"outlinewidth\":0,\"ticks\":\"\"}},\"type\":\"scattergeo\"}],\"scattergl\":[{\"marker\":{\"colorbar\":{\"outlinewidth\":0,\"ticks\":\"\"}},\"type\":\"scattergl\"}],\"scattermapbox\":[{\"marker\":{\"colorbar\":{\"outlinewidth\":0,\"ticks\":\"\"}},\"type\":\"scattermapbox\"}],\"scatterpolar\":[{\"marker\":{\"colorbar\":{\"outlinewidth\":0,\"ticks\":\"\"}},\"type\":\"scatterpolar\"}],\"scatterpolargl\":[{\"marker\":{\"colorbar\":{\"outlinewidth\":0,\"ticks\":\"\"}},\"type\":\"scatterpolargl\"}],\"scatterternary\":[{\"marker\":{\"colorbar\":{\"outlinewidth\":0,\"ticks\":\"\"}},\"type\":\"scatterternary\"}],\"surface\":[{\"colorbar\":{\"outlinewidth\":0,\"ticks\":\"\"},\"colorscale\":[[0.0,\"#0d0887\"],[0.1111111111111111,\"#46039f\"],[0.2222222222222222,\"#7201a8\"],[0.3333333333333333,\"#9c179e\"],[0.4444444444444444,\"#bd3786\"],[0.5555555555555556,\"#d8576b\"],[0.6666666666666666,\"#ed7953\"],[0.7777777777777778,\"#fb9f3a\"],[0.8888888888888888,\"#fdca26\"],[1.0,\"#f0f921\"]],\"type\":\"surface\"}],\"table\":[{\"cells\":{\"fill\":{\"color\":\"#EBF0F8\"},\"line\":{\"color\":\"white\"}},\"header\":{\"fill\":{\"color\":\"#C8D4E3\"},\"line\":{\"color\":\"white\"}},\"type\":\"table\"}]},\"layout\":{\"annotationdefaults\":{\"arrowcolor\":\"#2a3f5f\",\"arrowhead\":0,\"arrowwidth\":1},\"autotypenumbers\":\"strict\",\"coloraxis\":{\"colorbar\":{\"outlinewidth\":0,\"ticks\":\"\"}},\"colorscale\":{\"diverging\":[[0,\"#8e0152\"],[0.1,\"#c51b7d\"],[0.2,\"#de77ae\"],[0.3,\"#f1b6da\"],[0.4,\"#fde0ef\"],[0.5,\"#f7f7f7\"],[0.6,\"#e6f5d0\"],[0.7,\"#b8e186\"],[0.8,\"#7fbc41\"],[0.9,\"#4d9221\"],[1,\"#276419\"]],\"sequential\":[[0.0,\"#0d0887\"],[0.1111111111111111,\"#46039f\"],[0.2222222222222222,\"#7201a8\"],[0.3333333333333333,\"#9c179e\"],[0.4444444444444444,\"#bd3786\"],[0.5555555555555556,\"#d8576b\"],[0.6666666666666666,\"#ed7953\"],[0.7777777777777778,\"#fb9f3a\"],[0.8888888888888888,\"#fdca26\"],[1.0,\"#f0f921\"]],\"sequentialminus\":[[0.0,\"#0d0887\"],[0.1111111111111111,\"#46039f\"],[0.2222222222222222,\"#7201a8\"],[0.3333333333333333,\"#9c179e\"],[0.4444444444444444,\"#bd3786\"],[0.5555555555555556,\"#d8576b\"],[0.6666666666666666,\"#ed7953\"],[0.7777777777777778,\"#fb9f3a\"],[0.8888888888888888,\"#fdca26\"],[1.0,\"#f0f921\"]]},\"colorway\":[\"#636efa\",\"#EF553B\",\"#00cc96\",\"#ab63fa\",\"#FFA15A\",\"#19d3f3\",\"#FF6692\",\"#B6E880\",\"#FF97FF\",\"#FECB52\"],\"font\":{\"color\":\"#2a3f5f\"},\"geo\":{\"bgcolor\":\"white\",\"lakecolor\":\"white\",\"landcolor\":\"#E5ECF6\",\"showlakes\":true,\"showland\":true,\"subunitcolor\":\"white\"},\"hoverlabel\":{\"align\":\"left\"},\"hovermode\":\"closest\",\"mapbox\":{\"style\":\"light\"},\"paper_bgcolor\":\"white\",\"plot_bgcolor\":\"#E5ECF6\",\"polar\":{\"angularaxis\":{\"gridcolor\":\"white\",\"linecolor\":\"white\",\"ticks\":\"\"},\"bgcolor\":\"#E5ECF6\",\"radialaxis\":{\"gridcolor\":\"white\",\"linecolor\":\"white\",\"ticks\":\"\"}},\"scene\":{\"xaxis\":{\"backgroundcolor\":\"#E5ECF6\",\"gridcolor\":\"white\",\"gridwidth\":2,\"linecolor\":\"white\",\"showbackground\":true,\"ticks\":\"\",\"zerolinecolor\":\"white\"},\"yaxis\":{\"backgroundcolor\":\"#E5ECF6\",\"gridcolor\":\"white\",\"gridwidth\":2,\"linecolor\":\"white\",\"showbackground\":true,\"ticks\":\"\",\"zerolinecolor\":\"white\"},\"zaxis\":{\"backgroundcolor\":\"#E5ECF6\",\"gridcolor\":\"white\",\"gridwidth\":2,\"linecolor\":\"white\",\"showbackground\":true,\"ticks\":\"\",\"zerolinecolor\":\"white\"}},\"shapedefaults\":{\"line\":{\"color\":\"#2a3f5f\"}},\"ternary\":{\"aaxis\":{\"gridcolor\":\"white\",\"linecolor\":\"white\",\"ticks\":\"\"},\"baxis\":{\"gridcolor\":\"white\",\"linecolor\":\"white\",\"ticks\":\"\"},\"bgcolor\":\"#E5ECF6\",\"caxis\":{\"gridcolor\":\"white\",\"linecolor\":\"white\",\"ticks\":\"\"}},\"title\":{\"x\":0.05},\"xaxis\":{\"automargin\":true,\"gridcolor\":\"white\",\"linecolor\":\"white\",\"ticks\":\"\",\"title\":{\"standoff\":15},\"zerolinecolor\":\"white\",\"zerolinewidth\":2},\"yaxis\":{\"automargin\":true,\"gridcolor\":\"white\",\"linecolor\":\"white\",\"ticks\":\"\",\"title\":{\"standoff\":15},\"zerolinecolor\":\"white\",\"zerolinewidth\":2}}},\"title\":{\"text\":\"^TNX\"}},                        {\"responsive\": true}                    ).then(function(){\n",
       "                            \n",
       "var gd = document.getElementById('2993eb57-798f-4ce7-8848-07d1e486c461');\n",
       "var x = new MutationObserver(function (mutations, observer) {{\n",
       "        var display = window.getComputedStyle(gd).display;\n",
       "        if (!display || display === 'none') {{\n",
       "            console.log([gd, 'removed!']);\n",
       "            Plotly.purge(gd);\n",
       "            observer.disconnect();\n",
       "        }}\n",
       "}});\n",
       "\n",
       "// Listen for the removal of the full notebook cells\n",
       "var notebookContainer = gd.closest('#notebook-container');\n",
       "if (notebookContainer) {{\n",
       "    x.observe(notebookContainer, {childList: true});\n",
       "}}\n",
       "\n",
       "// Listen for the clearing of the current output cell\n",
       "var outputEl = gd.closest('.output');\n",
       "if (outputEl) {{\n",
       "    x.observe(outputEl, {childList: true});\n",
       "}}\n",
       "\n",
       "                        })                };                });            </script>        </div>"
      ]
     },
     "metadata": {},
     "output_type": "display_data"
    },
    {
     "name": "stdout",
     "output_type": "stream",
     "text": [
      "[*********************100%***********************]  1 of 1 completed\n"
     ]
    },
    {
     "data": {
      "application/vnd.plotly.v1+json": {
       "config": {
        "plotlyServerURL": "https://plot.ly"
       },
       "data": [
        {
         "close": [
          1.1885942220687866,
          1.1875073909759521,
          1.184356927871704,
          1.1819101572036743,
          1.1825922727584839,
          1.1811953783035278,
          1.1811953783035278,
          1.1804981231689453,
          1.1819995641708374,
          1.176747441291809,
          1.1729930639266968,
          1.1730204820632935,
          1.17229163646698,
          1.168770432472229,
          1.1740258932113647,
          1.1723054647445679,
          1.1696795225143433,
          1.1686338186264038,
          1.1601601839065552,
          1.1574475765228271,
          1.160725712776184,
          1.1618449687957764,
          1.1596084833145142,
          1.1555349826812744,
          1.1559758186340332,
          1.1566041707992554,
          1.1553747653961182,
          1.15340256690979,
          1.1599582433700562,
          1.159151554107666,
          1.1597026586532593,
          1.161386251449585,
          1.1631964445114136,
          1.1655012369155884,
          1.1625338792800903,
          1.1640088558197021,
          1.161170482635498,
          1.1598236560821533,
          1.1600120067596436,
          1.1683608293533325,
          1.1556684970855713,
          1.1599582433700562,
          1.1579434871673584,
          1.1615750789642334,
          1.1555349826812744,
          1.1568851470947266,
          1.159151554107666,
          1.1595547199249268,
          1.148593544960022,
          1.145081877708435,
          1.144164800643921,
          1.1366478204727173,
          1.1321182250976562,
          1.1321182250976562,
          1.1368415355682373,
          1.1275737285614014,
          1.12421452999115,
          1.1244926452636719,
          1.1202975511550903,
          1.1209630966186523,
          1.1293182373046875,
          1.1293437480926514,
          1.1330289840698242,
          1.1319515705108643,
          1.1306205987930298,
          1.1304799318313599,
          1.128668189048767,
          1.1276500225067139,
          1.1345586776733398,
          1.1293309926986694,
          1.131183385848999,
          1.1285407543182373,
          1.1261261701583862,
          1.1290758848190308,
          1.1334141492843628,
          1.1243535280227661,
          1.1277517080307007,
          1.128757357597351,
          1.1328877210617065,
          1.132733702659607,
          1.1324259042739868,
          1.1330032348632812,
          1.1314777135849,
          1.1360150575637817,
          1.132502794265747,
          1.1373459100723267,
          1.1302244663238525,
          1.1283625364303589,
          1.1313496828079224,
          1.1296881437301636,
          1.1353960037231445,
          1.1330417394638062,
          1.1366478204727173,
          1.144164800643921,
          1.1457115411758423,
          1.1410704851150513,
          1.1410574913024902,
          1.1329647302627563,
          1.1343399286270142,
          1.1313753128051758,
          1.1341469287872314,
          1.1324130296707153,
          1.130454421043396,
          1.1243535280227661,
          1.1147029399871826,
          1.1152374744415283,
          1.12296462059021,
          1.1273956298828125,
          1.1299946308135986,
          1.14357590675354
         ],
         "high": [
          1.1886366605758667,
          1.1887779235839844,
          1.185400128364563,
          1.1841325759887695,
          1.185300350189209,
          1.1817537546157837,
          1.1846994161605835,
          1.183300256729126,
          1.1823126077651978,
          1.1789672374725342,
          1.1737089157104492,
          1.1748948097229004,
          1.1744533777236938,
          1.175100564956665,
          1.1748120784759521,
          1.1728004217147827,
          1.1705996990203857,
          1.1691995859146118,
          1.161170482635498,
          1.1608995199203491,
          1.1640088558197021,
          1.16225004196167,
          1.1599582433700562,
          1.157139539718628,
          1.1583727598190308,
          1.1587486267089844,
          1.1570056676864624,
          1.1579005718231201,
          1.162500023841858,
          1.1619800329208374,
          1.1612108945846558,
          1.1670000553131104,
          1.1654006242752075,
          1.1669973134994507,
          1.1654061079025269,
          1.1668611764907837,
          1.1629002094268799,
          1.162439227104187,
          1.1693171262741089,
          1.1691803932189941,
          1.159326195716858,
          1.1614995002746582,
          1.159900426864624,
          1.1617100238800049,
          1.1564704179763794,
          1.1595547199249268,
          1.1609008312225342,
          1.1598236560821533,
          1.1491611003875732,
          1.1459873914718628,
          1.1464208364486694,
          1.1387006044387817,
          1.1334000825881958,
          1.1359764337539673,
          1.1370097398757935,
          1.1290504932403564,
          1.1273448467254639,
          1.1254544258117676,
          1.1230907440185547,
          1.1322002410888672,
          1.12980055809021,
          1.1381744146347046,
          1.1358473300933838,
          1.1348161697387695,
          1.1331830024719238,
          1.1310003995895386,
          1.1299434900283813,
          1.1339025497436523,
          1.1345586776733398,
          1.1322592496871948,
          1.1316057443618774,
          1.13275945186615,
          1.1278001070022583,
          1.1363636255264282,
          1.13490629196167,
          1.130454421043396,
          1.1303266286849976,
          1.134199619293213,
          1.1345586776733398,
          1.134429931640625,
          1.1335002183914185,
          1.1336004734039307,
          1.137000560760498,
          1.1359764337539673,
          1.1379153728485107,
          1.1375917196273804,
          1.1323001384735107,
          1.1345586776733398,
          1.1330673694610596,
          1.1359764337539673,
          1.1359764337539673,
          1.136899709701538,
          1.1433000564575195,
          1.1479079723358154,
          1.148369312286377,
          1.143458366394043,
          1.1423349380493164,
          1.1356796026229858,
          1.136893391609192,
          1.1361054182052612,
          1.1340954303741455,
          1.132502794265747,
          1.1313496828079224,
          1.12447988986969,
          1.1170064210891724,
          1.121692419052124,
          1.1279042959213257,
          1.132939100265503,
          1.1450687646865845,
          1.148369312286377
         ],
         "low": [
          1.1857051849365234,
          1.1838297843933105,
          1.1803170442581177,
          1.1806097030639648,
          1.1819353103637695,
          1.1770604848861694,
          1.1801999807357788,
          1.1800997257232666,
          1.1751710176467896,
          1.1729655265808105,
          1.1700559854507446,
          1.1715912818908691,
          1.1717147827148438,
          1.1684194803237915,
          1.1701655387878418,
          1.1686612367630005,
          1.1669973134994507,
          1.1610087156295776,
          1.1570056676864624,
          1.1563901901245117,
          1.1588560342788696,
          1.1583056449890137,
          1.1530168056488037,
          1.1549345254898071,
          1.1542545557022095,
          1.15529465675354,
          1.1533892154693604,
          1.1530567407608032,
          1.1584665775299072,
          1.1588828563690186,
          1.1573002338409424,
          1.1614537239074707,
          1.1618045568466187,
          1.1633182764053345,
          1.1622366905212402,
          1.159326195716858,
          1.1585874557495117,
          1.1585336923599243,
          1.158319115638733,
          1.1546677350997925,
          1.1546677350997925,
          1.1579166650772095,
          1.1563634872436523,
          1.152923822402954,
          1.151410460472107,
          1.1551746129989624,
          1.157019019126892,
          1.1513441801071167,
          1.1454885005950928,
          1.1434059143066406,
          1.1416958570480347,
          1.1330673694610596,
          1.127052664756775,
          1.1315033435821533,
          1.1252391338348389,
          1.123822808265686,
          1.12271249294281,
          1.1187809705734253,
          1.1203980445861816,
          1.1207997798919678,
          1.125885248184204,
          1.1246063709259033,
          1.1304160356521606,
          1.1301862001419067,
          1.1267352104187012,
          1.1269001960754395,
          1.1231285333633423,
          1.12696373462677,
          1.1279425621032715,
          1.1267352104187012,
          1.126354455947876,
          1.1266590356826782,
          1.1249226331710815,
          1.1282098293304443,
          1.1268366575241089,
          1.1237343549728394,
          1.1261768341064453,
          1.1265320777893066,
          1.1291524171829224,
          1.1308379173278809,
          1.1304160356521606,
          1.1290377378463745,
          1.1275355815887451,
          1.1300712823867798,
          1.1305055618286133,
          1.1285407543182373,
          1.1273448467254639,
          1.1277644634246826,
          1.1285535097122192,
          1.1290504932403564,
          1.1288337707519531,
          1.1315544843673706,
          1.1355764865875244,
          1.1436413526535034,
          1.1410053968429565,
          1.1393154859542847,
          1.1329647302627563,
          1.1319515705108643,
          1.1330161094665527,
          1.1302244663238525,
          1.1291396617889404,
          1.1266844272613525,
          1.1272051334381104,
          1.1133501529693604,
          1.1123347282409668,
          1.114504098892212,
          1.1222084760665894,
          1.126697063446045,
          1.1272051334381104,
          1.1413440704345703
         ],
         "name": "market data",
         "open": [
          1.1885942220687866,
          1.187394618988037,
          1.1845533847808838,
          1.1820330619812012,
          1.1823545694351196,
          1.1812511682510376,
          1.1810698509216309,
          1.18035888671875,
          1.1819353103637695,
          1.17648446559906,
          1.1728830337524414,
          1.1725666522979736,
          1.1726078987121582,
          1.1688934564590454,
          1.1741775274276733,
          1.1722092628479004,
          1.1696043014526367,
          1.168688416481018,
          1.1602274179458618,
          1.1574207544326782,
          1.160725712776184,
          1.1616560220718384,
          1.1595144271850586,
          1.1555349826812744,
          1.1559224128723145,
          1.1565908193588257,
          1.15529465675354,
          1.1530966758728027,
          1.1599582433700562,
          1.1590708494186401,
          1.159595012664795,
          1.1614537239074707,
          1.1633858680725098,
          1.165243148803711,
          1.1625880002975464,
          1.1641308069229126,
          1.161170482635498,
          1.1598236560821533,
          1.1598910093307495,
          1.1683744192123413,
          1.1559356451034546,
          1.1601735353469849,
          1.158077597618103,
          1.1615750789642334,
          1.1556684970855713,
          1.1568450927734375,
          1.1588693857192993,
          1.159366488456726,
          1.1485671997070312,
          1.1447803974151611,
          1.1442302465438843,
          1.1367381811141968,
          1.1316184997558594,
          1.1318106651306152,
          1.1370097398757935,
          1.1275737285614014,
          1.1243535280227661,
          1.1243914365768433,
          1.1206992864608765,
          1.1209003925323486,
          1.1291142702102661,
          1.1293565034866333,
          1.1330032348632812,
          1.1319644451141357,
          1.130684494972229,
          1.1302627325057983,
          1.1284515857696533,
          1.1273066997528076,
          1.1344043016433716,
          1.129407525062561,
          1.1311193704605103,
          1.1283371448516846,
          1.1258726119995117,
          1.1293054819107056,
          1.1335426568984985,
          1.1242523193359375,
          1.1276754140853882,
          1.1290504932403564,
          1.1330161094665527,
          1.1324644088745117,
          1.132387399673462,
          1.1329776048660278,
          1.1313369274139404,
          1.1359764337539673,
          1.1323232650756836,
          1.1373846530914307,
          1.1301988363265991,
          1.1285407543182373,
          1.1312217712402344,
          1.129586100578308,
          1.135344386100769,
          1.1332728862762451,
          1.1370097398757935,
          1.1439814567565918,
          1.14565908908844,
          1.1412137746810913,
          1.141291856765747,
          1.1330032348632812,
          1.134352684020996,
          1.1315417289733887,
          1.1340954303741455,
          1.132387399673462,
          1.130352258682251,
          1.1242270469665527,
          1.1146159172058105,
          1.115138053894043,
          1.12291419506073,
          1.1273066997528076,
          1.1299946308135986,
          1.1435105800628662
         ],
         "type": "candlestick",
         "x": [
          "2021-09-06T00:00:00",
          "2021-09-07T00:00:00",
          "2021-09-08T00:00:00",
          "2021-09-09T00:00:00",
          "2021-09-10T00:00:00",
          "2021-09-13T00:00:00",
          "2021-09-14T00:00:00",
          "2021-09-15T00:00:00",
          "2021-09-16T00:00:00",
          "2021-09-17T00:00:00",
          "2021-09-20T00:00:00",
          "2021-09-21T00:00:00",
          "2021-09-22T00:00:00",
          "2021-09-23T00:00:00",
          "2021-09-24T00:00:00",
          "2021-09-27T00:00:00",
          "2021-09-28T00:00:00",
          "2021-09-29T00:00:00",
          "2021-09-30T00:00:00",
          "2021-10-01T00:00:00",
          "2021-10-04T00:00:00",
          "2021-10-05T00:00:00",
          "2021-10-06T00:00:00",
          "2021-10-07T00:00:00",
          "2021-10-08T00:00:00",
          "2021-10-11T00:00:00",
          "2021-10-12T00:00:00",
          "2021-10-13T00:00:00",
          "2021-10-14T00:00:00",
          "2021-10-15T00:00:00",
          "2021-10-18T00:00:00",
          "2021-10-19T00:00:00",
          "2021-10-20T00:00:00",
          "2021-10-21T00:00:00",
          "2021-10-22T00:00:00",
          "2021-10-25T00:00:00",
          "2021-10-26T00:00:00",
          "2021-10-27T00:00:00",
          "2021-10-28T00:00:00",
          "2021-10-29T00:00:00",
          "2021-11-01T00:00:00",
          "2021-11-02T00:00:00",
          "2021-11-03T00:00:00",
          "2021-11-04T00:00:00",
          "2021-11-05T00:00:00",
          "2021-11-08T00:00:00",
          "2021-11-09T00:00:00",
          "2021-11-10T00:00:00",
          "2021-11-11T00:00:00",
          "2021-11-12T00:00:00",
          "2021-11-15T00:00:00",
          "2021-11-16T00:00:00",
          "2021-11-17T00:00:00",
          "2021-11-18T00:00:00",
          "2021-11-19T00:00:00",
          "2021-11-22T00:00:00",
          "2021-11-23T00:00:00",
          "2021-11-24T00:00:00",
          "2021-11-25T00:00:00",
          "2021-11-26T00:00:00",
          "2021-11-29T00:00:00",
          "2021-11-30T00:00:00",
          "2021-12-01T00:00:00",
          "2021-12-02T00:00:00",
          "2021-12-03T00:00:00",
          "2021-12-06T00:00:00",
          "2021-12-07T00:00:00",
          "2021-12-08T00:00:00",
          "2021-12-09T00:00:00",
          "2021-12-10T00:00:00",
          "2021-12-13T00:00:00",
          "2021-12-14T00:00:00",
          "2021-12-15T00:00:00",
          "2021-12-16T00:00:00",
          "2021-12-17T00:00:00",
          "2021-12-20T00:00:00",
          "2021-12-21T00:00:00",
          "2021-12-22T00:00:00",
          "2021-12-23T00:00:00",
          "2021-12-24T00:00:00",
          "2021-12-27T00:00:00",
          "2021-12-28T00:00:00",
          "2021-12-29T00:00:00",
          "2021-12-30T00:00:00",
          "2021-12-31T00:00:00",
          "2022-01-03T00:00:00",
          "2022-01-04T00:00:00",
          "2022-01-05T00:00:00",
          "2022-01-06T00:00:00",
          "2022-01-07T00:00:00",
          "2022-01-10T00:00:00",
          "2022-01-11T00:00:00",
          "2022-01-12T00:00:00",
          "2022-01-13T00:00:00",
          "2022-01-14T00:00:00",
          "2022-01-17T00:00:00",
          "2022-01-18T00:00:00",
          "2022-01-19T00:00:00",
          "2022-01-20T00:00:00",
          "2022-01-21T00:00:00",
          "2022-01-24T00:00:00",
          "2022-01-25T00:00:00",
          "2022-01-26T00:00:00",
          "2022-01-27T00:00:00",
          "2022-01-28T00:00:00",
          "2022-01-31T00:00:00",
          "2022-02-01T00:00:00",
          "2022-02-02T00:00:00",
          "2022-02-03T00:00:00",
          "2022-02-04T00:00:00"
         ]
        }
       ],
       "layout": {
        "autosize": true,
        "template": {
         "data": {
          "bar": [
           {
            "error_x": {
             "color": "#2a3f5f"
            },
            "error_y": {
             "color": "#2a3f5f"
            },
            "marker": {
             "line": {
              "color": "#E5ECF6",
              "width": 0.5
             },
             "pattern": {
              "fillmode": "overlay",
              "size": 10,
              "solidity": 0.2
             }
            },
            "type": "bar"
           }
          ],
          "barpolar": [
           {
            "marker": {
             "line": {
              "color": "#E5ECF6",
              "width": 0.5
             },
             "pattern": {
              "fillmode": "overlay",
              "size": 10,
              "solidity": 0.2
             }
            },
            "type": "barpolar"
           }
          ],
          "carpet": [
           {
            "aaxis": {
             "endlinecolor": "#2a3f5f",
             "gridcolor": "white",
             "linecolor": "white",
             "minorgridcolor": "white",
             "startlinecolor": "#2a3f5f"
            },
            "baxis": {
             "endlinecolor": "#2a3f5f",
             "gridcolor": "white",
             "linecolor": "white",
             "minorgridcolor": "white",
             "startlinecolor": "#2a3f5f"
            },
            "type": "carpet"
           }
          ],
          "choropleth": [
           {
            "colorbar": {
             "outlinewidth": 0,
             "ticks": ""
            },
            "type": "choropleth"
           }
          ],
          "contour": [
           {
            "colorbar": {
             "outlinewidth": 0,
             "ticks": ""
            },
            "colorscale": [
             [
              0,
              "#0d0887"
             ],
             [
              0.1111111111111111,
              "#46039f"
             ],
             [
              0.2222222222222222,
              "#7201a8"
             ],
             [
              0.3333333333333333,
              "#9c179e"
             ],
             [
              0.4444444444444444,
              "#bd3786"
             ],
             [
              0.5555555555555556,
              "#d8576b"
             ],
             [
              0.6666666666666666,
              "#ed7953"
             ],
             [
              0.7777777777777778,
              "#fb9f3a"
             ],
             [
              0.8888888888888888,
              "#fdca26"
             ],
             [
              1,
              "#f0f921"
             ]
            ],
            "type": "contour"
           }
          ],
          "contourcarpet": [
           {
            "colorbar": {
             "outlinewidth": 0,
             "ticks": ""
            },
            "type": "contourcarpet"
           }
          ],
          "heatmap": [
           {
            "colorbar": {
             "outlinewidth": 0,
             "ticks": ""
            },
            "colorscale": [
             [
              0,
              "#0d0887"
             ],
             [
              0.1111111111111111,
              "#46039f"
             ],
             [
              0.2222222222222222,
              "#7201a8"
             ],
             [
              0.3333333333333333,
              "#9c179e"
             ],
             [
              0.4444444444444444,
              "#bd3786"
             ],
             [
              0.5555555555555556,
              "#d8576b"
             ],
             [
              0.6666666666666666,
              "#ed7953"
             ],
             [
              0.7777777777777778,
              "#fb9f3a"
             ],
             [
              0.8888888888888888,
              "#fdca26"
             ],
             [
              1,
              "#f0f921"
             ]
            ],
            "type": "heatmap"
           }
          ],
          "heatmapgl": [
           {
            "colorbar": {
             "outlinewidth": 0,
             "ticks": ""
            },
            "colorscale": [
             [
              0,
              "#0d0887"
             ],
             [
              0.1111111111111111,
              "#46039f"
             ],
             [
              0.2222222222222222,
              "#7201a8"
             ],
             [
              0.3333333333333333,
              "#9c179e"
             ],
             [
              0.4444444444444444,
              "#bd3786"
             ],
             [
              0.5555555555555556,
              "#d8576b"
             ],
             [
              0.6666666666666666,
              "#ed7953"
             ],
             [
              0.7777777777777778,
              "#fb9f3a"
             ],
             [
              0.8888888888888888,
              "#fdca26"
             ],
             [
              1,
              "#f0f921"
             ]
            ],
            "type": "heatmapgl"
           }
          ],
          "histogram": [
           {
            "marker": {
             "pattern": {
              "fillmode": "overlay",
              "size": 10,
              "solidity": 0.2
             }
            },
            "type": "histogram"
           }
          ],
          "histogram2d": [
           {
            "colorbar": {
             "outlinewidth": 0,
             "ticks": ""
            },
            "colorscale": [
             [
              0,
              "#0d0887"
             ],
             [
              0.1111111111111111,
              "#46039f"
             ],
             [
              0.2222222222222222,
              "#7201a8"
             ],
             [
              0.3333333333333333,
              "#9c179e"
             ],
             [
              0.4444444444444444,
              "#bd3786"
             ],
             [
              0.5555555555555556,
              "#d8576b"
             ],
             [
              0.6666666666666666,
              "#ed7953"
             ],
             [
              0.7777777777777778,
              "#fb9f3a"
             ],
             [
              0.8888888888888888,
              "#fdca26"
             ],
             [
              1,
              "#f0f921"
             ]
            ],
            "type": "histogram2d"
           }
          ],
          "histogram2dcontour": [
           {
            "colorbar": {
             "outlinewidth": 0,
             "ticks": ""
            },
            "colorscale": [
             [
              0,
              "#0d0887"
             ],
             [
              0.1111111111111111,
              "#46039f"
             ],
             [
              0.2222222222222222,
              "#7201a8"
             ],
             [
              0.3333333333333333,
              "#9c179e"
             ],
             [
              0.4444444444444444,
              "#bd3786"
             ],
             [
              0.5555555555555556,
              "#d8576b"
             ],
             [
              0.6666666666666666,
              "#ed7953"
             ],
             [
              0.7777777777777778,
              "#fb9f3a"
             ],
             [
              0.8888888888888888,
              "#fdca26"
             ],
             [
              1,
              "#f0f921"
             ]
            ],
            "type": "histogram2dcontour"
           }
          ],
          "mesh3d": [
           {
            "colorbar": {
             "outlinewidth": 0,
             "ticks": ""
            },
            "type": "mesh3d"
           }
          ],
          "parcoords": [
           {
            "line": {
             "colorbar": {
              "outlinewidth": 0,
              "ticks": ""
             }
            },
            "type": "parcoords"
           }
          ],
          "pie": [
           {
            "automargin": true,
            "type": "pie"
           }
          ],
          "scatter": [
           {
            "marker": {
             "colorbar": {
              "outlinewidth": 0,
              "ticks": ""
             }
            },
            "type": "scatter"
           }
          ],
          "scatter3d": [
           {
            "line": {
             "colorbar": {
              "outlinewidth": 0,
              "ticks": ""
             }
            },
            "marker": {
             "colorbar": {
              "outlinewidth": 0,
              "ticks": ""
             }
            },
            "type": "scatter3d"
           }
          ],
          "scattercarpet": [
           {
            "marker": {
             "colorbar": {
              "outlinewidth": 0,
              "ticks": ""
             }
            },
            "type": "scattercarpet"
           }
          ],
          "scattergeo": [
           {
            "marker": {
             "colorbar": {
              "outlinewidth": 0,
              "ticks": ""
             }
            },
            "type": "scattergeo"
           }
          ],
          "scattergl": [
           {
            "marker": {
             "colorbar": {
              "outlinewidth": 0,
              "ticks": ""
             }
            },
            "type": "scattergl"
           }
          ],
          "scattermapbox": [
           {
            "marker": {
             "colorbar": {
              "outlinewidth": 0,
              "ticks": ""
             }
            },
            "type": "scattermapbox"
           }
          ],
          "scatterpolar": [
           {
            "marker": {
             "colorbar": {
              "outlinewidth": 0,
              "ticks": ""
             }
            },
            "type": "scatterpolar"
           }
          ],
          "scatterpolargl": [
           {
            "marker": {
             "colorbar": {
              "outlinewidth": 0,
              "ticks": ""
             }
            },
            "type": "scatterpolargl"
           }
          ],
          "scatterternary": [
           {
            "marker": {
             "colorbar": {
              "outlinewidth": 0,
              "ticks": ""
             }
            },
            "type": "scatterternary"
           }
          ],
          "surface": [
           {
            "colorbar": {
             "outlinewidth": 0,
             "ticks": ""
            },
            "colorscale": [
             [
              0,
              "#0d0887"
             ],
             [
              0.1111111111111111,
              "#46039f"
             ],
             [
              0.2222222222222222,
              "#7201a8"
             ],
             [
              0.3333333333333333,
              "#9c179e"
             ],
             [
              0.4444444444444444,
              "#bd3786"
             ],
             [
              0.5555555555555556,
              "#d8576b"
             ],
             [
              0.6666666666666666,
              "#ed7953"
             ],
             [
              0.7777777777777778,
              "#fb9f3a"
             ],
             [
              0.8888888888888888,
              "#fdca26"
             ],
             [
              1,
              "#f0f921"
             ]
            ],
            "type": "surface"
           }
          ],
          "table": [
           {
            "cells": {
             "fill": {
              "color": "#EBF0F8"
             },
             "line": {
              "color": "white"
             }
            },
            "header": {
             "fill": {
              "color": "#C8D4E3"
             },
             "line": {
              "color": "white"
             }
            },
            "type": "table"
           }
          ]
         },
         "layout": {
          "annotationdefaults": {
           "arrowcolor": "#2a3f5f",
           "arrowhead": 0,
           "arrowwidth": 1
          },
          "autotypenumbers": "strict",
          "coloraxis": {
           "colorbar": {
            "outlinewidth": 0,
            "ticks": ""
           }
          },
          "colorscale": {
           "diverging": [
            [
             0,
             "#8e0152"
            ],
            [
             0.1,
             "#c51b7d"
            ],
            [
             0.2,
             "#de77ae"
            ],
            [
             0.3,
             "#f1b6da"
            ],
            [
             0.4,
             "#fde0ef"
            ],
            [
             0.5,
             "#f7f7f7"
            ],
            [
             0.6,
             "#e6f5d0"
            ],
            [
             0.7,
             "#b8e186"
            ],
            [
             0.8,
             "#7fbc41"
            ],
            [
             0.9,
             "#4d9221"
            ],
            [
             1,
             "#276419"
            ]
           ],
           "sequential": [
            [
             0,
             "#0d0887"
            ],
            [
             0.1111111111111111,
             "#46039f"
            ],
            [
             0.2222222222222222,
             "#7201a8"
            ],
            [
             0.3333333333333333,
             "#9c179e"
            ],
            [
             0.4444444444444444,
             "#bd3786"
            ],
            [
             0.5555555555555556,
             "#d8576b"
            ],
            [
             0.6666666666666666,
             "#ed7953"
            ],
            [
             0.7777777777777778,
             "#fb9f3a"
            ],
            [
             0.8888888888888888,
             "#fdca26"
            ],
            [
             1,
             "#f0f921"
            ]
           ],
           "sequentialminus": [
            [
             0,
             "#0d0887"
            ],
            [
             0.1111111111111111,
             "#46039f"
            ],
            [
             0.2222222222222222,
             "#7201a8"
            ],
            [
             0.3333333333333333,
             "#9c179e"
            ],
            [
             0.4444444444444444,
             "#bd3786"
            ],
            [
             0.5555555555555556,
             "#d8576b"
            ],
            [
             0.6666666666666666,
             "#ed7953"
            ],
            [
             0.7777777777777778,
             "#fb9f3a"
            ],
            [
             0.8888888888888888,
             "#fdca26"
            ],
            [
             1,
             "#f0f921"
            ]
           ]
          },
          "colorway": [
           "#636efa",
           "#EF553B",
           "#00cc96",
           "#ab63fa",
           "#FFA15A",
           "#19d3f3",
           "#FF6692",
           "#B6E880",
           "#FF97FF",
           "#FECB52"
          ],
          "font": {
           "color": "#2a3f5f"
          },
          "geo": {
           "bgcolor": "white",
           "lakecolor": "white",
           "landcolor": "#E5ECF6",
           "showlakes": true,
           "showland": true,
           "subunitcolor": "white"
          },
          "hoverlabel": {
           "align": "left"
          },
          "hovermode": "closest",
          "mapbox": {
           "style": "light"
          },
          "paper_bgcolor": "white",
          "plot_bgcolor": "#E5ECF6",
          "polar": {
           "angularaxis": {
            "gridcolor": "white",
            "linecolor": "white",
            "ticks": ""
           },
           "bgcolor": "#E5ECF6",
           "radialaxis": {
            "gridcolor": "white",
            "linecolor": "white",
            "ticks": ""
           }
          },
          "scene": {
           "xaxis": {
            "backgroundcolor": "#E5ECF6",
            "gridcolor": "white",
            "gridwidth": 2,
            "linecolor": "white",
            "showbackground": true,
            "ticks": "",
            "zerolinecolor": "white"
           },
           "yaxis": {
            "backgroundcolor": "#E5ECF6",
            "gridcolor": "white",
            "gridwidth": 2,
            "linecolor": "white",
            "showbackground": true,
            "ticks": "",
            "zerolinecolor": "white"
           },
           "zaxis": {
            "backgroundcolor": "#E5ECF6",
            "gridcolor": "white",
            "gridwidth": 2,
            "linecolor": "white",
            "showbackground": true,
            "ticks": "",
            "zerolinecolor": "white"
           }
          },
          "shapedefaults": {
           "line": {
            "color": "#2a3f5f"
           }
          },
          "ternary": {
           "aaxis": {
            "gridcolor": "white",
            "linecolor": "white",
            "ticks": ""
           },
           "baxis": {
            "gridcolor": "white",
            "linecolor": "white",
            "ticks": ""
           },
           "bgcolor": "#E5ECF6",
           "caxis": {
            "gridcolor": "white",
            "linecolor": "white",
            "ticks": ""
           }
          },
          "title": {
           "x": 0.05
          },
          "xaxis": {
           "automargin": true,
           "gridcolor": "white",
           "linecolor": "white",
           "ticks": "",
           "title": {
            "standoff": 15
           },
           "zerolinecolor": "white",
           "zerolinewidth": 2
          },
          "yaxis": {
           "automargin": true,
           "gridcolor": "white",
           "linecolor": "white",
           "ticks": "",
           "title": {
            "standoff": 15
           },
           "zerolinecolor": "white",
           "zerolinewidth": 2
          }
         }
        },
        "title": {
         "text": "EURUSD=X"
        },
        "xaxis": {
         "autorange": true,
         "range": [
          "2021-09-05 12:00",
          "2022-02-04 12:00"
         ],
         "rangeslider": {
          "autorange": true,
          "range": [
           "2021-09-05 12:00",
           "2022-02-04 12:00"
          ],
          "yaxis": {
           "_template": null,
           "rangemode": "match"
          }
         },
         "type": "date"
        },
        "yaxis": {
         "autorange": true,
         "range": [
          1.1080878840552435,
          1.1930247677697077
         ]
        }
       }
      },
      "image/png": "[encoded data removed]",
      "text/html": [
       "<div>                            <div id=\"430af90b-255d-4061-8dff-07db3dfc3021\" class=\"plotly-graph-div\" style=\"height:525px; width:100%;\"></div>            <script type=\"text/javascript\">                require([\"plotly\"], function(Plotly) {                    window.PLOTLYENV=window.PLOTLYENV || {};                                    if (document.getElementById(\"430af90b-255d-4061-8dff-07db3dfc3021\")) {                    Plotly.newPlot(                        \"430af90b-255d-4061-8dff-07db3dfc3021\",                        [{\"close\":[1.1885942220687866,1.1875073909759521,1.184356927871704,1.1819101572036743,1.1825922727584839,1.1811953783035278,1.1811953783035278,1.1804981231689453,1.1819995641708374,1.176747441291809,1.1729930639266968,1.1730204820632935,1.17229163646698,1.168770432472229,1.1740258932113647,1.1723054647445679,1.1696795225143433,1.1686338186264038,1.1601601839065552,1.1574475765228271,1.160725712776184,1.1618449687957764,1.1596084833145142,1.1555349826812744,1.1559758186340332,1.1566041707992554,1.1553747653961182,1.15340256690979,1.1599582433700562,1.159151554107666,1.1597026586532593,1.161386251449585,1.1631964445114136,1.1655012369155884,1.1625338792800903,1.1640088558197021,1.161170482635498,1.1598236560821533,1.1600120067596436,1.1683608293533325,1.1556684970855713,1.1599582433700562,1.1579434871673584,1.1615750789642334,1.1555349826812744,1.1568851470947266,1.159151554107666,1.1595547199249268,1.148593544960022,1.145081877708435,1.144164800643921,1.1366478204727173,1.1321182250976562,1.1321182250976562,1.1368415355682373,1.1275737285614014,1.12421452999115,1.1244926452636719,1.1202975511550903,1.1209630966186523,1.1293182373046875,1.1293437480926514,1.1330289840698242,1.1319515705108643,1.1306205987930298,1.1304799318313599,1.128668189048767,1.1276500225067139,1.1345586776733398,1.1293309926986694,1.131183385848999,1.1285407543182373,1.1261261701583862,1.1290758848190308,1.1334141492843628,1.1243535280227661,1.1277517080307007,1.128757357597351,1.1328877210617065,1.132733702659607,1.1324259042739868,1.1330032348632812,1.1314777135849,1.1360150575637817,1.132502794265747,1.1373459100723267,1.1302244663238525,1.1283625364303589,1.1313496828079224,1.1296881437301636,1.1353960037231445,1.1330417394638062,1.1366478204727173,1.144164800643921,1.1457115411758423,1.1410704851150513,1.1410574913024902,1.1329647302627563,1.1343399286270142,1.1313753128051758,1.1341469287872314,1.1324130296707153,1.130454421043396,1.1243535280227661,1.1147029399871826,1.1152374744415283,1.12296462059021,1.1273956298828125,1.1299946308135986,1.14357590675354],\"high\":[1.1886366605758667,1.1887779235839844,1.185400128364563,1.1841325759887695,1.185300350189209,1.1817537546157837,1.1846994161605835,1.183300256729126,1.1823126077651978,1.1789672374725342,1.1737089157104492,1.1748948097229004,1.1744533777236938,1.175100564956665,1.1748120784759521,1.1728004217147827,1.1705996990203857,1.1691995859146118,1.161170482635498,1.1608995199203491,1.1640088558197021,1.16225004196167,1.1599582433700562,1.157139539718628,1.1583727598190308,1.1587486267089844,1.1570056676864624,1.1579005718231201,1.162500023841858,1.1619800329208374,1.1612108945846558,1.1670000553131104,1.1654006242752075,1.1669973134994507,1.1654061079025269,1.1668611764907837,1.1629002094268799,1.162439227104187,1.1693171262741089,1.1691803932189941,1.159326195716858,1.1614995002746582,1.159900426864624,1.1617100238800049,1.1564704179763794,1.1595547199249268,1.1609008312225342,1.1598236560821533,1.1491611003875732,1.1459873914718628,1.1464208364486694,1.1387006044387817,1.1334000825881958,1.1359764337539673,1.1370097398757935,1.1290504932403564,1.1273448467254639,1.1254544258117676,1.1230907440185547,1.1322002410888672,1.12980055809021,1.1381744146347046,1.1358473300933838,1.1348161697387695,1.1331830024719238,1.1310003995895386,1.1299434900283813,1.1339025497436523,1.1345586776733398,1.1322592496871948,1.1316057443618774,1.13275945186615,1.1278001070022583,1.1363636255264282,1.13490629196167,1.130454421043396,1.1303266286849976,1.134199619293213,1.1345586776733398,1.134429931640625,1.1335002183914185,1.1336004734039307,1.137000560760498,1.1359764337539673,1.1379153728485107,1.1375917196273804,1.1323001384735107,1.1345586776733398,1.1330673694610596,1.1359764337539673,1.1359764337539673,1.136899709701538,1.1433000564575195,1.1479079723358154,1.148369312286377,1.143458366394043,1.1423349380493164,1.1356796026229858,1.136893391609192,1.1361054182052612,1.1340954303741455,1.132502794265747,1.1313496828079224,1.12447988986969,1.1170064210891724,1.121692419052124,1.1279042959213257,1.132939100265503,1.1450687646865845,1.148369312286377],\"low\":[1.1857051849365234,1.1838297843933105,1.1803170442581177,1.1806097030639648,1.1819353103637695,1.1770604848861694,1.1801999807357788,1.1800997257232666,1.1751710176467896,1.1729655265808105,1.1700559854507446,1.1715912818908691,1.1717147827148438,1.1684194803237915,1.1701655387878418,1.1686612367630005,1.1669973134994507,1.1610087156295776,1.1570056676864624,1.1563901901245117,1.1588560342788696,1.1583056449890137,1.1530168056488037,1.1549345254898071,1.1542545557022095,1.15529465675354,1.1533892154693604,1.1530567407608032,1.1584665775299072,1.1588828563690186,1.1573002338409424,1.1614537239074707,1.1618045568466187,1.1633182764053345,1.1622366905212402,1.159326195716858,1.1585874557495117,1.1585336923599243,1.158319115638733,1.1546677350997925,1.1546677350997925,1.1579166650772095,1.1563634872436523,1.152923822402954,1.151410460472107,1.1551746129989624,1.157019019126892,1.1513441801071167,1.1454885005950928,1.1434059143066406,1.1416958570480347,1.1330673694610596,1.127052664756775,1.1315033435821533,1.1252391338348389,1.123822808265686,1.12271249294281,1.1187809705734253,1.1203980445861816,1.1207997798919678,1.125885248184204,1.1246063709259033,1.1304160356521606,1.1301862001419067,1.1267352104187012,1.1269001960754395,1.1231285333633423,1.12696373462677,1.1279425621032715,1.1267352104187012,1.126354455947876,1.1266590356826782,1.1249226331710815,1.1282098293304443,1.1268366575241089,1.1237343549728394,1.1261768341064453,1.1265320777893066,1.1291524171829224,1.1308379173278809,1.1304160356521606,1.1290377378463745,1.1275355815887451,1.1300712823867798,1.1305055618286133,1.1285407543182373,1.1273448467254639,1.1277644634246826,1.1285535097122192,1.1290504932403564,1.1288337707519531,1.1315544843673706,1.1355764865875244,1.1436413526535034,1.1410053968429565,1.1393154859542847,1.1329647302627563,1.1319515705108643,1.1330161094665527,1.1302244663238525,1.1291396617889404,1.1266844272613525,1.1272051334381104,1.1133501529693604,1.1123347282409668,1.114504098892212,1.1222084760665894,1.126697063446045,1.1272051334381104,1.1413440704345703],\"name\":\"market data\",\"open\":[1.1885942220687866,1.187394618988037,1.1845533847808838,1.1820330619812012,1.1823545694351196,1.1812511682510376,1.1810698509216309,1.18035888671875,1.1819353103637695,1.17648446559906,1.1728830337524414,1.1725666522979736,1.1726078987121582,1.1688934564590454,1.1741775274276733,1.1722092628479004,1.1696043014526367,1.168688416481018,1.1602274179458618,1.1574207544326782,1.160725712776184,1.1616560220718384,1.1595144271850586,1.1555349826812744,1.1559224128723145,1.1565908193588257,1.15529465675354,1.1530966758728027,1.1599582433700562,1.1590708494186401,1.159595012664795,1.1614537239074707,1.1633858680725098,1.165243148803711,1.1625880002975464,1.1641308069229126,1.161170482635498,1.1598236560821533,1.1598910093307495,1.1683744192123413,1.1559356451034546,1.1601735353469849,1.158077597618103,1.1615750789642334,1.1556684970855713,1.1568450927734375,1.1588693857192993,1.159366488456726,1.1485671997070312,1.1447803974151611,1.1442302465438843,1.1367381811141968,1.1316184997558594,1.1318106651306152,1.1370097398757935,1.1275737285614014,1.1243535280227661,1.1243914365768433,1.1206992864608765,1.1209003925323486,1.1291142702102661,1.1293565034866333,1.1330032348632812,1.1319644451141357,1.130684494972229,1.1302627325057983,1.1284515857696533,1.1273066997528076,1.1344043016433716,1.129407525062561,1.1311193704605103,1.1283371448516846,1.1258726119995117,1.1293054819107056,1.1335426568984985,1.1242523193359375,1.1276754140853882,1.1290504932403564,1.1330161094665527,1.1324644088745117,1.132387399673462,1.1329776048660278,1.1313369274139404,1.1359764337539673,1.1323232650756836,1.1373846530914307,1.1301988363265991,1.1285407543182373,1.1312217712402344,1.129586100578308,1.135344386100769,1.1332728862762451,1.1370097398757935,1.1439814567565918,1.14565908908844,1.1412137746810913,1.141291856765747,1.1330032348632812,1.134352684020996,1.1315417289733887,1.1340954303741455,1.132387399673462,1.130352258682251,1.1242270469665527,1.1146159172058105,1.115138053894043,1.12291419506073,1.1273066997528076,1.1299946308135986,1.1435105800628662],\"x\":[\"2021-09-06T00:00:00\",\"2021-09-07T00:00:00\",\"2021-09-08T00:00:00\",\"2021-09-09T00:00:00\",\"2021-09-10T00:00:00\",\"2021-09-13T00:00:00\",\"2021-09-14T00:00:00\",\"2021-09-15T00:00:00\",\"2021-09-16T00:00:00\",\"2021-09-17T00:00:00\",\"2021-09-20T00:00:00\",\"2021-09-21T00:00:00\",\"2021-09-22T00:00:00\",\"2021-09-23T00:00:00\",\"2021-09-24T00:00:00\",\"2021-09-27T00:00:00\",\"2021-09-28T00:00:00\",\"2021-09-29T00:00:00\",\"2021-09-30T00:00:00\",\"2021-10-01T00:00:00\",\"2021-10-04T00:00:00\",\"2021-10-05T00:00:00\",\"2021-10-06T00:00:00\",\"2021-10-07T00:00:00\",\"2021-10-08T00:00:00\",\"2021-10-11T00:00:00\",\"2021-10-12T00:00:00\",\"2021-10-13T00:00:00\",\"2021-10-14T00:00:00\",\"2021-10-15T00:00:00\",\"2021-10-18T00:00:00\",\"2021-10-19T00:00:00\",\"2021-10-20T00:00:00\",\"2021-10-21T00:00:00\",\"2021-10-22T00:00:00\",\"2021-10-25T00:00:00\",\"2021-10-26T00:00:00\",\"2021-10-27T00:00:00\",\"2021-10-28T00:00:00\",\"2021-10-29T00:00:00\",\"2021-11-01T00:00:00\",\"2021-11-02T00:00:00\",\"2021-11-03T00:00:00\",\"2021-11-04T00:00:00\",\"2021-11-05T00:00:00\",\"2021-11-08T00:00:00\",\"2021-11-09T00:00:00\",\"2021-11-10T00:00:00\",\"2021-11-11T00:00:00\",\"2021-11-12T00:00:00\",\"2021-11-15T00:00:00\",\"2021-11-16T00:00:00\",\"2021-11-17T00:00:00\",\"2021-11-18T00:00:00\",\"2021-11-19T00:00:00\",\"2021-11-22T00:00:00\",\"2021-11-23T00:00:00\",\"2021-11-24T00:00:00\",\"2021-11-25T00:00:00\",\"2021-11-26T00:00:00\",\"2021-11-29T00:00:00\",\"2021-11-30T00:00:00\",\"2021-12-01T00:00:00\",\"2021-12-02T00:00:00\",\"2021-12-03T00:00:00\",\"2021-12-06T00:00:00\",\"2021-12-07T00:00:00\",\"2021-12-08T00:00:00\",\"2021-12-09T00:00:00\",\"2021-12-10T00:00:00\",\"2021-12-13T00:00:00\",\"2021-12-14T00:00:00\",\"2021-12-15T00:00:00\",\"2021-12-16T00:00:00\",\"2021-12-17T00:00:00\",\"2021-12-20T00:00:00\",\"2021-12-21T00:00:00\",\"2021-12-22T00:00:00\",\"2021-12-23T00:00:00\",\"2021-12-24T00:00:00\",\"2021-12-27T00:00:00\",\"2021-12-28T00:00:00\",\"2021-12-29T00:00:00\",\"2021-12-30T00:00:00\",\"2021-12-31T00:00:00\",\"2022-01-03T00:00:00\",\"2022-01-04T00:00:00\",\"2022-01-05T00:00:00\",\"2022-01-06T00:00:00\",\"2022-01-07T00:00:00\",\"2022-01-10T00:00:00\",\"2022-01-11T00:00:00\",\"2022-01-12T00:00:00\",\"2022-01-13T00:00:00\",\"2022-01-14T00:00:00\",\"2022-01-17T00:00:00\",\"2022-01-18T00:00:00\",\"2022-01-19T00:00:00\",\"2022-01-20T00:00:00\",\"2022-01-21T00:00:00\",\"2022-01-24T00:00:00\",\"2022-01-25T00:00:00\",\"2022-01-26T00:00:00\",\"2022-01-27T00:00:00\",\"2022-01-28T00:00:00\",\"2022-01-31T00:00:00\",\"2022-02-01T00:00:00\",\"2022-02-02T00:00:00\",\"2022-02-03T00:00:00\",\"2022-02-04T00:00:00\"],\"type\":\"candlestick\"}],                        {\"template\":{\"data\":{\"bar\":[{\"error_x\":{\"color\":\"#2a3f5f\"},\"error_y\":{\"color\":\"#2a3f5f\"},\"marker\":{\"line\":{\"color\":\"#E5ECF6\",\"width\":0.5},\"pattern\":{\"fillmode\":\"overlay\",\"size\":10,\"solidity\":0.2}},\"type\":\"bar\"}],\"barpolar\":[{\"marker\":{\"line\":{\"color\":\"#E5ECF6\",\"width\":0.5},\"pattern\":{\"fillmode\":\"overlay\",\"size\":10,\"solidity\":0.2}},\"type\":\"barpolar\"}],\"carpet\":[{\"aaxis\":{\"endlinecolor\":\"#2a3f5f\",\"gridcolor\":\"white\",\"linecolor\":\"white\",\"minorgridcolor\":\"white\",\"startlinecolor\":\"#2a3f5f\"},\"baxis\":{\"endlinecolor\":\"#2a3f5f\",\"gridcolor\":\"white\",\"linecolor\":\"white\",\"minorgridcolor\":\"white\",\"startlinecolor\":\"#2a3f5f\"},\"type\":\"carpet\"}],\"choropleth\":[{\"colorbar\":{\"outlinewidth\":0,\"ticks\":\"\"},\"type\":\"choropleth\"}],\"contour\":[{\"colorbar\":{\"outlinewidth\":0,\"ticks\":\"\"},\"colorscale\":[[0.0,\"#0d0887\"],[0.1111111111111111,\"#46039f\"],[0.2222222222222222,\"#7201a8\"],[0.3333333333333333,\"#9c179e\"],[0.4444444444444444,\"#bd3786\"],[0.5555555555555556,\"#d8576b\"],[0.6666666666666666,\"#ed7953\"],[0.7777777777777778,\"#fb9f3a\"],[0.8888888888888888,\"#fdca26\"],[1.0,\"#f0f921\"]],\"type\":\"contour\"}],\"contourcarpet\":[{\"colorbar\":{\"outlinewidth\":0,\"ticks\":\"\"},\"type\":\"contourcarpet\"}],\"heatmap\":[{\"colorbar\":{\"outlinewidth\":0,\"ticks\":\"\"},\"colorscale\":[[0.0,\"#0d0887\"],[0.1111111111111111,\"#46039f\"],[0.2222222222222222,\"#7201a8\"],[0.3333333333333333,\"#9c179e\"],[0.4444444444444444,\"#bd3786\"],[0.5555555555555556,\"#d8576b\"],[0.6666666666666666,\"#ed7953\"],[0.7777777777777778,\"#fb9f3a\"],[0.8888888888888888,\"#fdca26\"],[1.0,\"#f0f921\"]],\"type\":\"heatmap\"}],\"heatmapgl\":[{\"colorbar\":{\"outlinewidth\":0,\"ticks\":\"\"},\"colorscale\":[[0.0,\"#0d0887\"],[0.1111111111111111,\"#46039f\"],[0.2222222222222222,\"#7201a8\"],[0.3333333333333333,\"#9c179e\"],[0.4444444444444444,\"#bd3786\"],[0.5555555555555556,\"#d8576b\"],[0.6666666666666666,\"#ed7953\"],[0.7777777777777778,\"#fb9f3a\"],[0.8888888888888888,\"#fdca26\"],[1.0,\"#f0f921\"]],\"type\":\"heatmapgl\"}],\"histogram\":[{\"marker\":{\"pattern\":{\"fillmode\":\"overlay\",\"size\":10,\"solidity\":0.2}},\"type\":\"histogram\"}],\"histogram2d\":[{\"colorbar\":{\"outlinewidth\":0,\"ticks\":\"\"},\"colorscale\":[[0.0,\"#0d0887\"],[0.1111111111111111,\"#46039f\"],[0.2222222222222222,\"#7201a8\"],[0.3333333333333333,\"#9c179e\"],[0.4444444444444444,\"#bd3786\"],[0.5555555555555556,\"#d8576b\"],[0.6666666666666666,\"#ed7953\"],[0.7777777777777778,\"#fb9f3a\"],[0.8888888888888888,\"#fdca26\"],[1.0,\"#f0f921\"]],\"type\":\"histogram2d\"}],\"histogram2dcontour\":[{\"colorbar\":{\"outlinewidth\":0,\"ticks\":\"\"},\"colorscale\":[[0.0,\"#0d0887\"],[0.1111111111111111,\"#46039f\"],[0.2222222222222222,\"#7201a8\"],[0.3333333333333333,\"#9c179e\"],[0.4444444444444444,\"#bd3786\"],[0.5555555555555556,\"#d8576b\"],[0.6666666666666666,\"#ed7953\"],[0.7777777777777778,\"#fb9f3a\"],[0.8888888888888888,\"#fdca26\"],[1.0,\"#f0f921\"]],\"type\":\"histogram2dcontour\"}],\"mesh3d\":[{\"colorbar\":{\"outlinewidth\":0,\"ticks\":\"\"},\"type\":\"mesh3d\"}],\"parcoords\":[{\"line\":{\"colorbar\":{\"outlinewidth\":0,\"ticks\":\"\"}},\"type\":\"parcoords\"}],\"pie\":[{\"automargin\":true,\"type\":\"pie\"}],\"scatter\":[{\"marker\":{\"colorbar\":{\"outlinewidth\":0,\"ticks\":\"\"}},\"type\":\"scatter\"}],\"scatter3d\":[{\"line\":{\"colorbar\":{\"outlinewidth\":0,\"ticks\":\"\"}},\"marker\":{\"colorbar\":{\"outlinewidth\":0,\"ticks\":\"\"}},\"type\":\"scatter3d\"}],\"scattercarpet\":[{\"marker\":{\"colorbar\":{\"outlinewidth\":0,\"ticks\":\"\"}},\"type\":\"scattercarpet\"}],\"scattergeo\":[{\"marker\":{\"colorbar\":{\"outlinewidth\":0,\"ticks\":\"\"}},\"type\":\"scattergeo\"}],\"scattergl\":[{\"marker\":{\"colorbar\":{\"outlinewidth\":0,\"ticks\":\"\"}},\"type\":\"scattergl\"}],\"scattermapbox\":[{\"marker\":{\"colorbar\":{\"outlinewidth\":0,\"ticks\":\"\"}},\"type\":\"scattermapbox\"}],\"scatterpolar\":[{\"marker\":{\"colorbar\":{\"outlinewidth\":0,\"ticks\":\"\"}},\"type\":\"scatterpolar\"}],\"scatterpolargl\":[{\"marker\":{\"colorbar\":{\"outlinewidth\":0,\"ticks\":\"\"}},\"type\":\"scatterpolargl\"}],\"scatterternary\":[{\"marker\":{\"colorbar\":{\"outlinewidth\":0,\"ticks\":\"\"}},\"type\":\"scatterternary\"}],\"surface\":[{\"colorbar\":{\"outlinewidth\":0,\"ticks\":\"\"},\"colorscale\":[[0.0,\"#0d0887\"],[0.1111111111111111,\"#46039f\"],[0.2222222222222222,\"#7201a8\"],[0.3333333333333333,\"#9c179e\"],[0.4444444444444444,\"#bd3786\"],[0.5555555555555556,\"#d8576b\"],[0.6666666666666666,\"#ed7953\"],[0.7777777777777778,\"#fb9f3a\"],[0.8888888888888888,\"#fdca26\"],[1.0,\"#f0f921\"]],\"type\":\"surface\"}],\"table\":[{\"cells\":{\"fill\":{\"color\":\"#EBF0F8\"},\"line\":{\"color\":\"white\"}},\"header\":{\"fill\":{\"color\":\"#C8D4E3\"},\"line\":{\"color\":\"white\"}},\"type\":\"table\"}]},\"layout\":{\"annotationdefaults\":{\"arrowcolor\":\"#2a3f5f\",\"arrowhead\":0,\"arrowwidth\":1},\"autotypenumbers\":\"strict\",\"coloraxis\":{\"colorbar\":{\"outlinewidth\":0,\"ticks\":\"\"}},\"colorscale\":{\"diverging\":[[0,\"#8e0152\"],[0.1,\"#c51b7d\"],[0.2,\"#de77ae\"],[0.3,\"#f1b6da\"],[0.4,\"#fde0ef\"],[0.5,\"#f7f7f7\"],[0.6,\"#e6f5d0\"],[0.7,\"#b8e186\"],[0.8,\"#7fbc41\"],[0.9,\"#4d9221\"],[1,\"#276419\"]],\"sequential\":[[0.0,\"#0d0887\"],[0.1111111111111111,\"#46039f\"],[0.2222222222222222,\"#7201a8\"],[0.3333333333333333,\"#9c179e\"],[0.4444444444444444,\"#bd3786\"],[0.5555555555555556,\"#d8576b\"],[0.6666666666666666,\"#ed7953\"],[0.7777777777777778,\"#fb9f3a\"],[0.8888888888888888,\"#fdca26\"],[1.0,\"#f0f921\"]],\"sequentialminus\":[[0.0,\"#0d0887\"],[0.1111111111111111,\"#46039f\"],[0.2222222222222222,\"#7201a8\"],[0.3333333333333333,\"#9c179e\"],[0.4444444444444444,\"#bd3786\"],[0.5555555555555556,\"#d8576b\"],[0.6666666666666666,\"#ed7953\"],[0.7777777777777778,\"#fb9f3a\"],[0.8888888888888888,\"#fdca26\"],[1.0,\"#f0f921\"]]},\"colorway\":[\"#636efa\",\"#EF553B\",\"#00cc96\",\"#ab63fa\",\"#FFA15A\",\"#19d3f3\",\"#FF6692\",\"#B6E880\",\"#FF97FF\",\"#FECB52\"],\"font\":{\"color\":\"#2a3f5f\"},\"geo\":{\"bgcolor\":\"white\",\"lakecolor\":\"white\",\"landcolor\":\"#E5ECF6\",\"showlakes\":true,\"showland\":true,\"subunitcolor\":\"white\"},\"hoverlabel\":{\"align\":\"left\"},\"hovermode\":\"closest\",\"mapbox\":{\"style\":\"light\"},\"paper_bgcolor\":\"white\",\"plot_bgcolor\":\"#E5ECF6\",\"polar\":{\"angularaxis\":{\"gridcolor\":\"white\",\"linecolor\":\"white\",\"ticks\":\"\"},\"bgcolor\":\"#E5ECF6\",\"radialaxis\":{\"gridcolor\":\"white\",\"linecolor\":\"white\",\"ticks\":\"\"}},\"scene\":{\"xaxis\":{\"backgroundcolor\":\"#E5ECF6\",\"gridcolor\":\"white\",\"gridwidth\":2,\"linecolor\":\"white\",\"showbackground\":true,\"ticks\":\"\",\"zerolinecolor\":\"white\"},\"yaxis\":{\"backgroundcolor\":\"#E5ECF6\",\"gridcolor\":\"white\",\"gridwidth\":2,\"linecolor\":\"white\",\"showbackground\":true,\"ticks\":\"\",\"zerolinecolor\":\"white\"},\"zaxis\":{\"backgroundcolor\":\"#E5ECF6\",\"gridcolor\":\"white\",\"gridwidth\":2,\"linecolor\":\"white\",\"showbackground\":true,\"ticks\":\"\",\"zerolinecolor\":\"white\"}},\"shapedefaults\":{\"line\":{\"color\":\"#2a3f5f\"}},\"ternary\":{\"aaxis\":{\"gridcolor\":\"white\",\"linecolor\":\"white\",\"ticks\":\"\"},\"baxis\":{\"gridcolor\":\"white\",\"linecolor\":\"white\",\"ticks\":\"\"},\"bgcolor\":\"#E5ECF6\",\"caxis\":{\"gridcolor\":\"white\",\"linecolor\":\"white\",\"ticks\":\"\"}},\"title\":{\"x\":0.05},\"xaxis\":{\"automargin\":true,\"gridcolor\":\"white\",\"linecolor\":\"white\",\"ticks\":\"\",\"title\":{\"standoff\":15},\"zerolinecolor\":\"white\",\"zerolinewidth\":2},\"yaxis\":{\"automargin\":true,\"gridcolor\":\"white\",\"linecolor\":\"white\",\"ticks\":\"\",\"title\":{\"standoff\":15},\"zerolinecolor\":\"white\",\"zerolinewidth\":2}}},\"title\":{\"text\":\"EURUSD=X\"}},                        {\"responsive\": true}                    ).then(function(){\n",
       "                            \n",
       "var gd = document.getElementById('430af90b-255d-4061-8dff-07db3dfc3021');\n",
       "var x = new MutationObserver(function (mutations, observer) {{\n",
       "        var display = window.getComputedStyle(gd).display;\n",
       "        if (!display || display === 'none') {{\n",
       "            console.log([gd, 'removed!']);\n",
       "            Plotly.purge(gd);\n",
       "            observer.disconnect();\n",
       "        }}\n",
       "}});\n",
       "\n",
       "// Listen for the removal of the full notebook cells\n",
       "var notebookContainer = gd.closest('#notebook-container');\n",
       "if (notebookContainer) {{\n",
       "    x.observe(notebookContainer, {childList: true});\n",
       "}}\n",
       "\n",
       "// Listen for the clearing of the current output cell\n",
       "var outputEl = gd.closest('.output');\n",
       "if (outputEl) {{\n",
       "    x.observe(outputEl, {childList: true});\n",
       "}}\n",
       "\n",
       "                        })                };                });            </script>        </div>"
      ]
     },
     "metadata": {},
     "output_type": "display_data"
    },
    {
     "name": "stdout",
     "output_type": "stream",
     "text": [
      "[*********************100%***********************]  1 of 1 completed\n"
     ]
    },
    {
     "data": {
      "application/vnd.plotly.v1+json": {
       "config": {
        "plotlyServerURL": "https://plot.ly"
       },
       "data": [
        {
         "close": [
          44329.0703125,
          39521.41796875,
          38997.87890625,
          39233.2265625,
          38002.7578125,
          38258.65234375,
          38997.02734375,
          38073.3359375,
          39900.29296875,
          40762.15234375,
          40615.28125,
          40312.578125,
          41172.41796875,
          40292.125,
          36534.49609375,
          34712.96875,
          37283.484375,
          38240.87890625,
          36550.9609375,
          36447.29296875,
          36858.828125,
          36112.015625,
          35113.8359375,
          35828.7734375,
          37835.90234375,
          41501.77734375,
          41152.0625,
          41527.53515625,
          42279.28125,
          44425.19140625,
          47910.8515625,
          46546.96484375,
          46648.671875,
          47508.265625,
          47357.20703125,
          49755.9609375,
          48601.88671875,
          49497.3671875,
          49455.80859375,
          53099.58984375,
          52494.6015625,
          53079.34765625,
          53408.671875,
          55238.7734375,
          56634.0625,
          53515.7421875,
          52123.00390625,
          52734.6015625,
          52347.99609375,
          54303.453125,
          52053.44921875,
          50421.9375,
          51892.3046875,
          53825.32421875,
          53531.98046875,
          53060.58203125,
          52591.9609375,
          54603.7734375,
          54214.62890625,
          53180.63671875,
          52915.76171875,
          53263.6015625,
          54741.9375,
          58305.0390625,
          57763.73828125,
          56588.421875,
          56736.26171875,
          56061.515625,
          56335.5390625,
          57219.65625,
          55914.40234375,
          53146.4453125,
          53339.00390625,
          50086.53125,
          51492.02734375,
          52889.74609375,
          52087.0625,
          50071.62890625,
          51188.46484375,
          50235.796875,
          51096.4609375,
          47323.1015625,
          48423.203125,
          50696.0859375,
          51189.44921875,
          50313.38671875,
          50560.609375,
          49953.89453125,
          47371.30859375,
          43486.58203125,
          43672.8671875,
          44827.5859375,
          44974.98046875,
          44519.9765625,
          42211.375,
          41739.88671875,
          43617.99609375,
          44292.69140625,
          41421.28125,
          41405.48828125,
          43307.62890625,
          42055.4921875,
          41104.5703125,
          41680.41796875,
          41542.9921875,
          41569.9140625,
          43354.8046875,
          42933.625,
          44849.703125,
          44886.01171875,
          44539.5,
          44871.05078125,
          44697.41015625,
          42064.8828125,
          40885.140625,
          41666.91796875,
          40712.71875,
          41926.33984375,
          41629.80078125,
          41105.72265625,
          40677.875,
          38520.26953125,
          38203.5078125,
          36575.8984375,
          36734.3828125,
          36914.7734375,
          36912.19921875,
          37599.6015625,
          38415.8203125,
          37175.2890625,
          37756.0703125,
          37824.1328125,
          37800.52734375,
          37028.76171875,
          37403.78515625,
          36800.8828125,
          35957.70703125,
          32135.849609375,
          30877.94140625,
          31986.818359375,
          32369.328125,
          32693.353515625,
          32783.68359375,
          33324.28515625,
          33889.109375,
          34206.4765625,
          33999.8046875,
          34270.41796875,
          34367.76171875,
          32702.763671875,
          32490.47265625,
          36247.984375,
          36195.83203125,
          36290.9765625
         ],
         "high": [
          44384.734375,
          44487.54296875,
          39952.78125,
          39943.24609375,
          39785.890625,
          38908.546875,
          39252.5546875,
          39505.1484375,
          39998.47265625,
          40996.84765625,
          41129.875,
          40904.46484375,
          41610.265625,
          41215.05859375,
          40359.640625,
          37162.1875,
          37449.11328125,
          38274.5546875,
          38415.4765625,
          36685.9140625,
          37477.65625,
          37792.99609375,
          36578.73828125,
          36501.91796875,
          38067.21484375,
          41776.98046875,
          41644.1953125,
          42376.15625,
          42535.84375,
          44701.359375,
          48092.6171875,
          47891.09765625,
          48419.515625,
          47879.66796875,
          48723.90234375,
          50008.02734375,
          49838.77734375,
          49756.46875,
          50443.34765625,
          54100.47265625,
          53686.265625,
          53143.30859375,
          54052.41796875,
          55387.92578125,
          57457.26171875,
          57214.1328125,
          54746.94140625,
          53026.13671875,
          52830.96484375,
          54906.25390625,
          54507.08984375,
          52939.00390625,
          53186.0234375,
          54531.99609375,
          53913.70703125,
          53979.46484375,
          53961.04296875,
          55465.6875,
          54845.921875,
          54351.234375,
          54139.5234375,
          53318.31640625,
          54741.9375,
          58408.390625,
          59153.05859375,
          59496.1484375,
          57220.96875,
          57222.5703125,
          56725.39453125,
          57244.42578125,
          57891.78125,
          56058.0859375,
          53709.92578125,
          53811.9765625,
          51562.8359375,
          53033.87890625,
          53161.94140625,
          52559.125,
          51445.2578125,
          51405.65625,
          52950.41015625,
          52793.203125,
          48877.42578125,
          50827.2421875,
          52219.0078125,
          51991.2421875,
          52107.59375,
          50583.859375,
          50839.18359375,
          47642.140625,
          43988.125,
          45136.08203125,
          46178.33203125,
          45188.109375,
          44787.50390625,
          44288.5546875,
          43702.5625,
          44821.80859375,
          44382.2734375,
          43013.81640625,
          43813.046875,
          43746.671875,
          42383.76171875,
          42094.16796875,
          42784.4140625,
          42023.42578125,
          43688.65234375,
          43932.41015625,
          45285.33984375,
          45774.1171875,
          45199.01953125,
          45242.8515625,
          45876.65625,
          44732.22265625,
          42554.26171875,
          42321.1015625,
          42793.97265625,
          42049.8671875,
          42097.4296875,
          41849.96484375,
          41956.5,
          41486.54296875,
          38691.01953125,
          38196.99609375,
          37170.08203125,
          37580.796875,
          37231.55078125,
          37828.1171875,
          38559.484375,
          38574.16796875,
          37969.2734375,
          38303.55859375,
          38051.3828125,
          37857.53125,
          37549.37109375,
          37446.6640625,
          38251.6484375,
          36321.8125,
          32339.90234375,
          32121.720703125,
          32899.05859375,
          33179.37109375,
          34411.11328125,
          33333.33984375,
          34046.19921875,
          34599.3984375,
          34334.97265625,
          34406.03515625,
          34795.5703125,
          34456.8671875,
          32490.47265625,
          36271.48828125,
          36550.44140625,
          36404.00390625
         ],
         "low": [
          43032.125,
          36544.40234375,
          37696.3125,
          38623.8125,
          37539.69140625,
          37934.31640625,
          37910.78125,
          36921.5859375,
          37895.51171875,
          39622.33984375,
          40008.6328125,
          39936.24609375,
          40158.859375,
          40012.6953125,
          36324.09375,
          33926.77734375,
          34668.08984375,
          36877.66796875,
          34920.03125,
          35631.02734375,
          34853.3359375,
          36074.2578125,
          35026.08203125,
          34946.44140625,
          35731.65234375,
          37424.3828125,
          40939.890625,
          40674.0546875,
          40473.23828125,
          42237.53125,
          43739.53515625,
          46308.5234375,
          46490.47265625,
          46447.52734375,
          46899.8359375,
          47119.6328125,
          47242.48046875,
          47064.27734375,
          49136.92578125,
          49035.86328125,
          51903.15234375,
          51034.9140625,
          51725.234375,
          52881.78125,
          54619.55859375,
          53432.02734375,
          51720.3359375,
          51379.49609375,
          51231.1875,
          52119.6875,
          51741.35546875,
          50162.48046875,
          49810.27734375,
          51632.07421875,
          52692.57421875,
          51994.2109375,
          51686.59765625,
          52312.24609375,
          52820.171875,
          52647.94921875,
          52592.55859375,
          52083.0625,
          53181.3671875,
          54756.703125,
          57269.1328125,
          55065.328125,
          55921.48828125,
          54445.7421875,
          55316.828125,
          55581.0859375,
          55891.98828125,
          51952.140625,
          51727.15234375,
          49726.46875,
          49053.81640625,
          50916.28125,
          51934.4375,
          49562.796875,
          49416.91015625,
          49940.3984375,
          51002.73046875,
          47323.1015625,
          47410.1953125,
          47329.26171875,
          50321.47265625,
          49508.78125,
          49983.9296875,
          49311.75,
          46423.78125,
          37893.53125,
          42299.375,
          41835.8671875,
          44523.50390625,
          43256.89453125,
          41934.921875,
          41545.859375,
          41473.98828125,
          43055.4296875,
          40644.0625,
          41143.7109375,
          41480.96875,
          41949.87109375,
          40375.58984375,
          40567.4765625,
          41372.75,
          40365.48046875,
          41408.41015625,
          42874.9140625,
          42421.75390625,
          44604.046875,
          44368.91015625,
          43757.65234375,
          44609.05859375,
          41924.26171875,
          40696.171875,
          40583.375,
          40254.16015625,
          40696.9296875,
          41196.7109375,
          40575.27734375,
          40554.5703125,
          37839.75,
          37721.00390625,
          36222.50390625,
          35799.8984375,
          36386.01171875,
          35228.76171875,
          36550.12890625,
          37401.8203125,
          37053.21484375,
          36655.234375,
          37378.80078125,
          37398.0625,
          36531.2578125,
          36422.046875,
          36389.53125,
          35950.9921875,
          31548.890625,
          30277.66015625,
          30654.947265625,
          29323.4921875,
          31627.01171875,
          32362.68359375,
          31971.115234375,
          32534.775390625,
          33550.203125,
          33595.703125,
          32919.34375,
          33847.98046875,
          32579.46875,
          32245.677734375,
          32399.46875,
          35843.78125,
          36114.6953125
         ],
         "name": "market data",
         "open": [
          43556.62890625,
          44351.76171875,
          39535.46484375,
          38729.96484375,
          39237.65625,
          37990.84375,
          38263.02734375,
          38991.8984375,
          38070.77734375,
          39904.95703125,
          40747.39453125,
          40604.78125,
          40317.69921875,
          41164.30859375,
          40293.13671875,
          36678.125,
          34699.5546875,
          37271.3203125,
          38240.203125,
          36551.93359375,
          36451.58984375,
          36880.70703125,
          36082.23046875,
          35139.8828125,
          35817.484375,
          37858.234375,
          41519.48046875,
          41124.9296875,
          41535.25390625,
          42332.70703125,
          44400.91796875,
          47891.09765625,
          46543.64453125,
          46615.76953125,
          47494.953125,
          47324.8203125,
          49792.34765625,
          48599.45703125,
          49472.99609375,
          49476.83984375,
          53113.01953125,
          52490.69921875,
          53075.1953125,
          53423.3828125,
          55258.1953125,
          56642.125,
          53539.5859375,
          52125.03125,
          52712.890625,
          52316.2890625,
          54297.3671875,
          52043.27734375,
          50411.8828125,
          51894.6484375,
          53835.1796875,
          53498.81640625,
          53061.87109375,
          52556.48046875,
          54627.8984375,
          54190.3125,
          53187.4296875,
          52866.58984375,
          53287.35546875,
          54756.703125,
          58290.2890625,
          57747.7890625,
          56574.1953125,
          56661.15234375,
          56063.421875,
          56323.16796875,
          57267.24609375,
          56058.0859375,
          53127.33984375,
          53332.04296875,
          50046.0625,
          51488.04296875,
          52919.2578125,
          52066.10546875,
          50085.2109375,
          51185.59765625,
          51025.73828125,
          52600.23828125,
          47470.33203125,
          48421.38671875,
          50734.55859375,
          51210.30078125,
          50227.37109375,
          50549.6015625,
          49981.62109375,
          47485.87890625,
          43487.3046875,
          43712.34765625,
          44826.8828125,
          44946.20703125,
          44471.74609375,
          42184.83203125,
          41758.73046875,
          43611.234375,
          44307.1953125,
          41396.765625,
          42975.203125,
          43310.9453125,
          42045.171875,
          41119.79296875,
          41684.94921875,
          41543.0390625,
          41575.05859375,
          43355.234375,
          42931.7109375,
          44868.703125,
          44914.91015625,
          44538.46875,
          44864.953125,
          44732.22265625,
          42095.8359375,
          40925.54296875,
          41659.1875,
          40717.37890625,
          41921.16796875,
          41628.32421875,
          41106.375,
          40679.453125,
          38517.18359375,
          38196.99609375,
          36579.03515625,
          36735.07421875,
          36913.56640625,
          36910.6484375,
          37605.16796875,
          38413.7578125,
          37181.66015625,
          37757.99609375,
          37819.44140625,
          37804.2421875,
          37028.34375,
          37402.37890625,
          36800.6171875,
          35974.66796875,
          32148.4296875,
          30893.021484375,
          31985.873046875,
          32369.75,
          32690.267578125,
          32774.57421875,
          33315.5,
          33885.86328125,
          34218.80078125,
          34002.20703125,
          34269.203125,
          34368.15234375,
          32695.525390625,
          32485.8046875,
          36248.515625,
          36206.8515625
         ],
         "type": "candlestick",
         "x": [
          "2021-09-06T00:00:00",
          "2021-09-07T00:00:00",
          "2021-09-08T00:00:00",
          "2021-09-09T00:00:00",
          "2021-09-10T00:00:00",
          "2021-09-11T00:00:00",
          "2021-09-12T00:00:00",
          "2021-09-13T00:00:00",
          "2021-09-14T00:00:00",
          "2021-09-15T00:00:00",
          "2021-09-16T00:00:00",
          "2021-09-17T00:00:00",
          "2021-09-18T00:00:00",
          "2021-09-19T00:00:00",
          "2021-09-20T00:00:00",
          "2021-09-21T00:00:00",
          "2021-09-22T00:00:00",
          "2021-09-23T00:00:00",
          "2021-09-24T00:00:00",
          "2021-09-25T00:00:00",
          "2021-09-26T00:00:00",
          "2021-09-27T00:00:00",
          "2021-09-28T00:00:00",
          "2021-09-29T00:00:00",
          "2021-09-30T00:00:00",
          "2021-10-01T00:00:00",
          "2021-10-02T00:00:00",
          "2021-10-03T00:00:00",
          "2021-10-04T00:00:00",
          "2021-10-05T00:00:00",
          "2021-10-06T00:00:00",
          "2021-10-07T00:00:00",
          "2021-10-08T00:00:00",
          "2021-10-09T00:00:00",
          "2021-10-10T00:00:00",
          "2021-10-11T00:00:00",
          "2021-10-12T00:00:00",
          "2021-10-13T00:00:00",
          "2021-10-14T00:00:00",
          "2021-10-15T00:00:00",
          "2021-10-16T00:00:00",
          "2021-10-17T00:00:00",
          "2021-10-18T00:00:00",
          "2021-10-19T00:00:00",
          "2021-10-20T00:00:00",
          "2021-10-21T00:00:00",
          "2021-10-22T00:00:00",
          "2021-10-23T00:00:00",
          "2021-10-24T00:00:00",
          "2021-10-25T00:00:00",
          "2021-10-26T00:00:00",
          "2021-10-27T00:00:00",
          "2021-10-28T00:00:00",
          "2021-10-29T00:00:00",
          "2021-10-30T00:00:00",
          "2021-10-31T00:00:00",
          "2021-11-01T00:00:00",
          "2021-11-02T00:00:00",
          "2021-11-03T00:00:00",
          "2021-11-04T00:00:00",
          "2021-11-05T00:00:00",
          "2021-11-06T00:00:00",
          "2021-11-07T00:00:00",
          "2021-11-08T00:00:00",
          "2021-11-09T00:00:00",
          "2021-11-10T00:00:00",
          "2021-11-11T00:00:00",
          "2021-11-12T00:00:00",
          "2021-11-13T00:00:00",
          "2021-11-14T00:00:00",
          "2021-11-15T00:00:00",
          "2021-11-16T00:00:00",
          "2021-11-17T00:00:00",
          "2021-11-18T00:00:00",
          "2021-11-19T00:00:00",
          "2021-11-20T00:00:00",
          "2021-11-21T00:00:00",
          "2021-11-22T00:00:00",
          "2021-11-23T00:00:00",
          "2021-11-24T00:00:00",
          "2021-11-25T00:00:00",
          "2021-11-26T00:00:00",
          "2021-11-27T00:00:00",
          "2021-11-28T00:00:00",
          "2021-11-29T00:00:00",
          "2021-11-30T00:00:00",
          "2021-12-01T00:00:00",
          "2021-12-02T00:00:00",
          "2021-12-03T00:00:00",
          "2021-12-04T00:00:00",
          "2021-12-05T00:00:00",
          "2021-12-06T00:00:00",
          "2021-12-07T00:00:00",
          "2021-12-08T00:00:00",
          "2021-12-09T00:00:00",
          "2021-12-10T00:00:00",
          "2021-12-11T00:00:00",
          "2021-12-12T00:00:00",
          "2021-12-13T00:00:00",
          "2021-12-14T00:00:00",
          "2021-12-15T00:00:00",
          "2021-12-16T00:00:00",
          "2021-12-17T00:00:00",
          "2021-12-18T00:00:00",
          "2021-12-19T00:00:00",
          "2021-12-20T00:00:00",
          "2021-12-21T00:00:00",
          "2021-12-22T00:00:00",
          "2021-12-23T00:00:00",
          "2021-12-24T00:00:00",
          "2021-12-25T00:00:00",
          "2021-12-26T00:00:00",
          "2021-12-27T00:00:00",
          "2021-12-28T00:00:00",
          "2021-12-29T00:00:00",
          "2021-12-30T00:00:00",
          "2021-12-31T00:00:00",
          "2022-01-01T00:00:00",
          "2022-01-02T00:00:00",
          "2022-01-03T00:00:00",
          "2022-01-04T00:00:00",
          "2022-01-05T00:00:00",
          "2022-01-06T00:00:00",
          "2022-01-07T00:00:00",
          "2022-01-08T00:00:00",
          "2022-01-09T00:00:00",
          "2022-01-10T00:00:00",
          "2022-01-11T00:00:00",
          "2022-01-12T00:00:00",
          "2022-01-13T00:00:00",
          "2022-01-14T00:00:00",
          "2022-01-15T00:00:00",
          "2022-01-16T00:00:00",
          "2022-01-17T00:00:00",
          "2022-01-18T00:00:00",
          "2022-01-19T00:00:00",
          "2022-01-20T00:00:00",
          "2022-01-21T00:00:00",
          "2022-01-22T00:00:00",
          "2022-01-23T00:00:00",
          "2022-01-24T00:00:00",
          "2022-01-25T00:00:00",
          "2022-01-26T00:00:00",
          "2022-01-27T00:00:00",
          "2022-01-28T00:00:00",
          "2022-01-29T00:00:00",
          "2022-01-30T00:00:00",
          "2022-01-31T00:00:00",
          "2022-02-01T00:00:00",
          "2022-02-02T00:00:00",
          "2022-02-03T00:00:00",
          "2022-02-04T00:00:00",
          "2022-02-05T00:00:00",
          "2022-02-06T00:00:00"
         ]
        }
       ],
       "layout": {
        "autosize": true,
        "template": {
         "data": {
          "bar": [
           {
            "error_x": {
             "color": "#2a3f5f"
            },
            "error_y": {
             "color": "#2a3f5f"
            },
            "marker": {
             "line": {
              "color": "#E5ECF6",
              "width": 0.5
             },
             "pattern": {
              "fillmode": "overlay",
              "size": 10,
              "solidity": 0.2
             }
            },
            "type": "bar"
           }
          ],
          "barpolar": [
           {
            "marker": {
             "line": {
              "color": "#E5ECF6",
              "width": 0.5
             },
             "pattern": {
              "fillmode": "overlay",
              "size": 10,
              "solidity": 0.2
             }
            },
            "type": "barpolar"
           }
          ],
          "carpet": [
           {
            "aaxis": {
             "endlinecolor": "#2a3f5f",
             "gridcolor": "white",
             "linecolor": "white",
             "minorgridcolor": "white",
             "startlinecolor": "#2a3f5f"
            },
            "baxis": {
             "endlinecolor": "#2a3f5f",
             "gridcolor": "white",
             "linecolor": "white",
             "minorgridcolor": "white",
             "startlinecolor": "#2a3f5f"
            },
            "type": "carpet"
           }
          ],
          "choropleth": [
           {
            "colorbar": {
             "outlinewidth": 0,
             "ticks": ""
            },
            "type": "choropleth"
           }
          ],
          "contour": [
           {
            "colorbar": {
             "outlinewidth": 0,
             "ticks": ""
            },
            "colorscale": [
             [
              0,
              "#0d0887"
             ],
             [
              0.1111111111111111,
              "#46039f"
             ],
             [
              0.2222222222222222,
              "#7201a8"
             ],
             [
              0.3333333333333333,
              "#9c179e"
             ],
             [
              0.4444444444444444,
              "#bd3786"
             ],
             [
              0.5555555555555556,
              "#d8576b"
             ],
             [
              0.6666666666666666,
              "#ed7953"
             ],
             [
              0.7777777777777778,
              "#fb9f3a"
             ],
             [
              0.8888888888888888,
              "#fdca26"
             ],
             [
              1,
              "#f0f921"
             ]
            ],
            "type": "contour"
           }
          ],
          "contourcarpet": [
           {
            "colorbar": {
             "outlinewidth": 0,
             "ticks": ""
            },
            "type": "contourcarpet"
           }
          ],
          "heatmap": [
           {
            "colorbar": {
             "outlinewidth": 0,
             "ticks": ""
            },
            "colorscale": [
             [
              0,
              "#0d0887"
             ],
             [
              0.1111111111111111,
              "#46039f"
             ],
             [
              0.2222222222222222,
              "#7201a8"
             ],
             [
              0.3333333333333333,
              "#9c179e"
             ],
             [
              0.4444444444444444,
              "#bd3786"
             ],
             [
              0.5555555555555556,
              "#d8576b"
             ],
             [
              0.6666666666666666,
              "#ed7953"
             ],
             [
              0.7777777777777778,
              "#fb9f3a"
             ],
             [
              0.8888888888888888,
              "#fdca26"
             ],
             [
              1,
              "#f0f921"
             ]
            ],
            "type": "heatmap"
           }
          ],
          "heatmapgl": [
           {
            "colorbar": {
             "outlinewidth": 0,
             "ticks": ""
            },
            "colorscale": [
             [
              0,
              "#0d0887"
             ],
             [
              0.1111111111111111,
              "#46039f"
             ],
             [
              0.2222222222222222,
              "#7201a8"
             ],
             [
              0.3333333333333333,
              "#9c179e"
             ],
             [
              0.4444444444444444,
              "#bd3786"
             ],
             [
              0.5555555555555556,
              "#d8576b"
             ],
             [
              0.6666666666666666,
              "#ed7953"
             ],
             [
              0.7777777777777778,
              "#fb9f3a"
             ],
             [
              0.8888888888888888,
              "#fdca26"
             ],
             [
              1,
              "#f0f921"
             ]
            ],
            "type": "heatmapgl"
           }
          ],
          "histogram": [
           {
            "marker": {
             "pattern": {
              "fillmode": "overlay",
              "size": 10,
              "solidity": 0.2
             }
            },
            "type": "histogram"
           }
          ],
          "histogram2d": [
           {
            "colorbar": {
             "outlinewidth": 0,
             "ticks": ""
            },
            "colorscale": [
             [
              0,
              "#0d0887"
             ],
             [
              0.1111111111111111,
              "#46039f"
             ],
             [
              0.2222222222222222,
              "#7201a8"
             ],
             [
              0.3333333333333333,
              "#9c179e"
             ],
             [
              0.4444444444444444,
              "#bd3786"
             ],
             [
              0.5555555555555556,
              "#d8576b"
             ],
             [
              0.6666666666666666,
              "#ed7953"
             ],
             [
              0.7777777777777778,
              "#fb9f3a"
             ],
             [
              0.8888888888888888,
              "#fdca26"
             ],
             [
              1,
              "#f0f921"
             ]
            ],
            "type": "histogram2d"
           }
          ],
          "histogram2dcontour": [
           {
            "colorbar": {
             "outlinewidth": 0,
             "ticks": ""
            },
            "colorscale": [
             [
              0,
              "#0d0887"
             ],
             [
              0.1111111111111111,
              "#46039f"
             ],
             [
              0.2222222222222222,
              "#7201a8"
             ],
             [
              0.3333333333333333,
              "#9c179e"
             ],
             [
              0.4444444444444444,
              "#bd3786"
             ],
             [
              0.5555555555555556,
              "#d8576b"
             ],
             [
              0.6666666666666666,
              "#ed7953"
             ],
             [
              0.7777777777777778,
              "#fb9f3a"
             ],
             [
              0.8888888888888888,
              "#fdca26"
             ],
             [
              1,
              "#f0f921"
             ]
            ],
            "type": "histogram2dcontour"
           }
          ],
          "mesh3d": [
           {
            "colorbar": {
             "outlinewidth": 0,
             "ticks": ""
            },
            "type": "mesh3d"
           }
          ],
          "parcoords": [
           {
            "line": {
             "colorbar": {
              "outlinewidth": 0,
              "ticks": ""
             }
            },
            "type": "parcoords"
           }
          ],
          "pie": [
           {
            "automargin": true,
            "type": "pie"
           }
          ],
          "scatter": [
           {
            "marker": {
             "colorbar": {
              "outlinewidth": 0,
              "ticks": ""
             }
            },
            "type": "scatter"
           }
          ],
          "scatter3d": [
           {
            "line": {
             "colorbar": {
              "outlinewidth": 0,
              "ticks": ""
             }
            },
            "marker": {
             "colorbar": {
              "outlinewidth": 0,
              "ticks": ""
             }
            },
            "type": "scatter3d"
           }
          ],
          "scattercarpet": [
           {
            "marker": {
             "colorbar": {
              "outlinewidth": 0,
              "ticks": ""
             }
            },
            "type": "scattercarpet"
           }
          ],
          "scattergeo": [
           {
            "marker": {
             "colorbar": {
              "outlinewidth": 0,
              "ticks": ""
             }
            },
            "type": "scattergeo"
           }
          ],
          "scattergl": [
           {
            "marker": {
             "colorbar": {
              "outlinewidth": 0,
              "ticks": ""
             }
            },
            "type": "scattergl"
           }
          ],
          "scattermapbox": [
           {
            "marker": {
             "colorbar": {
              "outlinewidth": 0,
              "ticks": ""
             }
            },
            "type": "scattermapbox"
           }
          ],
          "scatterpolar": [
           {
            "marker": {
             "colorbar": {
              "outlinewidth": 0,
              "ticks": ""
             }
            },
            "type": "scatterpolar"
           }
          ],
          "scatterpolargl": [
           {
            "marker": {
             "colorbar": {
              "outlinewidth": 0,
              "ticks": ""
             }
            },
            "type": "scatterpolargl"
           }
          ],
          "scatterternary": [
           {
            "marker": {
             "colorbar": {
              "outlinewidth": 0,
              "ticks": ""
             }
            },
            "type": "scatterternary"
           }
          ],
          "surface": [
           {
            "colorbar": {
             "outlinewidth": 0,
             "ticks": ""
            },
            "colorscale": [
             [
              0,
              "#0d0887"
             ],
             [
              0.1111111111111111,
              "#46039f"
             ],
             [
              0.2222222222222222,
              "#7201a8"
             ],
             [
              0.3333333333333333,
              "#9c179e"
             ],
             [
              0.4444444444444444,
              "#bd3786"
             ],
             [
              0.5555555555555556,
              "#d8576b"
             ],
             [
              0.6666666666666666,
              "#ed7953"
             ],
             [
              0.7777777777777778,
              "#fb9f3a"
             ],
             [
              0.8888888888888888,
              "#fdca26"
             ],
             [
              1,
              "#f0f921"
             ]
            ],
            "type": "surface"
           }
          ],
          "table": [
           {
            "cells": {
             "fill": {
              "color": "#EBF0F8"
             },
             "line": {
              "color": "white"
             }
            },
            "header": {
             "fill": {
              "color": "#C8D4E3"
             },
             "line": {
              "color": "white"
             }
            },
            "type": "table"
           }
          ]
         },
         "layout": {
          "annotationdefaults": {
           "arrowcolor": "#2a3f5f",
           "arrowhead": 0,
           "arrowwidth": 1
          },
          "autotypenumbers": "strict",
          "coloraxis": {
           "colorbar": {
            "outlinewidth": 0,
            "ticks": ""
           }
          },
          "colorscale": {
           "diverging": [
            [
             0,
             "#8e0152"
            ],
            [
             0.1,
             "#c51b7d"
            ],
            [
             0.2,
             "#de77ae"
            ],
            [
             0.3,
             "#f1b6da"
            ],
            [
             0.4,
             "#fde0ef"
            ],
            [
             0.5,
             "#f7f7f7"
            ],
            [
             0.6,
             "#e6f5d0"
            ],
            [
             0.7,
             "#b8e186"
            ],
            [
             0.8,
             "#7fbc41"
            ],
            [
             0.9,
             "#4d9221"
            ],
            [
             1,
             "#276419"
            ]
           ],
           "sequential": [
            [
             0,
             "#0d0887"
            ],
            [
             0.1111111111111111,
             "#46039f"
            ],
            [
             0.2222222222222222,
             "#7201a8"
            ],
            [
             0.3333333333333333,
             "#9c179e"
            ],
            [
             0.4444444444444444,
             "#bd3786"
            ],
            [
             0.5555555555555556,
             "#d8576b"
            ],
            [
             0.6666666666666666,
             "#ed7953"
            ],
            [
             0.7777777777777778,
             "#fb9f3a"
            ],
            [
             0.8888888888888888,
             "#fdca26"
            ],
            [
             1,
             "#f0f921"
            ]
           ],
           "sequentialminus": [
            [
             0,
             "#0d0887"
            ],
            [
             0.1111111111111111,
             "#46039f"
            ],
            [
             0.2222222222222222,
             "#7201a8"
            ],
            [
             0.3333333333333333,
             "#9c179e"
            ],
            [
             0.4444444444444444,
             "#bd3786"
            ],
            [
             0.5555555555555556,
             "#d8576b"
            ],
            [
             0.6666666666666666,
             "#ed7953"
            ],
            [
             0.7777777777777778,
             "#fb9f3a"
            ],
            [
             0.8888888888888888,
             "#fdca26"
            ],
            [
             1,
             "#f0f921"
            ]
           ]
          },
          "colorway": [
           "#636efa",
           "#EF553B",
           "#00cc96",
           "#ab63fa",
           "#FFA15A",
           "#19d3f3",
           "#FF6692",
           "#B6E880",
           "#FF97FF",
           "#FECB52"
          ],
          "font": {
           "color": "#2a3f5f"
          },
          "geo": {
           "bgcolor": "white",
           "lakecolor": "white",
           "landcolor": "#E5ECF6",
           "showlakes": true,
           "showland": true,
           "subunitcolor": "white"
          },
          "hoverlabel": {
           "align": "left"
          },
          "hovermode": "closest",
          "mapbox": {
           "style": "light"
          },
          "paper_bgcolor": "white",
          "plot_bgcolor": "#E5ECF6",
          "polar": {
           "angularaxis": {
            "gridcolor": "white",
            "linecolor": "white",
            "ticks": ""
           },
           "bgcolor": "#E5ECF6",
           "radialaxis": {
            "gridcolor": "white",
            "linecolor": "white",
            "ticks": ""
           }
          },
          "scene": {
           "xaxis": {
            "backgroundcolor": "#E5ECF6",
            "gridcolor": "white",
            "gridwidth": 2,
            "linecolor": "white",
            "showbackground": true,
            "ticks": "",
            "zerolinecolor": "white"
           },
           "yaxis": {
            "backgroundcolor": "#E5ECF6",
            "gridcolor": "white",
            "gridwidth": 2,
            "linecolor": "white",
            "showbackground": true,
            "ticks": "",
            "zerolinecolor": "white"
           },
           "zaxis": {
            "backgroundcolor": "#E5ECF6",
            "gridcolor": "white",
            "gridwidth": 2,
            "linecolor": "white",
            "showbackground": true,
            "ticks": "",
            "zerolinecolor": "white"
           }
          },
          "shapedefaults": {
           "line": {
            "color": "#2a3f5f"
           }
          },
          "ternary": {
           "aaxis": {
            "gridcolor": "white",
            "linecolor": "white",
            "ticks": ""
           },
           "baxis": {
            "gridcolor": "white",
            "linecolor": "white",
            "ticks": ""
           },
           "bgcolor": "#E5ECF6",
           "caxis": {
            "gridcolor": "white",
            "linecolor": "white",
            "ticks": ""
           }
          },
          "title": {
           "x": 0.05
          },
          "xaxis": {
           "automargin": true,
           "gridcolor": "white",
           "linecolor": "white",
           "ticks": "",
           "title": {
            "standoff": 15
           },
           "zerolinecolor": "white",
           "zerolinewidth": 2
          },
          "yaxis": {
           "automargin": true,
           "gridcolor": "white",
           "linecolor": "white",
           "ticks": "",
           "title": {
            "standoff": 15
           },
           "zerolinecolor": "white",
           "zerolinewidth": 2
          }
         }
        },
        "title": {
         "text": "BTC-EUR"
        },
        "xaxis": {
         "autorange": true,
         "range": [
          "2021-09-05 12:00",
          "2022-02-06 12:00"
         ],
         "rangeslider": {
          "autorange": true,
          "range": [
           "2021-09-05 12:00",
           "2022-02-06 12:00"
          ],
          "yaxis": {
           "_template": null,
           "rangemode": "match"
          }
         },
         "type": "date"
        },
        "yaxis": {
         "autorange": true,
         "range": [
          27647.233506944445,
          61172.407118055555
         ]
        }
       }
      },
      "image/png": "[encoded data removed]",
      "text/html": [
       "<div>                            <div id=\"e790c203-65ac-4449-9fa2-f1ba199f0895\" class=\"plotly-graph-div\" style=\"height:525px; width:100%;\"></div>            <script type=\"text/javascript\">                require([\"plotly\"], function(Plotly) {                    window.PLOTLYENV=window.PLOTLYENV || {};                                    if (document.getElementById(\"e790c203-65ac-4449-9fa2-f1ba199f0895\")) {                    Plotly.newPlot(                        \"e790c203-65ac-4449-9fa2-f1ba199f0895\",                        [{\"close\":[44329.0703125,39521.41796875,38997.87890625,39233.2265625,38002.7578125,38258.65234375,38997.02734375,38073.3359375,39900.29296875,40762.15234375,40615.28125,40312.578125,41172.41796875,40292.125,36534.49609375,34712.96875,37283.484375,38240.87890625,36550.9609375,36447.29296875,36858.828125,36112.015625,35113.8359375,35828.7734375,37835.90234375,41501.77734375,41152.0625,41527.53515625,42279.28125,44425.19140625,47910.8515625,46546.96484375,46648.671875,47508.265625,47357.20703125,49755.9609375,48601.88671875,49497.3671875,49455.80859375,53099.58984375,52494.6015625,53079.34765625,53408.671875,55238.7734375,56634.0625,53515.7421875,52123.00390625,52734.6015625,52347.99609375,54303.453125,52053.44921875,50421.9375,51892.3046875,53825.32421875,53531.98046875,53060.58203125,52591.9609375,54603.7734375,54214.62890625,53180.63671875,52915.76171875,53263.6015625,54741.9375,58305.0390625,57763.73828125,56588.421875,56736.26171875,56061.515625,56335.5390625,57219.65625,55914.40234375,53146.4453125,53339.00390625,50086.53125,51492.02734375,52889.74609375,52087.0625,50071.62890625,51188.46484375,50235.796875,51096.4609375,47323.1015625,48423.203125,50696.0859375,51189.44921875,50313.38671875,50560.609375,49953.89453125,47371.30859375,43486.58203125,43672.8671875,44827.5859375,44974.98046875,44519.9765625,42211.375,41739.88671875,43617.99609375,44292.69140625,41421.28125,41405.48828125,43307.62890625,42055.4921875,41104.5703125,41680.41796875,41542.9921875,41569.9140625,43354.8046875,42933.625,44849.703125,44886.01171875,44539.5,44871.05078125,44697.41015625,42064.8828125,40885.140625,41666.91796875,40712.71875,41926.33984375,41629.80078125,41105.72265625,40677.875,38520.26953125,38203.5078125,36575.8984375,36734.3828125,36914.7734375,36912.19921875,37599.6015625,38415.8203125,37175.2890625,37756.0703125,37824.1328125,37800.52734375,37028.76171875,37403.78515625,36800.8828125,35957.70703125,32135.849609375,30877.94140625,31986.818359375,32369.328125,32693.353515625,32783.68359375,33324.28515625,33889.109375,34206.4765625,33999.8046875,34270.41796875,34367.76171875,32702.763671875,32490.47265625,36247.984375,36195.83203125,36290.9765625],\"high\":[44384.734375,44487.54296875,39952.78125,39943.24609375,39785.890625,38908.546875,39252.5546875,39505.1484375,39998.47265625,40996.84765625,41129.875,40904.46484375,41610.265625,41215.05859375,40359.640625,37162.1875,37449.11328125,38274.5546875,38415.4765625,36685.9140625,37477.65625,37792.99609375,36578.73828125,36501.91796875,38067.21484375,41776.98046875,41644.1953125,42376.15625,42535.84375,44701.359375,48092.6171875,47891.09765625,48419.515625,47879.66796875,48723.90234375,50008.02734375,49838.77734375,49756.46875,50443.34765625,54100.47265625,53686.265625,53143.30859375,54052.41796875,55387.92578125,57457.26171875,57214.1328125,54746.94140625,53026.13671875,52830.96484375,54906.25390625,54507.08984375,52939.00390625,53186.0234375,54531.99609375,53913.70703125,53979.46484375,53961.04296875,55465.6875,54845.921875,54351.234375,54139.5234375,53318.31640625,54741.9375,58408.390625,59153.05859375,59496.1484375,57220.96875,57222.5703125,56725.39453125,57244.42578125,57891.78125,56058.0859375,53709.92578125,53811.9765625,51562.8359375,53033.87890625,53161.94140625,52559.125,51445.2578125,51405.65625,52950.41015625,52793.203125,48877.42578125,50827.2421875,52219.0078125,51991.2421875,52107.59375,50583.859375,50839.18359375,47642.140625,43988.125,45136.08203125,46178.33203125,45188.109375,44787.50390625,44288.5546875,43702.5625,44821.80859375,44382.2734375,43013.81640625,43813.046875,43746.671875,42383.76171875,42094.16796875,42784.4140625,42023.42578125,43688.65234375,43932.41015625,45285.33984375,45774.1171875,45199.01953125,45242.8515625,45876.65625,44732.22265625,42554.26171875,42321.1015625,42793.97265625,42049.8671875,42097.4296875,41849.96484375,41956.5,41486.54296875,38691.01953125,38196.99609375,37170.08203125,37580.796875,37231.55078125,37828.1171875,38559.484375,38574.16796875,37969.2734375,38303.55859375,38051.3828125,37857.53125,37549.37109375,37446.6640625,38251.6484375,36321.8125,32339.90234375,32121.720703125,32899.05859375,33179.37109375,34411.11328125,33333.33984375,34046.19921875,34599.3984375,34334.97265625,34406.03515625,34795.5703125,34456.8671875,32490.47265625,36271.48828125,36550.44140625,36404.00390625],\"low\":[43032.125,36544.40234375,37696.3125,38623.8125,37539.69140625,37934.31640625,37910.78125,36921.5859375,37895.51171875,39622.33984375,40008.6328125,39936.24609375,40158.859375,40012.6953125,36324.09375,33926.77734375,34668.08984375,36877.66796875,34920.03125,35631.02734375,34853.3359375,36074.2578125,35026.08203125,34946.44140625,35731.65234375,37424.3828125,40939.890625,40674.0546875,40473.23828125,42237.53125,43739.53515625,46308.5234375,46490.47265625,46447.52734375,46899.8359375,47119.6328125,47242.48046875,47064.27734375,49136.92578125,49035.86328125,51903.15234375,51034.9140625,51725.234375,52881.78125,54619.55859375,53432.02734375,51720.3359375,51379.49609375,51231.1875,52119.6875,51741.35546875,50162.48046875,49810.27734375,51632.07421875,52692.57421875,51994.2109375,51686.59765625,52312.24609375,52820.171875,52647.94921875,52592.55859375,52083.0625,53181.3671875,54756.703125,57269.1328125,55065.328125,55921.48828125,54445.7421875,55316.828125,55581.0859375,55891.98828125,51952.140625,51727.15234375,49726.46875,49053.81640625,50916.28125,51934.4375,49562.796875,49416.91015625,49940.3984375,51002.73046875,47323.1015625,47410.1953125,47329.26171875,50321.47265625,49508.78125,49983.9296875,49311.75,46423.78125,37893.53125,42299.375,41835.8671875,44523.50390625,43256.89453125,41934.921875,41545.859375,41473.98828125,43055.4296875,40644.0625,41143.7109375,41480.96875,41949.87109375,40375.58984375,40567.4765625,41372.75,40365.48046875,41408.41015625,42874.9140625,42421.75390625,44604.046875,44368.91015625,43757.65234375,44609.05859375,41924.26171875,40696.171875,40583.375,40254.16015625,40696.9296875,41196.7109375,40575.27734375,40554.5703125,37839.75,37721.00390625,36222.50390625,35799.8984375,36386.01171875,35228.76171875,36550.12890625,37401.8203125,37053.21484375,36655.234375,37378.80078125,37398.0625,36531.2578125,36422.046875,36389.53125,35950.9921875,31548.890625,30277.66015625,30654.947265625,29323.4921875,31627.01171875,32362.68359375,31971.115234375,32534.775390625,33550.203125,33595.703125,32919.34375,33847.98046875,32579.46875,32245.677734375,32399.46875,35843.78125,36114.6953125],\"name\":\"market data\",\"open\":[43556.62890625,44351.76171875,39535.46484375,38729.96484375,39237.65625,37990.84375,38263.02734375,38991.8984375,38070.77734375,39904.95703125,40747.39453125,40604.78125,40317.69921875,41164.30859375,40293.13671875,36678.125,34699.5546875,37271.3203125,38240.203125,36551.93359375,36451.58984375,36880.70703125,36082.23046875,35139.8828125,35817.484375,37858.234375,41519.48046875,41124.9296875,41535.25390625,42332.70703125,44400.91796875,47891.09765625,46543.64453125,46615.76953125,47494.953125,47324.8203125,49792.34765625,48599.45703125,49472.99609375,49476.83984375,53113.01953125,52490.69921875,53075.1953125,53423.3828125,55258.1953125,56642.125,53539.5859375,52125.03125,52712.890625,52316.2890625,54297.3671875,52043.27734375,50411.8828125,51894.6484375,53835.1796875,53498.81640625,53061.87109375,52556.48046875,54627.8984375,54190.3125,53187.4296875,52866.58984375,53287.35546875,54756.703125,58290.2890625,57747.7890625,56574.1953125,56661.15234375,56063.421875,56323.16796875,57267.24609375,56058.0859375,53127.33984375,53332.04296875,50046.0625,51488.04296875,52919.2578125,52066.10546875,50085.2109375,51185.59765625,51025.73828125,52600.23828125,47470.33203125,48421.38671875,50734.55859375,51210.30078125,50227.37109375,50549.6015625,49981.62109375,47485.87890625,43487.3046875,43712.34765625,44826.8828125,44946.20703125,44471.74609375,42184.83203125,41758.73046875,43611.234375,44307.1953125,41396.765625,42975.203125,43310.9453125,42045.171875,41119.79296875,41684.94921875,41543.0390625,41575.05859375,43355.234375,42931.7109375,44868.703125,44914.91015625,44538.46875,44864.953125,44732.22265625,42095.8359375,40925.54296875,41659.1875,40717.37890625,41921.16796875,41628.32421875,41106.375,40679.453125,38517.18359375,38196.99609375,36579.03515625,36735.07421875,36913.56640625,36910.6484375,37605.16796875,38413.7578125,37181.66015625,37757.99609375,37819.44140625,37804.2421875,37028.34375,37402.37890625,36800.6171875,35974.66796875,32148.4296875,30893.021484375,31985.873046875,32369.75,32690.267578125,32774.57421875,33315.5,33885.86328125,34218.80078125,34002.20703125,34269.203125,34368.15234375,32695.525390625,32485.8046875,36248.515625,36206.8515625],\"x\":[\"2021-09-06T00:00:00\",\"2021-09-07T00:00:00\",\"2021-09-08T00:00:00\",\"2021-09-09T00:00:00\",\"2021-09-10T00:00:00\",\"2021-09-11T00:00:00\",\"2021-09-12T00:00:00\",\"2021-09-13T00:00:00\",\"2021-09-14T00:00:00\",\"2021-09-15T00:00:00\",\"2021-09-16T00:00:00\",\"2021-09-17T00:00:00\",\"2021-09-18T00:00:00\",\"2021-09-19T00:00:00\",\"2021-09-20T00:00:00\",\"2021-09-21T00:00:00\",\"2021-09-22T00:00:00\",\"2021-09-23T00:00:00\",\"2021-09-24T00:00:00\",\"2021-09-25T00:00:00\",\"2021-09-26T00:00:00\",\"2021-09-27T00:00:00\",\"2021-09-28T00:00:00\",\"2021-09-29T00:00:00\",\"2021-09-30T00:00:00\",\"2021-10-01T00:00:00\",\"2021-10-02T00:00:00\",\"2021-10-03T00:00:00\",\"2021-10-04T00:00:00\",\"2021-10-05T00:00:00\",\"2021-10-06T00:00:00\",\"2021-10-07T00:00:00\",\"2021-10-08T00:00:00\",\"2021-10-09T00:00:00\",\"2021-10-10T00:00:00\",\"2021-10-11T00:00:00\",\"2021-10-12T00:00:00\",\"2021-10-13T00:00:00\",\"2021-10-14T00:00:00\",\"2021-10-15T00:00:00\",\"2021-10-16T00:00:00\",\"2021-10-17T00:00:00\",\"2021-10-18T00:00:00\",\"2021-10-19T00:00:00\",\"2021-10-20T00:00:00\",\"2021-10-21T00:00:00\",\"2021-10-22T00:00:00\",\"2021-10-23T00:00:00\",\"2021-10-24T00:00:00\",\"2021-10-25T00:00:00\",\"2021-10-26T00:00:00\",\"2021-10-27T00:00:00\",\"2021-10-28T00:00:00\",\"2021-10-29T00:00:00\",\"2021-10-30T00:00:00\",\"2021-10-31T00:00:00\",\"2021-11-01T00:00:00\",\"2021-11-02T00:00:00\",\"2021-11-03T00:00:00\",\"2021-11-04T00:00:00\",\"2021-11-05T00:00:00\",\"2021-11-06T00:00:00\",\"2021-11-07T00:00:00\",\"2021-11-08T00:00:00\",\"2021-11-09T00:00:00\",\"2021-11-10T00:00:00\",\"2021-11-11T00:00:00\",\"2021-11-12T00:00:00\",\"2021-11-13T00:00:00\",\"2021-11-14T00:00:00\",\"2021-11-15T00:00:00\",\"2021-11-16T00:00:00\",\"2021-11-17T00:00:00\",\"2021-11-18T00:00:00\",\"2021-11-19T00:00:00\",\"2021-11-20T00:00:00\",\"2021-11-21T00:00:00\",\"2021-11-22T00:00:00\",\"2021-11-23T00:00:00\",\"2021-11-24T00:00:00\",\"2021-11-25T00:00:00\",\"2021-11-26T00:00:00\",\"2021-11-27T00:00:00\",\"2021-11-28T00:00:00\",\"2021-11-29T00:00:00\",\"2021-11-30T00:00:00\",\"2021-12-01T00:00:00\",\"2021-12-02T00:00:00\",\"2021-12-03T00:00:00\",\"2021-12-04T00:00:00\",\"2021-12-05T00:00:00\",\"2021-12-06T00:00:00\",\"2021-12-07T00:00:00\",\"2021-12-08T00:00:00\",\"2021-12-09T00:00:00\",\"2021-12-10T00:00:00\",\"2021-12-11T00:00:00\",\"2021-12-12T00:00:00\",\"2021-12-13T00:00:00\",\"2021-12-14T00:00:00\",\"2021-12-15T00:00:00\",\"2021-12-16T00:00:00\",\"2021-12-17T00:00:00\",\"2021-12-18T00:00:00\",\"2021-12-19T00:00:00\",\"2021-12-20T00:00:00\",\"2021-12-21T00:00:00\",\"2021-12-22T00:00:00\",\"2021-12-23T00:00:00\",\"2021-12-24T00:00:00\",\"2021-12-25T00:00:00\",\"2021-12-26T00:00:00\",\"2021-12-27T00:00:00\",\"2021-12-28T00:00:00\",\"2021-12-29T00:00:00\",\"2021-12-30T00:00:00\",\"2021-12-31T00:00:00\",\"2022-01-01T00:00:00\",\"2022-01-02T00:00:00\",\"2022-01-03T00:00:00\",\"2022-01-04T00:00:00\",\"2022-01-05T00:00:00\",\"2022-01-06T00:00:00\",\"2022-01-07T00:00:00\",\"2022-01-08T00:00:00\",\"2022-01-09T00:00:00\",\"2022-01-10T00:00:00\",\"2022-01-11T00:00:00\",\"2022-01-12T00:00:00\",\"2022-01-13T00:00:00\",\"2022-01-14T00:00:00\",\"2022-01-15T00:00:00\",\"2022-01-16T00:00:00\",\"2022-01-17T00:00:00\",\"2022-01-18T00:00:00\",\"2022-01-19T00:00:00\",\"2022-01-20T00:00:00\",\"2022-01-21T00:00:00\",\"2022-01-22T00:00:00\",\"2022-01-23T00:00:00\",\"2022-01-24T00:00:00\",\"2022-01-25T00:00:00\",\"2022-01-26T00:00:00\",\"2022-01-27T00:00:00\",\"2022-01-28T00:00:00\",\"2022-01-29T00:00:00\",\"2022-01-30T00:00:00\",\"2022-01-31T00:00:00\",\"2022-02-01T00:00:00\",\"2022-02-02T00:00:00\",\"2022-02-03T00:00:00\",\"2022-02-04T00:00:00\",\"2022-02-05T00:00:00\",\"2022-02-06T00:00:00\"],\"type\":\"candlestick\"}],                        {\"template\":{\"data\":{\"bar\":[{\"error_x\":{\"color\":\"#2a3f5f\"},\"error_y\":{\"color\":\"#2a3f5f\"},\"marker\":{\"line\":{\"color\":\"#E5ECF6\",\"width\":0.5},\"pattern\":{\"fillmode\":\"overlay\",\"size\":10,\"solidity\":0.2}},\"type\":\"bar\"}],\"barpolar\":[{\"marker\":{\"line\":{\"color\":\"#E5ECF6\",\"width\":0.5},\"pattern\":{\"fillmode\":\"overlay\",\"size\":10,\"solidity\":0.2}},\"type\":\"barpolar\"}],\"carpet\":[{\"aaxis\":{\"endlinecolor\":\"#2a3f5f\",\"gridcolor\":\"white\",\"linecolor\":\"white\",\"minorgridcolor\":\"white\",\"startlinecolor\":\"#2a3f5f\"},\"baxis\":{\"endlinecolor\":\"#2a3f5f\",\"gridcolor\":\"white\",\"linecolor\":\"white\",\"minorgridcolor\":\"white\",\"startlinecolor\":\"#2a3f5f\"},\"type\":\"carpet\"}],\"choropleth\":[{\"colorbar\":{\"outlinewidth\":0,\"ticks\":\"\"},\"type\":\"choropleth\"}],\"contour\":[{\"colorbar\":{\"outlinewidth\":0,\"ticks\":\"\"},\"colorscale\":[[0.0,\"#0d0887\"],[0.1111111111111111,\"#46039f\"],[0.2222222222222222,\"#7201a8\"],[0.3333333333333333,\"#9c179e\"],[0.4444444444444444,\"#bd3786\"],[0.5555555555555556,\"#d8576b\"],[0.6666666666666666,\"#ed7953\"],[0.7777777777777778,\"#fb9f3a\"],[0.8888888888888888,\"#fdca26\"],[1.0,\"#f0f921\"]],\"type\":\"contour\"}],\"contourcarpet\":[{\"colorbar\":{\"outlinewidth\":0,\"ticks\":\"\"},\"type\":\"contourcarpet\"}],\"heatmap\":[{\"colorbar\":{\"outlinewidth\":0,\"ticks\":\"\"},\"colorscale\":[[0.0,\"#0d0887\"],[0.1111111111111111,\"#46039f\"],[0.2222222222222222,\"#7201a8\"],[0.3333333333333333,\"#9c179e\"],[0.4444444444444444,\"#bd3786\"],[0.5555555555555556,\"#d8576b\"],[0.6666666666666666,\"#ed7953\"],[0.7777777777777778,\"#fb9f3a\"],[0.8888888888888888,\"#fdca26\"],[1.0,\"#f0f921\"]],\"type\":\"heatmap\"}],\"heatmapgl\":[{\"colorbar\":{\"outlinewidth\":0,\"ticks\":\"\"},\"colorscale\":[[0.0,\"#0d0887\"],[0.1111111111111111,\"#46039f\"],[0.2222222222222222,\"#7201a8\"],[0.3333333333333333,\"#9c179e\"],[0.4444444444444444,\"#bd3786\"],[0.5555555555555556,\"#d8576b\"],[0.6666666666666666,\"#ed7953\"],[0.7777777777777778,\"#fb9f3a\"],[0.8888888888888888,\"#fdca26\"],[1.0,\"#f0f921\"]],\"type\":\"heatmapgl\"}],\"histogram\":[{\"marker\":{\"pattern\":{\"fillmode\":\"overlay\",\"size\":10,\"solidity\":0.2}},\"type\":\"histogram\"}],\"histogram2d\":[{\"colorbar\":{\"outlinewidth\":0,\"ticks\":\"\"},\"colorscale\":[[0.0,\"#0d0887\"],[0.1111111111111111,\"#46039f\"],[0.2222222222222222,\"#7201a8\"],[0.3333333333333333,\"#9c179e\"],[0.4444444444444444,\"#bd3786\"],[0.5555555555555556,\"#d8576b\"],[0.6666666666666666,\"#ed7953\"],[0.7777777777777778,\"#fb9f3a\"],[0.8888888888888888,\"#fdca26\"],[1.0,\"#f0f921\"]],\"type\":\"histogram2d\"}],\"histogram2dcontour\":[{\"colorbar\":{\"outlinewidth\":0,\"ticks\":\"\"},\"colorscale\":[[0.0,\"#0d0887\"],[0.1111111111111111,\"#46039f\"],[0.2222222222222222,\"#7201a8\"],[0.3333333333333333,\"#9c179e\"],[0.4444444444444444,\"#bd3786\"],[0.5555555555555556,\"#d8576b\"],[0.6666666666666666,\"#ed7953\"],[0.7777777777777778,\"#fb9f3a\"],[0.8888888888888888,\"#fdca26\"],[1.0,\"#f0f921\"]],\"type\":\"histogram2dcontour\"}],\"mesh3d\":[{\"colorbar\":{\"outlinewidth\":0,\"ticks\":\"\"},\"type\":\"mesh3d\"}],\"parcoords\":[{\"line\":{\"colorbar\":{\"outlinewidth\":0,\"ticks\":\"\"}},\"type\":\"parcoords\"}],\"pie\":[{\"automargin\":true,\"type\":\"pie\"}],\"scatter\":[{\"marker\":{\"colorbar\":{\"outlinewidth\":0,\"ticks\":\"\"}},\"type\":\"scatter\"}],\"scatter3d\":[{\"line\":{\"colorbar\":{\"outlinewidth\":0,\"ticks\":\"\"}},\"marker\":{\"colorbar\":{\"outlinewidth\":0,\"ticks\":\"\"}},\"type\":\"scatter3d\"}],\"scattercarpet\":[{\"marker\":{\"colorbar\":{\"outlinewidth\":0,\"ticks\":\"\"}},\"type\":\"scattercarpet\"}],\"scattergeo\":[{\"marker\":{\"colorbar\":{\"outlinewidth\":0,\"ticks\":\"\"}},\"type\":\"scattergeo\"}],\"scattergl\":[{\"marker\":{\"colorbar\":{\"outlinewidth\":0,\"ticks\":\"\"}},\"type\":\"scattergl\"}],\"scattermapbox\":[{\"marker\":{\"colorbar\":{\"outlinewidth\":0,\"ticks\":\"\"}},\"type\":\"scattermapbox\"}],\"scatterpolar\":[{\"marker\":{\"colorbar\":{\"outlinewidth\":0,\"ticks\":\"\"}},\"type\":\"scatterpolar\"}],\"scatterpolargl\":[{\"marker\":{\"colorbar\":{\"outlinewidth\":0,\"ticks\":\"\"}},\"type\":\"scatterpolargl\"}],\"scatterternary\":[{\"marker\":{\"colorbar\":{\"outlinewidth\":0,\"ticks\":\"\"}},\"type\":\"scatterternary\"}],\"surface\":[{\"colorbar\":{\"outlinewidth\":0,\"ticks\":\"\"},\"colorscale\":[[0.0,\"#0d0887\"],[0.1111111111111111,\"#46039f\"],[0.2222222222222222,\"#7201a8\"],[0.3333333333333333,\"#9c179e\"],[0.4444444444444444,\"#bd3786\"],[0.5555555555555556,\"#d8576b\"],[0.6666666666666666,\"#ed7953\"],[0.7777777777777778,\"#fb9f3a\"],[0.8888888888888888,\"#fdca26\"],[1.0,\"#f0f921\"]],\"type\":\"surface\"}],\"table\":[{\"cells\":{\"fill\":{\"color\":\"#EBF0F8\"},\"line\":{\"color\":\"white\"}},\"header\":{\"fill\":{\"color\":\"#C8D4E3\"},\"line\":{\"color\":\"white\"}},\"type\":\"table\"}]},\"layout\":{\"annotationdefaults\":{\"arrowcolor\":\"#2a3f5f\",\"arrowhead\":0,\"arrowwidth\":1},\"autotypenumbers\":\"strict\",\"coloraxis\":{\"colorbar\":{\"outlinewidth\":0,\"ticks\":\"\"}},\"colorscale\":{\"diverging\":[[0,\"#8e0152\"],[0.1,\"#c51b7d\"],[0.2,\"#de77ae\"],[0.3,\"#f1b6da\"],[0.4,\"#fde0ef\"],[0.5,\"#f7f7f7\"],[0.6,\"#e6f5d0\"],[0.7,\"#b8e186\"],[0.8,\"#7fbc41\"],[0.9,\"#4d9221\"],[1,\"#276419\"]],\"sequential\":[[0.0,\"#0d0887\"],[0.1111111111111111,\"#46039f\"],[0.2222222222222222,\"#7201a8\"],[0.3333333333333333,\"#9c179e\"],[0.4444444444444444,\"#bd3786\"],[0.5555555555555556,\"#d8576b\"],[0.6666666666666666,\"#ed7953\"],[0.7777777777777778,\"#fb9f3a\"],[0.8888888888888888,\"#fdca26\"],[1.0,\"#f0f921\"]],\"sequentialminus\":[[0.0,\"#0d0887\"],[0.1111111111111111,\"#46039f\"],[0.2222222222222222,\"#7201a8\"],[0.3333333333333333,\"#9c179e\"],[0.4444444444444444,\"#bd3786\"],[0.5555555555555556,\"#d8576b\"],[0.6666666666666666,\"#ed7953\"],[0.7777777777777778,\"#fb9f3a\"],[0.8888888888888888,\"#fdca26\"],[1.0,\"#f0f921\"]]},\"colorway\":[\"#636efa\",\"#EF553B\",\"#00cc96\",\"#ab63fa\",\"#FFA15A\",\"#19d3f3\",\"#FF6692\",\"#B6E880\",\"#FF97FF\",\"#FECB52\"],\"font\":{\"color\":\"#2a3f5f\"},\"geo\":{\"bgcolor\":\"white\",\"lakecolor\":\"white\",\"landcolor\":\"#E5ECF6\",\"showlakes\":true,\"showland\":true,\"subunitcolor\":\"white\"},\"hoverlabel\":{\"align\":\"left\"},\"hovermode\":\"closest\",\"mapbox\":{\"style\":\"light\"},\"paper_bgcolor\":\"white\",\"plot_bgcolor\":\"#E5ECF6\",\"polar\":{\"angularaxis\":{\"gridcolor\":\"white\",\"linecolor\":\"white\",\"ticks\":\"\"},\"bgcolor\":\"#E5ECF6\",\"radialaxis\":{\"gridcolor\":\"white\",\"linecolor\":\"white\",\"ticks\":\"\"}},\"scene\":{\"xaxis\":{\"backgroundcolor\":\"#E5ECF6\",\"gridcolor\":\"white\",\"gridwidth\":2,\"linecolor\":\"white\",\"showbackground\":true,\"ticks\":\"\",\"zerolinecolor\":\"white\"},\"yaxis\":{\"backgroundcolor\":\"#E5ECF6\",\"gridcolor\":\"white\",\"gridwidth\":2,\"linecolor\":\"white\",\"showbackground\":true,\"ticks\":\"\",\"zerolinecolor\":\"white\"},\"zaxis\":{\"backgroundcolor\":\"#E5ECF6\",\"gridcolor\":\"white\",\"gridwidth\":2,\"linecolor\":\"white\",\"showbackground\":true,\"ticks\":\"\",\"zerolinecolor\":\"white\"}},\"shapedefaults\":{\"line\":{\"color\":\"#2a3f5f\"}},\"ternary\":{\"aaxis\":{\"gridcolor\":\"white\",\"linecolor\":\"white\",\"ticks\":\"\"},\"baxis\":{\"gridcolor\":\"white\",\"linecolor\":\"white\",\"ticks\":\"\"},\"bgcolor\":\"#E5ECF6\",\"caxis\":{\"gridcolor\":\"white\",\"linecolor\":\"white\",\"ticks\":\"\"}},\"title\":{\"x\":0.05},\"xaxis\":{\"automargin\":true,\"gridcolor\":\"white\",\"linecolor\":\"white\",\"ticks\":\"\",\"title\":{\"standoff\":15},\"zerolinecolor\":\"white\",\"zerolinewidth\":2},\"yaxis\":{\"automargin\":true,\"gridcolor\":\"white\",\"linecolor\":\"white\",\"ticks\":\"\",\"title\":{\"standoff\":15},\"zerolinecolor\":\"white\",\"zerolinewidth\":2}}},\"title\":{\"text\":\"BTC-EUR\"}},                        {\"responsive\": true}                    ).then(function(){\n",
       "                            \n",
       "var gd = document.getElementById('e790c203-65ac-4449-9fa2-f1ba199f0895');\n",
       "var x = new MutationObserver(function (mutations, observer) {{\n",
       "        var display = window.getComputedStyle(gd).display;\n",
       "        if (!display || display === 'none') {{\n",
       "            console.log([gd, 'removed!']);\n",
       "            Plotly.purge(gd);\n",
       "            observer.disconnect();\n",
       "        }}\n",
       "}});\n",
       "\n",
       "// Listen for the removal of the full notebook cells\n",
       "var notebookContainer = gd.closest('#notebook-container');\n",
       "if (notebookContainer) {{\n",
       "    x.observe(notebookContainer, {childList: true});\n",
       "}}\n",
       "\n",
       "// Listen for the clearing of the current output cell\n",
       "var outputEl = gd.closest('.output');\n",
       "if (outputEl) {{\n",
       "    x.observe(outputEl, {childList: true});\n",
       "}}\n",
       "\n",
       "                        })                };                });            </script>        </div>"
      ]
     },
     "metadata": {},
     "output_type": "display_data"
    },
    {
     "name": "stdout",
     "output_type": "stream",
     "text": [
      "[*********************100%***********************]  1 of 1 completed\n"
     ]
    },
    {
     "data": {
      "application/vnd.plotly.v1+json": {
       "config": {
        "plotlyServerURL": "https://plot.ly"
       },
       "data": [
        {
         "close": [
          3308.563720703125,
          2892.815673828125,
          2959.07470703125,
          2898.501708984375,
          2719.14990234375,
          2767.97314453125,
          2887.009765625,
          2782.069580078125,
          2905.44970703125,
          3058.9013671875,
          3035.557861328125,
          2898.477783203125,
          2926.869873046875,
          2838.55078125,
          2523.2431640625,
          2358.1455078125,
          2633.50390625,
          2687.821533203125,
          2501.30615234375,
          2496.195068359375,
          2612.250244140625,
          2508.720947265625,
          2402.2431640625,
          2459.429443359375,
          2593.48974609375,
          2852.79541015625,
          2925.40087890625,
          2945.1484375,
          2909.7802734375,
          3034.28955078125,
          3098.6865234375,
          3103.91748046875,
          3080.438720703125,
          3090.442138671875,
          2962.0986328125,
          3068.68115234375,
          3028.95166015625,
          3109.65283203125,
          3266.493408203125,
          3329.942626953125,
          3302.137939453125,
          3317.462158203125,
          3227.9375,
          3333.178466796875,
          3566.610107421875,
          3487.694580078125,
          3409.6240234375,
          3583.287841796875,
          3512.07275390625,
          3633.342529296875,
          3562.369140625,
          3388.561767578125,
          3669.927490234375,
          3818.62353515625,
          3741.557861328125,
          3710.560791015625,
          3728.26513671875,
          3959.53759765625,
          3966.604736328125,
          3926.591064453125,
          3883.68701171875,
          3914.278564453125,
          3994.159912109375,
          4152.4658203125,
          4084.03466796875,
          4036.50830078125,
          4132.17041015625,
          4078.27490234375,
          4064.594970703125,
          4043.553466796875,
          4009.41845703125,
          3724.737060546875,
          3788.36376953125,
          3518.988525390625,
          3808.15771484375,
          3907.05322265625,
          3786.753662109375,
          3636.850830078125,
          3859.659423828125,
          3784.59912109375,
          3813.626708984375,
          3560.872802734375,
          3619.179443359375,
          3802.931884765625,
          3936.27392578125,
          4087.775634765625,
          4052.44970703125,
          3990.1884765625,
          3730.352783203125,
          3641.142578125,
          3713.937255859375,
          3862.822265625,
          3827.800537109375,
          3913.293701171875,
          3647.899169921875,
          3453.191650390625,
          3609.128173828125,
          3655.332275390625,
          3353.7861328125,
          3327.033447265625,
          3559.07080078125,
          3496.11083984375,
          3451.455078125,
          3523.89794921875,
          3488.903076171875,
          3488.23828125,
          3561.701171875,
          3515.755859375,
          3627.9404296875,
          3575.166259765625,
          3615.17333984375,
          3591.950927734375,
          3563.713134765625,
          3359.69677734375,
          3194.185546875,
          3280.010986328125,
          3237.7783203125,
          3314.324951171875,
          3367.267578125,
          3328.035400390625,
          3362.57763671875,
          3138.9716796875,
          3025.773193359375,
          2810.4052734375,
          2721.566650390625,
          2781.27490234375,
          2721.19775390625,
          2848.93603515625,
          2947.684326171875,
          2835.210205078125,
          2899.617431640625,
          2917.6015625,
          2937.954345703125,
          2815.29296875,
          2792.79638671875,
          2729.2119140625,
          2652.7109375,
          2254.727294921875,
          2120.0830078125,
          2235.2529296875,
          2155.06787109375,
          2172.775390625,
          2195.562255859375,
          2174.168701171875,
          2284.509765625,
          2329.3486328125,
          2334.466064453125,
          2393.99560546875,
          2476.78662109375,
          2374.2802734375,
          2342.839111328125,
          2605.945556640625,
          2633.0751953125,
          2626.71044921875
         ],
         "high": [
          3343.06591796875,
          3320.818115234375,
          3011.1767578125,
          3011.8759765625,
          2971.575439453125,
          2832.510009765625,
          2930.643310546875,
          2901.586181640625,
          2905.44970703125,
          3058.9013671875,
          3110.239990234375,
          3051.031494140625,
          3019.646728515625,
          2940.77392578125,
          2851.0576171875,
          2643.251220703125,
          2628.4482421875,
          2701.9814453125,
          2690.019775390625,
          2533.25,
          2658.001220703125,
          2698.163330078125,
          2540.424560546875,
          2526.234619140625,
          2630.74560546875,
          2872.06201171875,
          2988.488037109375,
          3004.51416015625,
          2954.116455078125,
          3053.6982421875,
          3140.17236328125,
          3159.19970703125,
          3174.71630859375,
          3135.834716796875,
          3114.234130859375,
          3129.672607421875,
          3069.65380859375,
          3110.829345703125,
          3294.507568359375,
          3358.129638671875,
          3415.9951171875,
          3374.998291015625,
          3354.470947265625,
          3339.41748046875,
          3575.23291015625,
          3751.11181640625,
          3580.28369140625,
          3583.287841796875,
          3595.369873046875,
          3650.261474609375,
          3697.83154296875,
          3705.048828125,
          3675.207763671875,
          3859.21044921875,
          3829.09130859375,
          3801.0673828125,
          3782.48779296875,
          3972.515380859375,
          4018.012939453125,
          3966.69873046875,
          3956.800537109375,
          3922.4296875,
          4016.295654296875,
          4162.05126953125,
          4170.48095703125,
          4215.7353515625,
          4167.82958984375,
          4203.55908203125,
          4108.8583984375,
          4098.134765625,
          4163.439453125,
          4300.85546875,
          3799.35986328125,
          3832.2421875,
          3819.69140625,
          3928.7216796875,
          3918.181640625,
          3815.158935546875,
          3898.234375,
          3892.460693359375,
          4059.794677734375,
          4059.4697265625,
          3699.366455078125,
          3806.333740234375,
          3952.334228515625,
          4180.57861328125,
          4222.05615234375,
          4082.855712890625,
          4110.220703125,
          3749.814208984375,
          3753.68994140625,
          3877.1181640625,
          3931.533203125,
          3932.427734375,
          3951.635009765625,
          3743.111572265625,
          3619.021484375,
          3688.093017578125,
          3664.568359375,
          3434.108154296875,
          3618.802001953125,
          3635.596435546875,
          3525.4560546875,
          3553.230712890625,
          3575.320068359375,
          3539.40625,
          3596.77734375,
          3612.931640625,
          3660.26708984375,
          3652.19775390625,
          3655.168212890625,
          3625.544921875,
          3643.069580078125,
          3563.70458984375,
          3384.8662109375,
          3328.605224609375,
          3359.883056640625,
          3314.519287109375,
          3372.76123046875,
          3386.76904296875,
          3433.73046875,
          3396.484619140625,
          3138.372314453125,
          3027.591064453125,
          2852.12890625,
          2824.496337890625,
          2803.176025390625,
          2859.77197265625,
          2971.5234375,
          2959.348388671875,
          2917.564697265625,
          2947.392333984375,
          2957.784912109375,
          2942.214599609375,
          2834.245361328125,
          2800.646484375,
          2877.120849609375,
          2679.500732421875,
          2305.2490234375,
          2240.31591796875,
          2237.165771484375,
          2211.998291015625,
          2398.147216796875,
          2251.97314453125,
          2286.0224609375,
          2356.7265625,
          2361.0654296875,
          2401.788330078125,
          2492.85009765625,
          2475.729248046875,
          2401.1494140625,
          2605.945556640625,
          2667.559814453125,
          2647.5478515625
         ],
         "low": [
          3261.09814453125,
          2585.342529296875,
          2727.960693359375,
          2875.916015625,
          2672.598876953125,
          2716.074951171875,
          2738.206298828125,
          2644.896240234375,
          2772.18603515625,
          2851.31201171875,
          2965.668212890625,
          2862.58203125,
          2875.752197265625,
          2802.41162109375,
          2510.776611328125,
          2282.16455078125,
          2339.422119140625,
          2598.925537109375,
          2343.555908203125,
          2405.244140625,
          2341.774169921875,
          2507.484619140625,
          2390.337158203125,
          2403.504150390625,
          2448.769775390625,
          2573.140380859375,
          2811.835693359375,
          2887.8173828125,
          2824.780517578125,
          2902.819091796875,
          2904.216064453125,
          3010.636474609375,
          3065.074951171875,
          3063.91259765625,
          2952.915283203125,
          2926.2021484375,
          2953.596435546875,
          2955.422607421875,
          3095.91943359375,
          3220.63037109375,
          3281.02001953125,
          3157.718017578125,
          3177.625,
          3217.341552734375,
          3291.678955078125,
          3464.81103515625,
          3362.130126953125,
          3387.681396484375,
          3407.59375,
          3496.900390625,
          3542.06591796875,
          3388.561767578125,
          3369.06591796875,
          3655.8466796875,
          3678.27978515625,
          3616.929931640625,
          3602.73974609375,
          3697.701416015625,
          3858.028564453125,
          3833.123291015625,
          3844.296875,
          3752.734619140625,
          3905.10498046875,
          3993.37744140625,
          4070.346923828125,
          3907.30126953125,
          3989.35986328125,
          3940.0771484375,
          4004.05615234375,
          3944.459228515625,
          3999.925048828125,
          3648.26220703125,
          3630.66650390625,
          3481.444091796875,
          3503.158935546875,
          3729.250244140625,
          3774.091064453125,
          3590.31103515625,
          3620.3056640625,
          3726.671630859375,
          3792.285888671875,
          3487.478271484375,
          3563.173828125,
          3524.70751953125,
          3796.319580078125,
          3848.97265625,
          4001.263671875,
          3929.908203125,
          3625.8408203125,
          3115.9091796875,
          3570.99072265625,
          3477.09326171875,
          3784.207763671875,
          3756.161865234375,
          3611.739013671875,
          3443.712646484375,
          3398.023681640625,
          3528.3681640625,
          3259.514404296875,
          3280.142822265625,
          3255.235107421875,
          3490.97900390625,
          3283.452880859375,
          3358.154296875,
          3464.7685546875,
          3329.327392578125,
          3472.2041015625,
          3493.3662109375,
          3440.478515625,
          3558.457763671875,
          3557.453125,
          3544.292724609375,
          3560.480712890625,
          3335.72607421875,
          3182.298828125,
          3167.706298828125,
          3195.095703125,
          3237.473876953125,
          3277.10009765625,
          3273.615478515625,
          3293.105712890625,
          3056.25732421875,
          2950.220703125,
          2748.938232421875,
          2658.991455078125,
          2707.429443359375,
          2609.351318359375,
          2700.91796875,
          2831.69921875,
          2835.197998046875,
          2797.274658203125,
          2872.17138671875,
          2883.4658203125,
          2767.190185546875,
          2734.960693359375,
          2695.68115234375,
          2652.523681640625,
          2200.853271484375,
          2054.031494140625,
          2099.28662109375,
          1922.9600830078125,
          2086.111572265625,
          2151.21337890625,
          2089.478515625,
          2127.439453125,
          2266.479736328125,
          2288.722412109375,
          2230.1240234375,
          2388.8935546875,
          2326.4072265625,
          2264.18359375,
          2336.869140625,
          2591.2666015625,
          2617.0029296875
         ],
         "name": "market data",
         "open": [
          3324.67138671875,
          3307.00390625,
          2894.490478515625,
          2921.19775390625,
          2897.000244140625,
          2717.053955078125,
          2767.98486328125,
          2884.755615234375,
          2782.750732421875,
          2907.1845703125,
          3057.032470703125,
          3034.090087890625,
          2897.52587890625,
          2927.95263671875,
          2838.74072265625,
          2538.86279296875,
          2357.10302734375,
          2633.594970703125,
          2687.00244140625,
          2500.63671875,
          2496.8583984375,
          2615.2978515625,
          2504.2958984375,
          2403.955322265625,
          2458.92578125,
          2593.0146484375,
          2853.963623046875,
          2924.601318359375,
          2945.50830078125,
          2911.239501953125,
          3032.609375,
          3095.443359375,
          3103.794677734375,
          3077.1875,
          3089.84033203125,
          2956.802001953125,
          3069.65380859375,
          3029.10791015625,
          3108.581298828125,
          3270.065673828125,
          3332.556396484375,
          3301.686767578125,
          3318.00146484375,
          3226.56201171875,
          3333.2470703125,
          3571.520263671875,
          3488.86767578125,
          3410.6328125,
          3583.453369140625,
          3509.085205078125,
          3632.878173828125,
          3563.29296875,
          3383.869873046875,
          3671.0986328125,
          3818.188232421875,
          3739.044189453125,
          3710.6845703125,
          3726.432373046875,
          3963.757080078125,
          3964.439453125,
          3926.677001953125,
          3880.574462890625,
          3916.357177734375,
          3993.37744140625,
          4150.72607421875,
          4082.5634765625,
          4035.881103515625,
          4126.861328125,
          4077.928466796875,
          4062.1240234375,
          4044.193115234375,
          4020.832275390625,
          3722.56884765625,
          3788.5478515625,
          3514.65966796875,
          3808.19677734375,
          3909.059326171875,
          3783.89453125,
          3637.9384765625,
          3859.012451171875,
          3812.638427734375,
          4034.3984375,
          3571.552978515625,
          3623.36376953125,
          3805.139892578125,
          3938.6318359375,
          4080.891845703125,
          4051.869140625,
          3992.88916015625,
          3736.589111328125,
          3641.17919921875,
          3714.536376953125,
          3862.68896484375,
          3824.795654296875,
          3907.711669921875,
          3642.38525390625,
          3454.2265625,
          3609.445556640625,
          3657.017578125,
          3352.5419921875,
          3430.79541015625,
          3560.865478515625,
          3493.060546875,
          3452.171142578125,
          3523.908935546875,
          3489.884033203125,
          3492.33447265625,
          3560.3154296875,
          3515.634033203125,
          3630.880859375,
          3576.75537109375,
          3615.9423828125,
          3589.671142578125,
          3563.70458984375,
          3356.641357421875,
          3197.43212890625,
          3279.638427734375,
          3238.142333984375,
          3313.974609375,
          3367.241943359375,
          3328.018798828125,
          3362.765869140625,
          3138.372314453125,
          3025.2685546875,
          2810.662353515625,
          2721.323486328125,
          2781.115478515625,
          2721.103271484375,
          2849.233642578125,
          2947.55029296875,
          2835.524658203125,
          2899.479736328125,
          2917.475830078125,
          2937.9765625,
          2815.27783203125,
          2792.64208984375,
          2728.723388671875,
          2654.334716796875,
          2257.56005859375,
          2121.61962890625,
          2236.004150390625,
          2155.104248046875,
          2172.460693359375,
          2194.813232421875,
          2172.953369140625,
          2284.06005859375,
          2330.67626953125,
          2334.28369140625,
          2393.6572265625,
          2476.646240234375,
          2373.724365234375,
          2344.496337890625,
          2606.69580078125,
          2635.688720703125
         ],
         "type": "candlestick",
         "x": [
          "2021-09-06T00:00:00",
          "2021-09-07T00:00:00",
          "2021-09-08T00:00:00",
          "2021-09-09T00:00:00",
          "2021-09-10T00:00:00",
          "2021-09-11T00:00:00",
          "2021-09-12T00:00:00",
          "2021-09-13T00:00:00",
          "2021-09-14T00:00:00",
          "2021-09-15T00:00:00",
          "2021-09-16T00:00:00",
          "2021-09-17T00:00:00",
          "2021-09-18T00:00:00",
          "2021-09-19T00:00:00",
          "2021-09-20T00:00:00",
          "2021-09-21T00:00:00",
          "2021-09-22T00:00:00",
          "2021-09-23T00:00:00",
          "2021-09-24T00:00:00",
          "2021-09-25T00:00:00",
          "2021-09-26T00:00:00",
          "2021-09-27T00:00:00",
          "2021-09-28T00:00:00",
          "2021-09-29T00:00:00",
          "2021-09-30T00:00:00",
          "2021-10-01T00:00:00",
          "2021-10-02T00:00:00",
          "2021-10-03T00:00:00",
          "2021-10-04T00:00:00",
          "2021-10-05T00:00:00",
          "2021-10-06T00:00:00",
          "2021-10-07T00:00:00",
          "2021-10-08T00:00:00",
          "2021-10-09T00:00:00",
          "2021-10-10T00:00:00",
          "2021-10-11T00:00:00",
          "2021-10-12T00:00:00",
          "2021-10-13T00:00:00",
          "2021-10-14T00:00:00",
          "2021-10-15T00:00:00",
          "2021-10-16T00:00:00",
          "2021-10-17T00:00:00",
          "2021-10-18T00:00:00",
          "2021-10-19T00:00:00",
          "2021-10-20T00:00:00",
          "2021-10-21T00:00:00",
          "2021-10-22T00:00:00",
          "2021-10-23T00:00:00",
          "2021-10-24T00:00:00",
          "2021-10-25T00:00:00",
          "2021-10-26T00:00:00",
          "2021-10-27T00:00:00",
          "2021-10-28T00:00:00",
          "2021-10-29T00:00:00",
          "2021-10-30T00:00:00",
          "2021-10-31T00:00:00",
          "2021-11-01T00:00:00",
          "2021-11-02T00:00:00",
          "2021-11-03T00:00:00",
          "2021-11-04T00:00:00",
          "2021-11-05T00:00:00",
          "2021-11-06T00:00:00",
          "2021-11-07T00:00:00",
          "2021-11-08T00:00:00",
          "2021-11-09T00:00:00",
          "2021-11-10T00:00:00",
          "2021-11-11T00:00:00",
          "2021-11-12T00:00:00",
          "2021-11-13T00:00:00",
          "2021-11-14T00:00:00",
          "2021-11-15T00:00:00",
          "2021-11-16T00:00:00",
          "2021-11-17T00:00:00",
          "2021-11-18T00:00:00",
          "2021-11-19T00:00:00",
          "2021-11-20T00:00:00",
          "2021-11-21T00:00:00",
          "2021-11-22T00:00:00",
          "2021-11-23T00:00:00",
          "2021-11-24T00:00:00",
          "2021-11-25T00:00:00",
          "2021-11-26T00:00:00",
          "2021-11-27T00:00:00",
          "2021-11-28T00:00:00",
          "2021-11-29T00:00:00",
          "2021-11-30T00:00:00",
          "2021-12-01T00:00:00",
          "2021-12-02T00:00:00",
          "2021-12-03T00:00:00",
          "2021-12-04T00:00:00",
          "2021-12-05T00:00:00",
          "2021-12-06T00:00:00",
          "2021-12-07T00:00:00",
          "2021-12-08T00:00:00",
          "2021-12-09T00:00:00",
          "2021-12-10T00:00:00",
          "2021-12-11T00:00:00",
          "2021-12-12T00:00:00",
          "2021-12-13T00:00:00",
          "2021-12-14T00:00:00",
          "2021-12-15T00:00:00",
          "2021-12-16T00:00:00",
          "2021-12-17T00:00:00",
          "2021-12-18T00:00:00",
          "2021-12-19T00:00:00",
          "2021-12-20T00:00:00",
          "2021-12-21T00:00:00",
          "2021-12-22T00:00:00",
          "2021-12-23T00:00:00",
          "2021-12-24T00:00:00",
          "2021-12-25T00:00:00",
          "2021-12-26T00:00:00",
          "2021-12-27T00:00:00",
          "2021-12-28T00:00:00",
          "2021-12-29T00:00:00",
          "2021-12-30T00:00:00",
          "2021-12-31T00:00:00",
          "2022-01-01T00:00:00",
          "2022-01-02T00:00:00",
          "2022-01-03T00:00:00",
          "2022-01-04T00:00:00",
          "2022-01-05T00:00:00",
          "2022-01-06T00:00:00",
          "2022-01-07T00:00:00",
          "2022-01-08T00:00:00",
          "2022-01-09T00:00:00",
          "2022-01-10T00:00:00",
          "2022-01-11T00:00:00",
          "2022-01-12T00:00:00",
          "2022-01-13T00:00:00",
          "2022-01-14T00:00:00",
          "2022-01-15T00:00:00",
          "2022-01-16T00:00:00",
          "2022-01-17T00:00:00",
          "2022-01-18T00:00:00",
          "2022-01-19T00:00:00",
          "2022-01-20T00:00:00",
          "2022-01-21T00:00:00",
          "2022-01-22T00:00:00",
          "2022-01-23T00:00:00",
          "2022-01-24T00:00:00",
          "2022-01-25T00:00:00",
          "2022-01-26T00:00:00",
          "2022-01-27T00:00:00",
          "2022-01-28T00:00:00",
          "2022-01-29T00:00:00",
          "2022-01-30T00:00:00",
          "2022-01-31T00:00:00",
          "2022-02-01T00:00:00",
          "2022-02-02T00:00:00",
          "2022-02-03T00:00:00",
          "2022-02-04T00:00:00",
          "2022-02-05T00:00:00",
          "2022-02-06T00:00:00"
         ]
        }
       ],
       "layout": {
        "autosize": true,
        "template": {
         "data": {
          "bar": [
           {
            "error_x": {
             "color": "#2a3f5f"
            },
            "error_y": {
             "color": "#2a3f5f"
            },
            "marker": {
             "line": {
              "color": "#E5ECF6",
              "width": 0.5
             },
             "pattern": {
              "fillmode": "overlay",
              "size": 10,
              "solidity": 0.2
             }
            },
            "type": "bar"
           }
          ],
          "barpolar": [
           {
            "marker": {
             "line": {
              "color": "#E5ECF6",
              "width": 0.5
             },
             "pattern": {
              "fillmode": "overlay",
              "size": 10,
              "solidity": 0.2
             }
            },
            "type": "barpolar"
           }
          ],
          "carpet": [
           {
            "aaxis": {
             "endlinecolor": "#2a3f5f",
             "gridcolor": "white",
             "linecolor": "white",
             "minorgridcolor": "white",
             "startlinecolor": "#2a3f5f"
            },
            "baxis": {
             "endlinecolor": "#2a3f5f",
             "gridcolor": "white",
             "linecolor": "white",
             "minorgridcolor": "white",
             "startlinecolor": "#2a3f5f"
            },
            "type": "carpet"
           }
          ],
          "choropleth": [
           {
            "colorbar": {
             "outlinewidth": 0,
             "ticks": ""
            },
            "type": "choropleth"
           }
          ],
          "contour": [
           {
            "colorbar": {
             "outlinewidth": 0,
             "ticks": ""
            },
            "colorscale": [
             [
              0,
              "#0d0887"
             ],
             [
              0.1111111111111111,
              "#46039f"
             ],
             [
              0.2222222222222222,
              "#7201a8"
             ],
             [
              0.3333333333333333,
              "#9c179e"
             ],
             [
              0.4444444444444444,
              "#bd3786"
             ],
             [
              0.5555555555555556,
              "#d8576b"
             ],
             [
              0.6666666666666666,
              "#ed7953"
             ],
             [
              0.7777777777777778,
              "#fb9f3a"
             ],
             [
              0.8888888888888888,
              "#fdca26"
             ],
             [
              1,
              "#f0f921"
             ]
            ],
            "type": "contour"
           }
          ],
          "contourcarpet": [
           {
            "colorbar": {
             "outlinewidth": 0,
             "ticks": ""
            },
            "type": "contourcarpet"
           }
          ],
          "heatmap": [
           {
            "colorbar": {
             "outlinewidth": 0,
             "ticks": ""
            },
            "colorscale": [
             [
              0,
              "#0d0887"
             ],
             [
              0.1111111111111111,
              "#46039f"
             ],
             [
              0.2222222222222222,
              "#7201a8"
             ],
             [
              0.3333333333333333,
              "#9c179e"
             ],
             [
              0.4444444444444444,
              "#bd3786"
             ],
             [
              0.5555555555555556,
              "#d8576b"
             ],
             [
              0.6666666666666666,
              "#ed7953"
             ],
             [
              0.7777777777777778,
              "#fb9f3a"
             ],
             [
              0.8888888888888888,
              "#fdca26"
             ],
             [
              1,
              "#f0f921"
             ]
            ],
            "type": "heatmap"
           }
          ],
          "heatmapgl": [
           {
            "colorbar": {
             "outlinewidth": 0,
             "ticks": ""
            },
            "colorscale": [
             [
              0,
              "#0d0887"
             ],
             [
              0.1111111111111111,
              "#46039f"
             ],
             [
              0.2222222222222222,
              "#7201a8"
             ],
             [
              0.3333333333333333,
              "#9c179e"
             ],
             [
              0.4444444444444444,
              "#bd3786"
             ],
             [
              0.5555555555555556,
              "#d8576b"
             ],
             [
              0.6666666666666666,
              "#ed7953"
             ],
             [
              0.7777777777777778,
              "#fb9f3a"
             ],
             [
              0.8888888888888888,
              "#fdca26"
             ],
             [
              1,
              "#f0f921"
             ]
            ],
            "type": "heatmapgl"
           }
          ],
          "histogram": [
           {
            "marker": {
             "pattern": {
              "fillmode": "overlay",
              "size": 10,
              "solidity": 0.2
             }
            },
            "type": "histogram"
           }
          ],
          "histogram2d": [
           {
            "colorbar": {
             "outlinewidth": 0,
             "ticks": ""
            },
            "colorscale": [
             [
              0,
              "#0d0887"
             ],
             [
              0.1111111111111111,
              "#46039f"
             ],
             [
              0.2222222222222222,
              "#7201a8"
             ],
             [
              0.3333333333333333,
              "#9c179e"
             ],
             [
              0.4444444444444444,
              "#bd3786"
             ],
             [
              0.5555555555555556,
              "#d8576b"
             ],
             [
              0.6666666666666666,
              "#ed7953"
             ],
             [
              0.7777777777777778,
              "#fb9f3a"
             ],
             [
              0.8888888888888888,
              "#fdca26"
             ],
             [
              1,
              "#f0f921"
             ]
            ],
            "type": "histogram2d"
           }
          ],
          "histogram2dcontour": [
           {
            "colorbar": {
             "outlinewidth": 0,
             "ticks": ""
            },
            "colorscale": [
             [
              0,
              "#0d0887"
             ],
             [
              0.1111111111111111,
              "#46039f"
             ],
             [
              0.2222222222222222,
              "#7201a8"
             ],
             [
              0.3333333333333333,
              "#9c179e"
             ],
             [
              0.4444444444444444,
              "#bd3786"
             ],
             [
              0.5555555555555556,
              "#d8576b"
             ],
             [
              0.6666666666666666,
              "#ed7953"
             ],
             [
              0.7777777777777778,
              "#fb9f3a"
             ],
             [
              0.8888888888888888,
              "#fdca26"
             ],
             [
              1,
              "#f0f921"
             ]
            ],
            "type": "histogram2dcontour"
           }
          ],
          "mesh3d": [
           {
            "colorbar": {
             "outlinewidth": 0,
             "ticks": ""
            },
            "type": "mesh3d"
           }
          ],
          "parcoords": [
           {
            "line": {
             "colorbar": {
              "outlinewidth": 0,
              "ticks": ""
             }
            },
            "type": "parcoords"
           }
          ],
          "pie": [
           {
            "automargin": true,
            "type": "pie"
           }
          ],
          "scatter": [
           {
            "marker": {
             "colorbar": {
              "outlinewidth": 0,
              "ticks": ""
             }
            },
            "type": "scatter"
           }
          ],
          "scatter3d": [
           {
            "line": {
             "colorbar": {
              "outlinewidth": 0,
              "ticks": ""
             }
            },
            "marker": {
             "colorbar": {
              "outlinewidth": 0,
              "ticks": ""
             }
            },
            "type": "scatter3d"
           }
          ],
          "scattercarpet": [
           {
            "marker": {
             "colorbar": {
              "outlinewidth": 0,
              "ticks": ""
             }
            },
            "type": "scattercarpet"
           }
          ],
          "scattergeo": [
           {
            "marker": {
             "colorbar": {
              "outlinewidth": 0,
              "ticks": ""
             }
            },
            "type": "scattergeo"
           }
          ],
          "scattergl": [
           {
            "marker": {
             "colorbar": {
              "outlinewidth": 0,
              "ticks": ""
             }
            },
            "type": "scattergl"
           }
          ],
          "scattermapbox": [
           {
            "marker": {
             "colorbar": {
              "outlinewidth": 0,
              "ticks": ""
             }
            },
            "type": "scattermapbox"
           }
          ],
          "scatterpolar": [
           {
            "marker": {
             "colorbar": {
              "outlinewidth": 0,
              "ticks": ""
             }
            },
            "type": "scatterpolar"
           }
          ],
          "scatterpolargl": [
           {
            "marker": {
             "colorbar": {
              "outlinewidth": 0,
              "ticks": ""
             }
            },
            "type": "scatterpolargl"
           }
          ],
          "scatterternary": [
           {
            "marker": {
             "colorbar": {
              "outlinewidth": 0,
              "ticks": ""
             }
            },
            "type": "scatterternary"
           }
          ],
          "surface": [
           {
            "colorbar": {
             "outlinewidth": 0,
             "ticks": ""
            },
            "colorscale": [
             [
              0,
              "#0d0887"
             ],
             [
              0.1111111111111111,
              "#46039f"
             ],
             [
              0.2222222222222222,
              "#7201a8"
             ],
             [
              0.3333333333333333,
              "#9c179e"
             ],
             [
              0.4444444444444444,
              "#bd3786"
             ],
             [
              0.5555555555555556,
              "#d8576b"
             ],
             [
              0.6666666666666666,
              "#ed7953"
             ],
             [
              0.7777777777777778,
              "#fb9f3a"
             ],
             [
              0.8888888888888888,
              "#fdca26"
             ],
             [
              1,
              "#f0f921"
             ]
            ],
            "type": "surface"
           }
          ],
          "table": [
           {
            "cells": {
             "fill": {
              "color": "#EBF0F8"
             },
             "line": {
              "color": "white"
             }
            },
            "header": {
             "fill": {
              "color": "#C8D4E3"
             },
             "line": {
              "color": "white"
             }
            },
            "type": "table"
           }
          ]
         },
         "layout": {
          "annotationdefaults": {
           "arrowcolor": "#2a3f5f",
           "arrowhead": 0,
           "arrowwidth": 1
          },
          "autotypenumbers": "strict",
          "coloraxis": {
           "colorbar": {
            "outlinewidth": 0,
            "ticks": ""
           }
          },
          "colorscale": {
           "diverging": [
            [
             0,
             "#8e0152"
            ],
            [
             0.1,
             "#c51b7d"
            ],
            [
             0.2,
             "#de77ae"
            ],
            [
             0.3,
             "#f1b6da"
            ],
            [
             0.4,
             "#fde0ef"
            ],
            [
             0.5,
             "#f7f7f7"
            ],
            [
             0.6,
             "#e6f5d0"
            ],
            [
             0.7,
             "#b8e186"
            ],
            [
             0.8,
             "#7fbc41"
            ],
            [
             0.9,
             "#4d9221"
            ],
            [
             1,
             "#276419"
            ]
           ],
           "sequential": [
            [
             0,
             "#0d0887"
            ],
            [
             0.1111111111111111,
             "#46039f"
            ],
            [
             0.2222222222222222,
             "#7201a8"
            ],
            [
             0.3333333333333333,
             "#9c179e"
            ],
            [
             0.4444444444444444,
             "#bd3786"
            ],
            [
             0.5555555555555556,
             "#d8576b"
            ],
            [
             0.6666666666666666,
             "#ed7953"
            ],
            [
             0.7777777777777778,
             "#fb9f3a"
            ],
            [
             0.8888888888888888,
             "#fdca26"
            ],
            [
             1,
             "#f0f921"
            ]
           ],
           "sequentialminus": [
            [
             0,
             "#0d0887"
            ],
            [
             0.1111111111111111,
             "#46039f"
            ],
            [
             0.2222222222222222,
             "#7201a8"
            ],
            [
             0.3333333333333333,
             "#9c179e"
            ],
            [
             0.4444444444444444,
             "#bd3786"
            ],
            [
             0.5555555555555556,
             "#d8576b"
            ],
            [
             0.6666666666666666,
             "#ed7953"
            ],
            [
             0.7777777777777778,
             "#fb9f3a"
            ],
            [
             0.8888888888888888,
             "#fdca26"
            ],
            [
             1,
             "#f0f921"
            ]
           ]
          },
          "colorway": [
           "#636efa",
           "#EF553B",
           "#00cc96",
           "#ab63fa",
           "#FFA15A",
           "#19d3f3",
           "#FF6692",
           "#B6E880",
           "#FF97FF",
           "#FECB52"
          ],
          "font": {
           "color": "#2a3f5f"
          },
          "geo": {
           "bgcolor": "white",
           "lakecolor": "white",
           "landcolor": "#E5ECF6",
           "showlakes": true,
           "showland": true,
           "subunitcolor": "white"
          },
          "hoverlabel": {
           "align": "left"
          },
          "hovermode": "closest",
          "mapbox": {
           "style": "light"
          },
          "paper_bgcolor": "white",
          "plot_bgcolor": "#E5ECF6",
          "polar": {
           "angularaxis": {
            "gridcolor": "white",
            "linecolor": "white",
            "ticks": ""
           },
           "bgcolor": "#E5ECF6",
           "radialaxis": {
            "gridcolor": "white",
            "linecolor": "white",
            "ticks": ""
           }
          },
          "scene": {
           "xaxis": {
            "backgroundcolor": "#E5ECF6",
            "gridcolor": "white",
            "gridwidth": 2,
            "linecolor": "white",
            "showbackground": true,
            "ticks": "",
            "zerolinecolor": "white"
           },
           "yaxis": {
            "backgroundcolor": "#E5ECF6",
            "gridcolor": "white",
            "gridwidth": 2,
            "linecolor": "white",
            "showbackground": true,
            "ticks": "",
            "zerolinecolor": "white"
           },
           "zaxis": {
            "backgroundcolor": "#E5ECF6",
            "gridcolor": "white",
            "gridwidth": 2,
            "linecolor": "white",
            "showbackground": true,
            "ticks": "",
            "zerolinecolor": "white"
           }
          },
          "shapedefaults": {
           "line": {
            "color": "#2a3f5f"
           }
          },
          "ternary": {
           "aaxis": {
            "gridcolor": "white",
            "linecolor": "white",
            "ticks": ""
           },
           "baxis": {
            "gridcolor": "white",
            "linecolor": "white",
            "ticks": ""
           },
           "bgcolor": "#E5ECF6",
           "caxis": {
            "gridcolor": "white",
            "linecolor": "white",
            "ticks": ""
           }
          },
          "title": {
           "x": 0.05
          },
          "xaxis": {
           "automargin": true,
           "gridcolor": "white",
           "linecolor": "white",
           "ticks": "",
           "title": {
            "standoff": 15
           },
           "zerolinecolor": "white",
           "zerolinewidth": 2
          },
          "yaxis": {
           "automargin": true,
           "gridcolor": "white",
           "linecolor": "white",
           "ticks": "",
           "title": {
            "standoff": 15
           },
           "zerolinecolor": "white",
           "zerolinewidth": 2
          }
         }
        },
        "title": {
         "text": "ETH-EUR"
        },
        "xaxis": {
         "autorange": true,
         "range": [
          "2021-09-05 12:00",
          "2022-02-06 12:00"
         ],
         "rangeslider": {
          "autorange": true,
          "range": [
           "2021-09-05 12:00",
           "2022-02-06 12:00"
          ],
          "yaxis": {
           "_template": null,
           "rangemode": "match"
          }
         },
         "type": "date"
        },
        "yaxis": {
         "autorange": true,
         "range": [
          1790.854783799913,
          4432.960767957899
         ]
        }
       }
      },
      "image/png": "[encoded data removed]",
      "text/html": [
       "<div>                            <div id=\"d62989e2-3460-4244-bf6b-b4c5cf06380c\" class=\"plotly-graph-div\" style=\"height:525px; width:100%;\"></div>            <script type=\"text/javascript\">                require([\"plotly\"], function(Plotly) {                    window.PLOTLYENV=window.PLOTLYENV || {};                                    if (document.getElementById(\"d62989e2-3460-4244-bf6b-b4c5cf06380c\")) {                    Plotly.newPlot(                        \"d62989e2-3460-4244-bf6b-b4c5cf06380c\",                        [{\"close\":[3308.563720703125,2892.815673828125,2959.07470703125,2898.501708984375,2719.14990234375,2767.97314453125,2887.009765625,2782.069580078125,2905.44970703125,3058.9013671875,3035.557861328125,2898.477783203125,2926.869873046875,2838.55078125,2523.2431640625,2358.1455078125,2633.50390625,2687.821533203125,2501.30615234375,2496.195068359375,2612.250244140625,2508.720947265625,2402.2431640625,2459.429443359375,2593.48974609375,2852.79541015625,2925.40087890625,2945.1484375,2909.7802734375,3034.28955078125,3098.6865234375,3103.91748046875,3080.438720703125,3090.442138671875,2962.0986328125,3068.68115234375,3028.95166015625,3109.65283203125,3266.493408203125,3329.942626953125,3302.137939453125,3317.462158203125,3227.9375,3333.178466796875,3566.610107421875,3487.694580078125,3409.6240234375,3583.287841796875,3512.07275390625,3633.342529296875,3562.369140625,3388.561767578125,3669.927490234375,3818.62353515625,3741.557861328125,3710.560791015625,3728.26513671875,3959.53759765625,3966.604736328125,3926.591064453125,3883.68701171875,3914.278564453125,3994.159912109375,4152.4658203125,4084.03466796875,4036.50830078125,4132.17041015625,4078.27490234375,4064.594970703125,4043.553466796875,4009.41845703125,3724.737060546875,3788.36376953125,3518.988525390625,3808.15771484375,3907.05322265625,3786.753662109375,3636.850830078125,3859.659423828125,3784.59912109375,3813.626708984375,3560.872802734375,3619.179443359375,3802.931884765625,3936.27392578125,4087.775634765625,4052.44970703125,3990.1884765625,3730.352783203125,3641.142578125,3713.937255859375,3862.822265625,3827.800537109375,3913.293701171875,3647.899169921875,3453.191650390625,3609.128173828125,3655.332275390625,3353.7861328125,3327.033447265625,3559.07080078125,3496.11083984375,3451.455078125,3523.89794921875,3488.903076171875,3488.23828125,3561.701171875,3515.755859375,3627.9404296875,3575.166259765625,3615.17333984375,3591.950927734375,3563.713134765625,3359.69677734375,3194.185546875,3280.010986328125,3237.7783203125,3314.324951171875,3367.267578125,3328.035400390625,3362.57763671875,3138.9716796875,3025.773193359375,2810.4052734375,2721.566650390625,2781.27490234375,2721.19775390625,2848.93603515625,2947.684326171875,2835.210205078125,2899.617431640625,2917.6015625,2937.954345703125,2815.29296875,2792.79638671875,2729.2119140625,2652.7109375,2254.727294921875,2120.0830078125,2235.2529296875,2155.06787109375,2172.775390625,2195.562255859375,2174.168701171875,2284.509765625,2329.3486328125,2334.466064453125,2393.99560546875,2476.78662109375,2374.2802734375,2342.839111328125,2605.945556640625,2633.0751953125,2626.71044921875],\"high\":[3343.06591796875,3320.818115234375,3011.1767578125,3011.8759765625,2971.575439453125,2832.510009765625,2930.643310546875,2901.586181640625,2905.44970703125,3058.9013671875,3110.239990234375,3051.031494140625,3019.646728515625,2940.77392578125,2851.0576171875,2643.251220703125,2628.4482421875,2701.9814453125,2690.019775390625,2533.25,2658.001220703125,2698.163330078125,2540.424560546875,2526.234619140625,2630.74560546875,2872.06201171875,2988.488037109375,3004.51416015625,2954.116455078125,3053.6982421875,3140.17236328125,3159.19970703125,3174.71630859375,3135.834716796875,3114.234130859375,3129.672607421875,3069.65380859375,3110.829345703125,3294.507568359375,3358.129638671875,3415.9951171875,3374.998291015625,3354.470947265625,3339.41748046875,3575.23291015625,3751.11181640625,3580.28369140625,3583.287841796875,3595.369873046875,3650.261474609375,3697.83154296875,3705.048828125,3675.207763671875,3859.21044921875,3829.09130859375,3801.0673828125,3782.48779296875,3972.515380859375,4018.012939453125,3966.69873046875,3956.800537109375,3922.4296875,4016.295654296875,4162.05126953125,4170.48095703125,4215.7353515625,4167.82958984375,4203.55908203125,4108.8583984375,4098.134765625,4163.439453125,4300.85546875,3799.35986328125,3832.2421875,3819.69140625,3928.7216796875,3918.181640625,3815.158935546875,3898.234375,3892.460693359375,4059.794677734375,4059.4697265625,3699.366455078125,3806.333740234375,3952.334228515625,4180.57861328125,4222.05615234375,4082.855712890625,4110.220703125,3749.814208984375,3753.68994140625,3877.1181640625,3931.533203125,3932.427734375,3951.635009765625,3743.111572265625,3619.021484375,3688.093017578125,3664.568359375,3434.108154296875,3618.802001953125,3635.596435546875,3525.4560546875,3553.230712890625,3575.320068359375,3539.40625,3596.77734375,3612.931640625,3660.26708984375,3652.19775390625,3655.168212890625,3625.544921875,3643.069580078125,3563.70458984375,3384.8662109375,3328.605224609375,3359.883056640625,3314.519287109375,3372.76123046875,3386.76904296875,3433.73046875,3396.484619140625,3138.372314453125,3027.591064453125,2852.12890625,2824.496337890625,2803.176025390625,2859.77197265625,2971.5234375,2959.348388671875,2917.564697265625,2947.392333984375,2957.784912109375,2942.214599609375,2834.245361328125,2800.646484375,2877.120849609375,2679.500732421875,2305.2490234375,2240.31591796875,2237.165771484375,2211.998291015625,2398.147216796875,2251.97314453125,2286.0224609375,2356.7265625,2361.0654296875,2401.788330078125,2492.85009765625,2475.729248046875,2401.1494140625,2605.945556640625,2667.559814453125,2647.5478515625],\"low\":[3261.09814453125,2585.342529296875,2727.960693359375,2875.916015625,2672.598876953125,2716.074951171875,2738.206298828125,2644.896240234375,2772.18603515625,2851.31201171875,2965.668212890625,2862.58203125,2875.752197265625,2802.41162109375,2510.776611328125,2282.16455078125,2339.422119140625,2598.925537109375,2343.555908203125,2405.244140625,2341.774169921875,2507.484619140625,2390.337158203125,2403.504150390625,2448.769775390625,2573.140380859375,2811.835693359375,2887.8173828125,2824.780517578125,2902.819091796875,2904.216064453125,3010.636474609375,3065.074951171875,3063.91259765625,2952.915283203125,2926.2021484375,2953.596435546875,2955.422607421875,3095.91943359375,3220.63037109375,3281.02001953125,3157.718017578125,3177.625,3217.341552734375,3291.678955078125,3464.81103515625,3362.130126953125,3387.681396484375,3407.59375,3496.900390625,3542.06591796875,3388.561767578125,3369.06591796875,3655.8466796875,3678.27978515625,3616.929931640625,3602.73974609375,3697.701416015625,3858.028564453125,3833.123291015625,3844.296875,3752.734619140625,3905.10498046875,3993.37744140625,4070.346923828125,3907.30126953125,3989.35986328125,3940.0771484375,4004.05615234375,3944.459228515625,3999.925048828125,3648.26220703125,3630.66650390625,3481.444091796875,3503.158935546875,3729.250244140625,3774.091064453125,3590.31103515625,3620.3056640625,3726.671630859375,3792.285888671875,3487.478271484375,3563.173828125,3524.70751953125,3796.319580078125,3848.97265625,4001.263671875,3929.908203125,3625.8408203125,3115.9091796875,3570.99072265625,3477.09326171875,3784.207763671875,3756.161865234375,3611.739013671875,3443.712646484375,3398.023681640625,3528.3681640625,3259.514404296875,3280.142822265625,3255.235107421875,3490.97900390625,3283.452880859375,3358.154296875,3464.7685546875,3329.327392578125,3472.2041015625,3493.3662109375,3440.478515625,3558.457763671875,3557.453125,3544.292724609375,3560.480712890625,3335.72607421875,3182.298828125,3167.706298828125,3195.095703125,3237.473876953125,3277.10009765625,3273.615478515625,3293.105712890625,3056.25732421875,2950.220703125,2748.938232421875,2658.991455078125,2707.429443359375,2609.351318359375,2700.91796875,2831.69921875,2835.197998046875,2797.274658203125,2872.17138671875,2883.4658203125,2767.190185546875,2734.960693359375,2695.68115234375,2652.523681640625,2200.853271484375,2054.031494140625,2099.28662109375,1922.9600830078125,2086.111572265625,2151.21337890625,2089.478515625,2127.439453125,2266.479736328125,2288.722412109375,2230.1240234375,2388.8935546875,2326.4072265625,2264.18359375,2336.869140625,2591.2666015625,2617.0029296875],\"name\":\"market data\",\"open\":[3324.67138671875,3307.00390625,2894.490478515625,2921.19775390625,2897.000244140625,2717.053955078125,2767.98486328125,2884.755615234375,2782.750732421875,2907.1845703125,3057.032470703125,3034.090087890625,2897.52587890625,2927.95263671875,2838.74072265625,2538.86279296875,2357.10302734375,2633.594970703125,2687.00244140625,2500.63671875,2496.8583984375,2615.2978515625,2504.2958984375,2403.955322265625,2458.92578125,2593.0146484375,2853.963623046875,2924.601318359375,2945.50830078125,2911.239501953125,3032.609375,3095.443359375,3103.794677734375,3077.1875,3089.84033203125,2956.802001953125,3069.65380859375,3029.10791015625,3108.581298828125,3270.065673828125,3332.556396484375,3301.686767578125,3318.00146484375,3226.56201171875,3333.2470703125,3571.520263671875,3488.86767578125,3410.6328125,3583.453369140625,3509.085205078125,3632.878173828125,3563.29296875,3383.869873046875,3671.0986328125,3818.188232421875,3739.044189453125,3710.6845703125,3726.432373046875,3963.757080078125,3964.439453125,3926.677001953125,3880.574462890625,3916.357177734375,3993.37744140625,4150.72607421875,4082.5634765625,4035.881103515625,4126.861328125,4077.928466796875,4062.1240234375,4044.193115234375,4020.832275390625,3722.56884765625,3788.5478515625,3514.65966796875,3808.19677734375,3909.059326171875,3783.89453125,3637.9384765625,3859.012451171875,3812.638427734375,4034.3984375,3571.552978515625,3623.36376953125,3805.139892578125,3938.6318359375,4080.891845703125,4051.869140625,3992.88916015625,3736.589111328125,3641.17919921875,3714.536376953125,3862.68896484375,3824.795654296875,3907.711669921875,3642.38525390625,3454.2265625,3609.445556640625,3657.017578125,3352.5419921875,3430.79541015625,3560.865478515625,3493.060546875,3452.171142578125,3523.908935546875,3489.884033203125,3492.33447265625,3560.3154296875,3515.634033203125,3630.880859375,3576.75537109375,3615.9423828125,3589.671142578125,3563.70458984375,3356.641357421875,3197.43212890625,3279.638427734375,3238.142333984375,3313.974609375,3367.241943359375,3328.018798828125,3362.765869140625,3138.372314453125,3025.2685546875,2810.662353515625,2721.323486328125,2781.115478515625,2721.103271484375,2849.233642578125,2947.55029296875,2835.524658203125,2899.479736328125,2917.475830078125,2937.9765625,2815.27783203125,2792.64208984375,2728.723388671875,2654.334716796875,2257.56005859375,2121.61962890625,2236.004150390625,2155.104248046875,2172.460693359375,2194.813232421875,2172.953369140625,2284.06005859375,2330.67626953125,2334.28369140625,2393.6572265625,2476.646240234375,2373.724365234375,2344.496337890625,2606.69580078125,2635.688720703125],\"x\":[\"2021-09-06T00:00:00\",\"2021-09-07T00:00:00\",\"2021-09-08T00:00:00\",\"2021-09-09T00:00:00\",\"2021-09-10T00:00:00\",\"2021-09-11T00:00:00\",\"2021-09-12T00:00:00\",\"2021-09-13T00:00:00\",\"2021-09-14T00:00:00\",\"2021-09-15T00:00:00\",\"2021-09-16T00:00:00\",\"2021-09-17T00:00:00\",\"2021-09-18T00:00:00\",\"2021-09-19T00:00:00\",\"2021-09-20T00:00:00\",\"2021-09-21T00:00:00\",\"2021-09-22T00:00:00\",\"2021-09-23T00:00:00\",\"2021-09-24T00:00:00\",\"2021-09-25T00:00:00\",\"2021-09-26T00:00:00\",\"2021-09-27T00:00:00\",\"2021-09-28T00:00:00\",\"2021-09-29T00:00:00\",\"2021-09-30T00:00:00\",\"2021-10-01T00:00:00\",\"2021-10-02T00:00:00\",\"2021-10-03T00:00:00\",\"2021-10-04T00:00:00\",\"2021-10-05T00:00:00\",\"2021-10-06T00:00:00\",\"2021-10-07T00:00:00\",\"2021-10-08T00:00:00\",\"2021-10-09T00:00:00\",\"2021-10-10T00:00:00\",\"2021-10-11T00:00:00\",\"2021-10-12T00:00:00\",\"2021-10-13T00:00:00\",\"2021-10-14T00:00:00\",\"2021-10-15T00:00:00\",\"2021-10-16T00:00:00\",\"2021-10-17T00:00:00\",\"2021-10-18T00:00:00\",\"2021-10-19T00:00:00\",\"2021-10-20T00:00:00\",\"2021-10-21T00:00:00\",\"2021-10-22T00:00:00\",\"2021-10-23T00:00:00\",\"2021-10-24T00:00:00\",\"2021-10-25T00:00:00\",\"2021-10-26T00:00:00\",\"2021-10-27T00:00:00\",\"2021-10-28T00:00:00\",\"2021-10-29T00:00:00\",\"2021-10-30T00:00:00\",\"2021-10-31T00:00:00\",\"2021-11-01T00:00:00\",\"2021-11-02T00:00:00\",\"2021-11-03T00:00:00\",\"2021-11-04T00:00:00\",\"2021-11-05T00:00:00\",\"2021-11-06T00:00:00\",\"2021-11-07T00:00:00\",\"2021-11-08T00:00:00\",\"2021-11-09T00:00:00\",\"2021-11-10T00:00:00\",\"2021-11-11T00:00:00\",\"2021-11-12T00:00:00\",\"2021-11-13T00:00:00\",\"2021-11-14T00:00:00\",\"2021-11-15T00:00:00\",\"2021-11-16T00:00:00\",\"2021-11-17T00:00:00\",\"2021-11-18T00:00:00\",\"2021-11-19T00:00:00\",\"2021-11-20T00:00:00\",\"2021-11-21T00:00:00\",\"2021-11-22T00:00:00\",\"2021-11-23T00:00:00\",\"2021-11-24T00:00:00\",\"2021-11-25T00:00:00\",\"2021-11-26T00:00:00\",\"2021-11-27T00:00:00\",\"2021-11-28T00:00:00\",\"2021-11-29T00:00:00\",\"2021-11-30T00:00:00\",\"2021-12-01T00:00:00\",\"2021-12-02T00:00:00\",\"2021-12-03T00:00:00\",\"2021-12-04T00:00:00\",\"2021-12-05T00:00:00\",\"2021-12-06T00:00:00\",\"2021-12-07T00:00:00\",\"2021-12-08T00:00:00\",\"2021-12-09T00:00:00\",\"2021-12-10T00:00:00\",\"2021-12-11T00:00:00\",\"2021-12-12T00:00:00\",\"2021-12-13T00:00:00\",\"2021-12-14T00:00:00\",\"2021-12-15T00:00:00\",\"2021-12-16T00:00:00\",\"2021-12-17T00:00:00\",\"2021-12-18T00:00:00\",\"2021-12-19T00:00:00\",\"2021-12-20T00:00:00\",\"2021-12-21T00:00:00\",\"2021-12-22T00:00:00\",\"2021-12-23T00:00:00\",\"2021-12-24T00:00:00\",\"2021-12-25T00:00:00\",\"2021-12-26T00:00:00\",\"2021-12-27T00:00:00\",\"2021-12-28T00:00:00\",\"2021-12-29T00:00:00\",\"2021-12-30T00:00:00\",\"2021-12-31T00:00:00\",\"2022-01-01T00:00:00\",\"2022-01-02T00:00:00\",\"2022-01-03T00:00:00\",\"2022-01-04T00:00:00\",\"2022-01-05T00:00:00\",\"2022-01-06T00:00:00\",\"2022-01-07T00:00:00\",\"2022-01-08T00:00:00\",\"2022-01-09T00:00:00\",\"2022-01-10T00:00:00\",\"2022-01-11T00:00:00\",\"2022-01-12T00:00:00\",\"2022-01-13T00:00:00\",\"2022-01-14T00:00:00\",\"2022-01-15T00:00:00\",\"2022-01-16T00:00:00\",\"2022-01-17T00:00:00\",\"2022-01-18T00:00:00\",\"2022-01-19T00:00:00\",\"2022-01-20T00:00:00\",\"2022-01-21T00:00:00\",\"2022-01-22T00:00:00\",\"2022-01-23T00:00:00\",\"2022-01-24T00:00:00\",\"2022-01-25T00:00:00\",\"2022-01-26T00:00:00\",\"2022-01-27T00:00:00\",\"2022-01-28T00:00:00\",\"2022-01-29T00:00:00\",\"2022-01-30T00:00:00\",\"2022-01-31T00:00:00\",\"2022-02-01T00:00:00\",\"2022-02-02T00:00:00\",\"2022-02-03T00:00:00\",\"2022-02-04T00:00:00\",\"2022-02-05T00:00:00\",\"2022-02-06T00:00:00\"],\"type\":\"candlestick\"}],                        {\"template\":{\"data\":{\"bar\":[{\"error_x\":{\"color\":\"#2a3f5f\"},\"error_y\":{\"color\":\"#2a3f5f\"},\"marker\":{\"line\":{\"color\":\"#E5ECF6\",\"width\":0.5},\"pattern\":{\"fillmode\":\"overlay\",\"size\":10,\"solidity\":0.2}},\"type\":\"bar\"}],\"barpolar\":[{\"marker\":{\"line\":{\"color\":\"#E5ECF6\",\"width\":0.5},\"pattern\":{\"fillmode\":\"overlay\",\"size\":10,\"solidity\":0.2}},\"type\":\"barpolar\"}],\"carpet\":[{\"aaxis\":{\"endlinecolor\":\"#2a3f5f\",\"gridcolor\":\"white\",\"linecolor\":\"white\",\"minorgridcolor\":\"white\",\"startlinecolor\":\"#2a3f5f\"},\"baxis\":{\"endlinecolor\":\"#2a3f5f\",\"gridcolor\":\"white\",\"linecolor\":\"white\",\"minorgridcolor\":\"white\",\"startlinecolor\":\"#2a3f5f\"},\"type\":\"carpet\"}],\"choropleth\":[{\"colorbar\":{\"outlinewidth\":0,\"ticks\":\"\"},\"type\":\"choropleth\"}],\"contour\":[{\"colorbar\":{\"outlinewidth\":0,\"ticks\":\"\"},\"colorscale\":[[0.0,\"#0d0887\"],[0.1111111111111111,\"#46039f\"],[0.2222222222222222,\"#7201a8\"],[0.3333333333333333,\"#9c179e\"],[0.4444444444444444,\"#bd3786\"],[0.5555555555555556,\"#d8576b\"],[0.6666666666666666,\"#ed7953\"],[0.7777777777777778,\"#fb9f3a\"],[0.8888888888888888,\"#fdca26\"],[1.0,\"#f0f921\"]],\"type\":\"contour\"}],\"contourcarpet\":[{\"colorbar\":{\"outlinewidth\":0,\"ticks\":\"\"},\"type\":\"contourcarpet\"}],\"heatmap\":[{\"colorbar\":{\"outlinewidth\":0,\"ticks\":\"\"},\"colorscale\":[[0.0,\"#0d0887\"],[0.1111111111111111,\"#46039f\"],[0.2222222222222222,\"#7201a8\"],[0.3333333333333333,\"#9c179e\"],[0.4444444444444444,\"#bd3786\"],[0.5555555555555556,\"#d8576b\"],[0.6666666666666666,\"#ed7953\"],[0.7777777777777778,\"#fb9f3a\"],[0.8888888888888888,\"#fdca26\"],[1.0,\"#f0f921\"]],\"type\":\"heatmap\"}],\"heatmapgl\":[{\"colorbar\":{\"outlinewidth\":0,\"ticks\":\"\"},\"colorscale\":[[0.0,\"#0d0887\"],[0.1111111111111111,\"#46039f\"],[0.2222222222222222,\"#7201a8\"],[0.3333333333333333,\"#9c179e\"],[0.4444444444444444,\"#bd3786\"],[0.5555555555555556,\"#d8576b\"],[0.6666666666666666,\"#ed7953\"],[0.7777777777777778,\"#fb9f3a\"],[0.8888888888888888,\"#fdca26\"],[1.0,\"#f0f921\"]],\"type\":\"heatmapgl\"}],\"histogram\":[{\"marker\":{\"pattern\":{\"fillmode\":\"overlay\",\"size\":10,\"solidity\":0.2}},\"type\":\"histogram\"}],\"histogram2d\":[{\"colorbar\":{\"outlinewidth\":0,\"ticks\":\"\"},\"colorscale\":[[0.0,\"#0d0887\"],[0.1111111111111111,\"#46039f\"],[0.2222222222222222,\"#7201a8\"],[0.3333333333333333,\"#9c179e\"],[0.4444444444444444,\"#bd3786\"],[0.5555555555555556,\"#d8576b\"],[0.6666666666666666,\"#ed7953\"],[0.7777777777777778,\"#fb9f3a\"],[0.8888888888888888,\"#fdca26\"],[1.0,\"#f0f921\"]],\"type\":\"histogram2d\"}],\"histogram2dcontour\":[{\"colorbar\":{\"outlinewidth\":0,\"ticks\":\"\"},\"colorscale\":[[0.0,\"#0d0887\"],[0.1111111111111111,\"#46039f\"],[0.2222222222222222,\"#7201a8\"],[0.3333333333333333,\"#9c179e\"],[0.4444444444444444,\"#bd3786\"],[0.5555555555555556,\"#d8576b\"],[0.6666666666666666,\"#ed7953\"],[0.7777777777777778,\"#fb9f3a\"],[0.8888888888888888,\"#fdca26\"],[1.0,\"#f0f921\"]],\"type\":\"histogram2dcontour\"}],\"mesh3d\":[{\"colorbar\":{\"outlinewidth\":0,\"ticks\":\"\"},\"type\":\"mesh3d\"}],\"parcoords\":[{\"line\":{\"colorbar\":{\"outlinewidth\":0,\"ticks\":\"\"}},\"type\":\"parcoords\"}],\"pie\":[{\"automargin\":true,\"type\":\"pie\"}],\"scatter\":[{\"marker\":{\"colorbar\":{\"outlinewidth\":0,\"ticks\":\"\"}},\"type\":\"scatter\"}],\"scatter3d\":[{\"line\":{\"colorbar\":{\"outlinewidth\":0,\"ticks\":\"\"}},\"marker\":{\"colorbar\":{\"outlinewidth\":0,\"ticks\":\"\"}},\"type\":\"scatter3d\"}],\"scattercarpet\":[{\"marker\":{\"colorbar\":{\"outlinewidth\":0,\"ticks\":\"\"}},\"type\":\"scattercarpet\"}],\"scattergeo\":[{\"marker\":{\"colorbar\":{\"outlinewidth\":0,\"ticks\":\"\"}},\"type\":\"scattergeo\"}],\"scattergl\":[{\"marker\":{\"colorbar\":{\"outlinewidth\":0,\"ticks\":\"\"}},\"type\":\"scattergl\"}],\"scattermapbox\":[{\"marker\":{\"colorbar\":{\"outlinewidth\":0,\"ticks\":\"\"}},\"type\":\"scattermapbox\"}],\"scatterpolar\":[{\"marker\":{\"colorbar\":{\"outlinewidth\":0,\"ticks\":\"\"}},\"type\":\"scatterpolar\"}],\"scatterpolargl\":[{\"marker\":{\"colorbar\":{\"outlinewidth\":0,\"ticks\":\"\"}},\"type\":\"scatterpolargl\"}],\"scatterternary\":[{\"marker\":{\"colorbar\":{\"outlinewidth\":0,\"ticks\":\"\"}},\"type\":\"scatterternary\"}],\"surface\":[{\"colorbar\":{\"outlinewidth\":0,\"ticks\":\"\"},\"colorscale\":[[0.0,\"#0d0887\"],[0.1111111111111111,\"#46039f\"],[0.2222222222222222,\"#7201a8\"],[0.3333333333333333,\"#9c179e\"],[0.4444444444444444,\"#bd3786\"],[0.5555555555555556,\"#d8576b\"],[0.6666666666666666,\"#ed7953\"],[0.7777777777777778,\"#fb9f3a\"],[0.8888888888888888,\"#fdca26\"],[1.0,\"#f0f921\"]],\"type\":\"surface\"}],\"table\":[{\"cells\":{\"fill\":{\"color\":\"#EBF0F8\"},\"line\":{\"color\":\"white\"}},\"header\":{\"fill\":{\"color\":\"#C8D4E3\"},\"line\":{\"color\":\"white\"}},\"type\":\"table\"}]},\"layout\":{\"annotationdefaults\":{\"arrowcolor\":\"#2a3f5f\",\"arrowhead\":0,\"arrowwidth\":1},\"autotypenumbers\":\"strict\",\"coloraxis\":{\"colorbar\":{\"outlinewidth\":0,\"ticks\":\"\"}},\"colorscale\":{\"diverging\":[[0,\"#8e0152\"],[0.1,\"#c51b7d\"],[0.2,\"#de77ae\"],[0.3,\"#f1b6da\"],[0.4,\"#fde0ef\"],[0.5,\"#f7f7f7\"],[0.6,\"#e6f5d0\"],[0.7,\"#b8e186\"],[0.8,\"#7fbc41\"],[0.9,\"#4d9221\"],[1,\"#276419\"]],\"sequential\":[[0.0,\"#0d0887\"],[0.1111111111111111,\"#46039f\"],[0.2222222222222222,\"#7201a8\"],[0.3333333333333333,\"#9c179e\"],[0.4444444444444444,\"#bd3786\"],[0.5555555555555556,\"#d8576b\"],[0.6666666666666666,\"#ed7953\"],[0.7777777777777778,\"#fb9f3a\"],[0.8888888888888888,\"#fdca26\"],[1.0,\"#f0f921\"]],\"sequentialminus\":[[0.0,\"#0d0887\"],[0.1111111111111111,\"#46039f\"],[0.2222222222222222,\"#7201a8\"],[0.3333333333333333,\"#9c179e\"],[0.4444444444444444,\"#bd3786\"],[0.5555555555555556,\"#d8576b\"],[0.6666666666666666,\"#ed7953\"],[0.7777777777777778,\"#fb9f3a\"],[0.8888888888888888,\"#fdca26\"],[1.0,\"#f0f921\"]]},\"colorway\":[\"#636efa\",\"#EF553B\",\"#00cc96\",\"#ab63fa\",\"#FFA15A\",\"#19d3f3\",\"#FF6692\",\"#B6E880\",\"#FF97FF\",\"#FECB52\"],\"font\":{\"color\":\"#2a3f5f\"},\"geo\":{\"bgcolor\":\"white\",\"lakecolor\":\"white\",\"landcolor\":\"#E5ECF6\",\"showlakes\":true,\"showland\":true,\"subunitcolor\":\"white\"},\"hoverlabel\":{\"align\":\"left\"},\"hovermode\":\"closest\",\"mapbox\":{\"style\":\"light\"},\"paper_bgcolor\":\"white\",\"plot_bgcolor\":\"#E5ECF6\",\"polar\":{\"angularaxis\":{\"gridcolor\":\"white\",\"linecolor\":\"white\",\"ticks\":\"\"},\"bgcolor\":\"#E5ECF6\",\"radialaxis\":{\"gridcolor\":\"white\",\"linecolor\":\"white\",\"ticks\":\"\"}},\"scene\":{\"xaxis\":{\"backgroundcolor\":\"#E5ECF6\",\"gridcolor\":\"white\",\"gridwidth\":2,\"linecolor\":\"white\",\"showbackground\":true,\"ticks\":\"\",\"zerolinecolor\":\"white\"},\"yaxis\":{\"backgroundcolor\":\"#E5ECF6\",\"gridcolor\":\"white\",\"gridwidth\":2,\"linecolor\":\"white\",\"showbackground\":true,\"ticks\":\"\",\"zerolinecolor\":\"white\"},\"zaxis\":{\"backgroundcolor\":\"#E5ECF6\",\"gridcolor\":\"white\",\"gridwidth\":2,\"linecolor\":\"white\",\"showbackground\":true,\"ticks\":\"\",\"zerolinecolor\":\"white\"}},\"shapedefaults\":{\"line\":{\"color\":\"#2a3f5f\"}},\"ternary\":{\"aaxis\":{\"gridcolor\":\"white\",\"linecolor\":\"white\",\"ticks\":\"\"},\"baxis\":{\"gridcolor\":\"white\",\"linecolor\":\"white\",\"ticks\":\"\"},\"bgcolor\":\"#E5ECF6\",\"caxis\":{\"gridcolor\":\"white\",\"linecolor\":\"white\",\"ticks\":\"\"}},\"title\":{\"x\":0.05},\"xaxis\":{\"automargin\":true,\"gridcolor\":\"white\",\"linecolor\":\"white\",\"ticks\":\"\",\"title\":{\"standoff\":15},\"zerolinecolor\":\"white\",\"zerolinewidth\":2},\"yaxis\":{\"automargin\":true,\"gridcolor\":\"white\",\"linecolor\":\"white\",\"ticks\":\"\",\"title\":{\"standoff\":15},\"zerolinecolor\":\"white\",\"zerolinewidth\":2}}},\"title\":{\"text\":\"ETH-EUR\"}},                        {\"responsive\": true}                    ).then(function(){\n",
       "                            \n",
       "var gd = document.getElementById('d62989e2-3460-4244-bf6b-b4c5cf06380c');\n",
       "var x = new MutationObserver(function (mutations, observer) {{\n",
       "        var display = window.getComputedStyle(gd).display;\n",
       "        if (!display || display === 'none') {{\n",
       "            console.log([gd, 'removed!']);\n",
       "            Plotly.purge(gd);\n",
       "            observer.disconnect();\n",
       "        }}\n",
       "}});\n",
       "\n",
       "// Listen for the removal of the full notebook cells\n",
       "var notebookContainer = gd.closest('#notebook-container');\n",
       "if (notebookContainer) {{\n",
       "    x.observe(notebookContainer, {childList: true});\n",
       "}}\n",
       "\n",
       "// Listen for the clearing of the current output cell\n",
       "var outputEl = gd.closest('.output');\n",
       "if (outputEl) {{\n",
       "    x.observe(outputEl, {childList: true});\n",
       "}}\n",
       "\n",
       "                        })                };                });            </script>        </div>"
      ]
     },
     "metadata": {},
     "output_type": "display_data"
    },
    {
     "name": "stdout",
     "output_type": "stream",
     "text": [
      "[*********************100%***********************]  1 of 1 completed\n"
     ]
    },
    {
     "data": {
      "application/vnd.plotly.v1+json": {
       "config": {
        "plotlyServerURL": "https://plot.ly"
       },
       "data": [
        {
         "close": [
          1.0860899686813354,
          1.086300015449524,
          1.0888500213623047,
          1.08951997756958,
          1.0836199522018433,
          1.0843000411987305,
          1.0891000032424927,
          1.0859500169754028,
          1.086899995803833,
          1.090980052947998,
          1.093000054359436,
          1.0879000425338745,
          1.0823999643325806,
          1.0826400518417358,
          1.0855599641799927,
          1.083739995956421,
          1.0825599431991577,
          1.0857000350952148,
          1.083799958229065,
          1.0791000127792358,
          1.078879952430725,
          1.074489951133728,
          1.0764800310134888,
          1.0719499588012695,
          1.073199987411499,
          1.0730500221252441,
          1.0715999603271484,
          1.072909951210022,
          1.0715700387954712,
          1.0713200569152832,
          1.0707999467849731,
          1.072450041770935,
          1.0735700130462646,
          1.0707999467849731,
          1.0672999620437622,
          1.0668200254440308,
          1.0678199529647827,
          1.0665700435638428,
          1.0649399757385254,
          1.0649499893188477,
          1.05840003490448,
          1.054819941520691,
          1.0592999458312988,
          1.0585399866104126,
          1.054479956626892,
          1.0549299716949463,
          1.05840003490448,
          1.0562000274658203,
          1.0542199611663818,
          1.0546000003814697,
          1.053820013999939,
          1.0517699718475342,
          1.0529600381851196,
          1.0509999990463257,
          1.0524100065231323,
          1.0475000143051147,
          1.0483499765396118,
          1.0495100021362305,
          1.0463000535964966,
          1.048200011253357,
          1.0437599420547485,
          1.042099952697754,
          1.0417399406433105,
          1.0420500040054321,
          1.0398499965667725,
          1.0382399559020996,
          1.0442999601364136,
          1.042199969291687,
          1.0438100099563599,
          1.0430999994277954,
          1.041890025138855,
          1.0407999753952026,
          1.040310025215149,
          1.0436700582504272,
          1.0414700508117676,
          1.0380200147628784,
          1.0394500494003296,
          1.0418399572372437,
          1.0413800477981567,
          1.0404000282287598,
          1.040310025215149,
          1.0389900207519531,
          1.037500023841858,
          1.038040041923523,
          1.0346399545669556,
          1.0371700525283813,
          1.037909984588623,
          1.0336799621582031,
          1.037600040435791,
          1.04066002368927,
          1.0431699752807617,
          1.0504800081253052,
          1.0496100187301636,
          1.045740008354187,
          1.0437899827957153,
          1.0434399843215942,
          1.0427000522613525,
          1.0389399528503418,
          1.038540005683899,
          1.03725004196167,
          1.034999966621399,
          1.0351200103759766,
          1.037600040435791,
          1.0386600494384766,
          1.0374599695205688,
          1.0383700132369995,
          1.0409799814224243,
          1.0383199453353882,
          1.038450002670288,
          1.0524100065231323
         ],
         "high": [
          1.0879000425338745,
          1.0881099700927734,
          1.089900016784668,
          1.089609980583191,
          1.0860899686813354,
          1.0882699489593506,
          1.0903400182724,
          1.0869499444961548,
          1.0894099473953247,
          1.0934300422668457,
          1.0932999849319458,
          1.0885000228881836,
          1.0842000246047974,
          1.0849299430847168,
          1.0864299535751343,
          1.0864299535751343,
          1.0856399536132812,
          1.086400032043457,
          1.0845500230789185,
          1.0807700157165527,
          1.0800600051879883,
          1.0764000415802002,
          1.077299952507019,
          1.0727800130844116,
          1.0751800537109375,
          1.0745999813079834,
          1.0740000009536743,
          1.0739099979400635,
          1.0716500282287598,
          1.073799967765808,
          1.0733400583267212,
          1.0735000371932983,
          1.0764299631118774,
          1.0717999935150146,
          1.0682300329208374,
          1.069200038909912,
          1.070180058479309,
          1.0672999620437622,
          1.0670000314712524,
          1.0655399560928345,
          1.0602799654006958,
          1.0602600574493408,
          1.0593199729919434,
          1.059000015258789,
          1.0576200485229492,
          1.0597100257873535,
          1.05964994430542,
          1.0571000576019287,
          1.0573999881744385,
          1.0570299625396729,
          1.054260015487671,
          1.0550999641418457,
          1.054360032081604,
          1.052049994468689,
          1.0527399778366089,
          1.0484399795532227,
          1.0511300563812256,
          1.0503000020980835,
          1.049399971961975,
          1.0484999418258667,
          1.0450600385665894,
          1.0442899465560913,
          1.0433000326156616,
          1.0434800386428833,
          1.0407500267028809,
          1.0442999601364136,
          1.044700026512146,
          1.045390009880066,
          1.0453499555587769,
          1.0446699857711792,
          1.0429099798202515,
          1.0416300296783447,
          1.0438200235366821,
          1.0463999509811401,
          1.0418200492858887,
          1.0413000583648682,
          1.0425900220870972,
          1.0432900190353394,
          1.0432000160217285,
          1.0409300327301025,
          1.041100025177002,
          1.0394999980926514,
          1.0382399559020996,
          1.0384000539779663,
          1.0375399589538574,
          1.0390700101852417,
          1.0383000373840332,
          1.0384000539779663,
          1.0401500463485718,
          1.044950008392334,
          1.0482699871063232,
          1.051110029220581,
          1.0505199432373047,
          1.048699975013733,
          1.044700026512146,
          1.0444999933242798,
          1.0438300371170044,
          1.0401699542999268,
          1.0393999814987183,
          1.0374000072479248,
          1.0355700254440308,
          1.038390040397644,
          1.039620041847229,
          1.0395699739456177,
          1.038949966430664,
          1.0439800024032593,
          1.0413000583648682,
          1.0406999588012695,
          1.0525799989700317,
          1.0593199729919434
         ],
         "low": [
          1.0853999853134155,
          1.0844800472259521,
          1.0863900184631348,
          1.0844000577926636,
          1.083400011062622,
          1.0836000442504883,
          1.0865000486373901,
          1.083799958229065,
          1.0856000185012817,
          1.090399980545044,
          1.0873600244522095,
          1.0814800262451172,
          1.0812000036239624,
          1.0820000171661377,
          1.0816999673843384,
          1.0823800563812256,
          1.082200050354004,
          1.0820000171661377,
          1.0805000066757202,
          1.0771000385284424,
          1.073199987411499,
          1.073799967765808,
          1.070770025253296,
          1.070099949836731,
          1.0717999935150146,
          1.0708999633789062,
          1.0707999467849731,
          1.0710999965667725,
          1.0678999423980713,
          1.0707000494003296,
          1.070199966430664,
          1.0707999467849731,
          1.0703999996185303,
          1.0677000284194946,
          1.065600037574768,
          1.0657000541687012,
          1.0664000511169434,
          1.063599944114685,
          1.0640100240707397,
          1.056939959526062,
          1.0544999837875366,
          1.0544999837875366,
          1.0551400184631348,
          1.0533000230789185,
          1.0532000064849854,
          1.0546000003814697,
          1.0564899444580078,
          1.0543999671936035,
          1.0534000396728516,
          1.0533000230789185,
          1.051900029182434,
          1.051200032234192,
          1.0507999658584595,
          1.0498700141906738,
          1.0448399782180786,
          1.044600009918213,
          1.0468699932098389,
          1.0469000339508057,
          1.0456000566482544,
          1.0434000492095947,
          1.0413000583648682,
          1.0389599800109863,
          1.0404900312423706,
          1.040220022201538,
          1.0375100374221802,
          1.038059949874878,
          1.0400999784469604,
          1.0415500402450562,
          1.0419000387191772,
          1.0409300327301025,
          1.0403000116348267,
          1.038599967956543,
          1.0400400161743164,
          1.0418000221252441,
          1.0393999814987183,
          1.0380100011825562,
          1.038699984550476,
          1.0413999557495117,
          1.0390000343322754,
          1.038699984550476,
          1.038599967956543,
          1.0369000434875488,
          1.0362000465393066,
          1.0345900058746338,
          1.0326199531555176,
          1.034890055656433,
          1.0334899425506592,
          1.0334999561309814,
          1.0374000072479248,
          1.0404900312423706,
          1.042580008506775,
          1.048699975013733,
          1.0436999797821045,
          1.0425299406051636,
          1.041700005531311,
          1.0418000221252441,
          1.038699984550476,
          1.0370999574661255,
          1.0369999408721924,
          1.033400058746338,
          1.0297000408172607,
          1.034600019454956,
          1.0367000102996826,
          1.0369000434875488,
          1.0357999801635742,
          1.037600040435791,
          1.0369999408721924,
          1.037600040435791,
          1.038100004196167,
          1.052299976348877
         ],
         "name": "market data",
         "open": [
          1.0860799551010132,
          1.086300015449524,
          1.088979959487915,
          1.0895999670028687,
          1.0836999416351318,
          1.0844999551773071,
          1.0893000364303589,
          1.0858999490737915,
          1.0869799852371216,
          1.0913000106811523,
          1.0931199789047241,
          1.0878299474716187,
          1.0825400352478027,
          1.0827100276947021,
          1.0853999853134155,
          1.0836600065231323,
          1.0827200412750244,
          1.0857000350952148,
          1.083799958229065,
          1.0793399810791016,
          1.0789200067520142,
          1.0742700099945068,
          1.07669997215271,
          1.0720399618148804,
          1.073199987411499,
          1.0729999542236328,
          1.0717300176620483,
          1.0730199813842773,
          1.0714999437332153,
          1.071370005607605,
          1.0709400177001953,
          1.0724999904632568,
          1.0736099481582642,
          1.0707000494003296,
          1.0673999786376953,
          1.0667999982833862,
          1.067770004272461,
          1.066540002822876,
          1.0648800134658813,
          1.0650999546051025,
          1.058500051498413,
          1.0544999837875366,
          1.0592999458312988,
          1.058359980583191,
          1.054479956626892,
          1.054900050163269,
          1.0583300590515137,
          1.0561100244522095,
          1.0542000532150269,
          1.054669976234436,
          1.0536999702453613,
          1.0517699718475342,
          1.0528700351715088,
          1.0509899854660034,
          1.0523799657821655,
          1.0477800369262695,
          1.0484100580215454,
          1.0494600534439087,
          1.0463000535964966,
          1.0484000444412231,
          1.0437400341033936,
          1.0421299934387207,
          1.041759967803955,
          1.0420000553131104,
          1.039989948272705,
          1.0381499528884888,
          1.0443999767303467,
          1.0420700311660767,
          1.0438300371170044,
          1.043280005455017,
          1.0419600009918213,
          1.0407999753952026,
          1.0403000116348267,
          1.0439300537109375,
          1.0416100025177002,
          1.0380500555038452,
          1.0393600463867188,
          1.0419800281524658,
          1.0414199829101562,
          1.0405000448226929,
          1.0403599739074707,
          1.0390000343322754,
          1.0374699831008911,
          1.038040041923523,
          1.0347900390625,
          1.0372099876403809,
          1.0378999710083008,
          1.0337300300598145,
          1.0377000570297241,
          1.0407700538635254,
          1.0431499481201172,
          1.0504499673843384,
          1.0497499704360962,
          1.0457600355148315,
          1.0437400341033936,
          1.0434499979019165,
          1.042799949645996,
          1.0389599800109863,
          1.038699984550476,
          1.0371999740600586,
          1.0347299575805664,
          1.0351099967956543,
          1.037410020828247,
          1.0385500192642212,
          1.0375399589538574,
          1.0384600162506104,
          1.0410900115966797,
          1.0382100343704224,
          1.0382000207901,
          1.0523899793624878
         ],
         "type": "candlestick",
         "x": [
          "2021-09-06T00:00:00",
          "2021-09-07T00:00:00",
          "2021-09-08T00:00:00",
          "2021-09-09T00:00:00",
          "2021-09-10T00:00:00",
          "2021-09-13T00:00:00",
          "2021-09-14T00:00:00",
          "2021-09-15T00:00:00",
          "2021-09-16T00:00:00",
          "2021-09-17T00:00:00",
          "2021-09-20T00:00:00",
          "2021-09-21T00:00:00",
          "2021-09-22T00:00:00",
          "2021-09-23T00:00:00",
          "2021-09-24T00:00:00",
          "2021-09-27T00:00:00",
          "2021-09-28T00:00:00",
          "2021-09-29T00:00:00",
          "2021-09-30T00:00:00",
          "2021-10-01T00:00:00",
          "2021-10-04T00:00:00",
          "2021-10-05T00:00:00",
          "2021-10-06T00:00:00",
          "2021-10-07T00:00:00",
          "2021-10-08T00:00:00",
          "2021-10-11T00:00:00",
          "2021-10-12T00:00:00",
          "2021-10-13T00:00:00",
          "2021-10-14T00:00:00",
          "2021-10-15T00:00:00",
          "2021-10-18T00:00:00",
          "2021-10-19T00:00:00",
          "2021-10-20T00:00:00",
          "2021-10-21T00:00:00",
          "2021-10-22T00:00:00",
          "2021-10-25T00:00:00",
          "2021-10-26T00:00:00",
          "2021-10-27T00:00:00",
          "2021-10-28T00:00:00",
          "2021-10-29T00:00:00",
          "2021-11-01T00:00:00",
          "2021-11-02T00:00:00",
          "2021-11-03T00:00:00",
          "2021-11-04T00:00:00",
          "2021-11-05T00:00:00",
          "2021-11-08T00:00:00",
          "2021-11-09T00:00:00",
          "2021-11-10T00:00:00",
          "2021-11-11T00:00:00",
          "2021-11-12T00:00:00",
          "2021-11-15T00:00:00",
          "2021-11-16T00:00:00",
          "2021-11-17T00:00:00",
          "2021-11-18T00:00:00",
          "2021-11-19T00:00:00",
          "2021-11-22T00:00:00",
          "2021-11-23T00:00:00",
          "2021-11-24T00:00:00",
          "2021-11-25T00:00:00",
          "2021-11-26T00:00:00",
          "2021-11-29T00:00:00",
          "2021-11-30T00:00:00",
          "2021-12-01T00:00:00",
          "2021-12-02T00:00:00",
          "2021-12-03T00:00:00",
          "2021-12-06T00:00:00",
          "2021-12-07T00:00:00",
          "2021-12-08T00:00:00",
          "2021-12-09T00:00:00",
          "2021-12-10T00:00:00",
          "2021-12-13T00:00:00",
          "2021-12-14T00:00:00",
          "2021-12-15T00:00:00",
          "2021-12-16T00:00:00",
          "2021-12-17T00:00:00",
          "2021-12-20T00:00:00",
          "2021-12-21T00:00:00",
          "2021-12-22T00:00:00",
          "2021-12-23T00:00:00",
          "2021-12-24T00:00:00",
          "2021-12-27T00:00:00",
          "2021-12-28T00:00:00",
          "2021-12-29T00:00:00",
          "2021-12-30T00:00:00",
          "2021-12-31T00:00:00",
          "2022-01-03T00:00:00",
          "2022-01-04T00:00:00",
          "2022-01-05T00:00:00",
          "2022-01-06T00:00:00",
          "2022-01-07T00:00:00",
          "2022-01-10T00:00:00",
          "2022-01-11T00:00:00",
          "2022-01-12T00:00:00",
          "2022-01-13T00:00:00",
          "2022-01-14T00:00:00",
          "2022-01-17T00:00:00",
          "2022-01-18T00:00:00",
          "2022-01-19T00:00:00",
          "2022-01-20T00:00:00",
          "2022-01-21T00:00:00",
          "2022-01-24T00:00:00",
          "2022-01-25T00:00:00",
          "2022-01-26T00:00:00",
          "2022-01-27T00:00:00",
          "2022-01-28T00:00:00",
          "2022-01-31T00:00:00",
          "2022-02-01T00:00:00",
          "2022-02-02T00:00:00",
          "2022-02-03T00:00:00",
          "2022-02-04T00:00:00"
         ]
        }
       ],
       "layout": {
        "autosize": true,
        "template": {
         "data": {
          "bar": [
           {
            "error_x": {
             "color": "#2a3f5f"
            },
            "error_y": {
             "color": "#2a3f5f"
            },
            "marker": {
             "line": {
              "color": "#E5ECF6",
              "width": 0.5
             },
             "pattern": {
              "fillmode": "overlay",
              "size": 10,
              "solidity": 0.2
             }
            },
            "type": "bar"
           }
          ],
          "barpolar": [
           {
            "marker": {
             "line": {
              "color": "#E5ECF6",
              "width": 0.5
             },
             "pattern": {
              "fillmode": "overlay",
              "size": 10,
              "solidity": 0.2
             }
            },
            "type": "barpolar"
           }
          ],
          "carpet": [
           {
            "aaxis": {
             "endlinecolor": "#2a3f5f",
             "gridcolor": "white",
             "linecolor": "white",
             "minorgridcolor": "white",
             "startlinecolor": "#2a3f5f"
            },
            "baxis": {
             "endlinecolor": "#2a3f5f",
             "gridcolor": "white",
             "linecolor": "white",
             "minorgridcolor": "white",
             "startlinecolor": "#2a3f5f"
            },
            "type": "carpet"
           }
          ],
          "choropleth": [
           {
            "colorbar": {
             "outlinewidth": 0,
             "ticks": ""
            },
            "type": "choropleth"
           }
          ],
          "contour": [
           {
            "colorbar": {
             "outlinewidth": 0,
             "ticks": ""
            },
            "colorscale": [
             [
              0,
              "#0d0887"
             ],
             [
              0.1111111111111111,
              "#46039f"
             ],
             [
              0.2222222222222222,
              "#7201a8"
             ],
             [
              0.3333333333333333,
              "#9c179e"
             ],
             [
              0.4444444444444444,
              "#bd3786"
             ],
             [
              0.5555555555555556,
              "#d8576b"
             ],
             [
              0.6666666666666666,
              "#ed7953"
             ],
             [
              0.7777777777777778,
              "#fb9f3a"
             ],
             [
              0.8888888888888888,
              "#fdca26"
             ],
             [
              1,
              "#f0f921"
             ]
            ],
            "type": "contour"
           }
          ],
          "contourcarpet": [
           {
            "colorbar": {
             "outlinewidth": 0,
             "ticks": ""
            },
            "type": "contourcarpet"
           }
          ],
          "heatmap": [
           {
            "colorbar": {
             "outlinewidth": 0,
             "ticks": ""
            },
            "colorscale": [
             [
              0,
              "#0d0887"
             ],
             [
              0.1111111111111111,
              "#46039f"
             ],
             [
              0.2222222222222222,
              "#7201a8"
             ],
             [
              0.3333333333333333,
              "#9c179e"
             ],
             [
              0.4444444444444444,
              "#bd3786"
             ],
             [
              0.5555555555555556,
              "#d8576b"
             ],
             [
              0.6666666666666666,
              "#ed7953"
             ],
             [
              0.7777777777777778,
              "#fb9f3a"
             ],
             [
              0.8888888888888888,
              "#fdca26"
             ],
             [
              1,
              "#f0f921"
             ]
            ],
            "type": "heatmap"
           }
          ],
          "heatmapgl": [
           {
            "colorbar": {
             "outlinewidth": 0,
             "ticks": ""
            },
            "colorscale": [
             [
              0,
              "#0d0887"
             ],
             [
              0.1111111111111111,
              "#46039f"
             ],
             [
              0.2222222222222222,
              "#7201a8"
             ],
             [
              0.3333333333333333,
              "#9c179e"
             ],
             [
              0.4444444444444444,
              "#bd3786"
             ],
             [
              0.5555555555555556,
              "#d8576b"
             ],
             [
              0.6666666666666666,
              "#ed7953"
             ],
             [
              0.7777777777777778,
              "#fb9f3a"
             ],
             [
              0.8888888888888888,
              "#fdca26"
             ],
             [
              1,
              "#f0f921"
             ]
            ],
            "type": "heatmapgl"
           }
          ],
          "histogram": [
           {
            "marker": {
             "pattern": {
              "fillmode": "overlay",
              "size": 10,
              "solidity": 0.2
             }
            },
            "type": "histogram"
           }
          ],
          "histogram2d": [
           {
            "colorbar": {
             "outlinewidth": 0,
             "ticks": ""
            },
            "colorscale": [
             [
              0,
              "#0d0887"
             ],
             [
              0.1111111111111111,
              "#46039f"
             ],
             [
              0.2222222222222222,
              "#7201a8"
             ],
             [
              0.3333333333333333,
              "#9c179e"
             ],
             [
              0.4444444444444444,
              "#bd3786"
             ],
             [
              0.5555555555555556,
              "#d8576b"
             ],
             [
              0.6666666666666666,
              "#ed7953"
             ],
             [
              0.7777777777777778,
              "#fb9f3a"
             ],
             [
              0.8888888888888888,
              "#fdca26"
             ],
             [
              1,
              "#f0f921"
             ]
            ],
            "type": "histogram2d"
           }
          ],
          "histogram2dcontour": [
           {
            "colorbar": {
             "outlinewidth": 0,
             "ticks": ""
            },
            "colorscale": [
             [
              0,
              "#0d0887"
             ],
             [
              0.1111111111111111,
              "#46039f"
             ],
             [
              0.2222222222222222,
              "#7201a8"
             ],
             [
              0.3333333333333333,
              "#9c179e"
             ],
             [
              0.4444444444444444,
              "#bd3786"
             ],
             [
              0.5555555555555556,
              "#d8576b"
             ],
             [
              0.6666666666666666,
              "#ed7953"
             ],
             [
              0.7777777777777778,
              "#fb9f3a"
             ],
             [
              0.8888888888888888,
              "#fdca26"
             ],
             [
              1,
              "#f0f921"
             ]
            ],
            "type": "histogram2dcontour"
           }
          ],
          "mesh3d": [
           {
            "colorbar": {
             "outlinewidth": 0,
             "ticks": ""
            },
            "type": "mesh3d"
           }
          ],
          "parcoords": [
           {
            "line": {
             "colorbar": {
              "outlinewidth": 0,
              "ticks": ""
             }
            },
            "type": "parcoords"
           }
          ],
          "pie": [
           {
            "automargin": true,
            "type": "pie"
           }
          ],
          "scatter": [
           {
            "marker": {
             "colorbar": {
              "outlinewidth": 0,
              "ticks": ""
             }
            },
            "type": "scatter"
           }
          ],
          "scatter3d": [
           {
            "line": {
             "colorbar": {
              "outlinewidth": 0,
              "ticks": ""
             }
            },
            "marker": {
             "colorbar": {
              "outlinewidth": 0,
              "ticks": ""
             }
            },
            "type": "scatter3d"
           }
          ],
          "scattercarpet": [
           {
            "marker": {
             "colorbar": {
              "outlinewidth": 0,
              "ticks": ""
             }
            },
            "type": "scattercarpet"
           }
          ],
          "scattergeo": [
           {
            "marker": {
             "colorbar": {
              "outlinewidth": 0,
              "ticks": ""
             }
            },
            "type": "scattergeo"
           }
          ],
          "scattergl": [
           {
            "marker": {
             "colorbar": {
              "outlinewidth": 0,
              "ticks": ""
             }
            },
            "type": "scattergl"
           }
          ],
          "scattermapbox": [
           {
            "marker": {
             "colorbar": {
              "outlinewidth": 0,
              "ticks": ""
             }
            },
            "type": "scattermapbox"
           }
          ],
          "scatterpolar": [
           {
            "marker": {
             "colorbar": {
              "outlinewidth": 0,
              "ticks": ""
             }
            },
            "type": "scatterpolar"
           }
          ],
          "scatterpolargl": [
           {
            "marker": {
             "colorbar": {
              "outlinewidth": 0,
              "ticks": ""
             }
            },
            "type": "scatterpolargl"
           }
          ],
          "scatterternary": [
           {
            "marker": {
             "colorbar": {
              "outlinewidth": 0,
              "ticks": ""
             }
            },
            "type": "scatterternary"
           }
          ],
          "surface": [
           {
            "colorbar": {
             "outlinewidth": 0,
             "ticks": ""
            },
            "colorscale": [
             [
              0,
              "#0d0887"
             ],
             [
              0.1111111111111111,
              "#46039f"
             ],
             [
              0.2222222222222222,
              "#7201a8"
             ],
             [
              0.3333333333333333,
              "#9c179e"
             ],
             [
              0.4444444444444444,
              "#bd3786"
             ],
             [
              0.5555555555555556,
              "#d8576b"
             ],
             [
              0.6666666666666666,
              "#ed7953"
             ],
             [
              0.7777777777777778,
              "#fb9f3a"
             ],
             [
              0.8888888888888888,
              "#fdca26"
             ],
             [
              1,
              "#f0f921"
             ]
            ],
            "type": "surface"
           }
          ],
          "table": [
           {
            "cells": {
             "fill": {
              "color": "#EBF0F8"
             },
             "line": {
              "color": "white"
             }
            },
            "header": {
             "fill": {
              "color": "#C8D4E3"
             },
             "line": {
              "color": "white"
             }
            },
            "type": "table"
           }
          ]
         },
         "layout": {
          "annotationdefaults": {
           "arrowcolor": "#2a3f5f",
           "arrowhead": 0,
           "arrowwidth": 1
          },
          "autotypenumbers": "strict",
          "coloraxis": {
           "colorbar": {
            "outlinewidth": 0,
            "ticks": ""
           }
          },
          "colorscale": {
           "diverging": [
            [
             0,
             "#8e0152"
            ],
            [
             0.1,
             "#c51b7d"
            ],
            [
             0.2,
             "#de77ae"
            ],
            [
             0.3,
             "#f1b6da"
            ],
            [
             0.4,
             "#fde0ef"
            ],
            [
             0.5,
             "#f7f7f7"
            ],
            [
             0.6,
             "#e6f5d0"
            ],
            [
             0.7,
             "#b8e186"
            ],
            [
             0.8,
             "#7fbc41"
            ],
            [
             0.9,
             "#4d9221"
            ],
            [
             1,
             "#276419"
            ]
           ],
           "sequential": [
            [
             0,
             "#0d0887"
            ],
            [
             0.1111111111111111,
             "#46039f"
            ],
            [
             0.2222222222222222,
             "#7201a8"
            ],
            [
             0.3333333333333333,
             "#9c179e"
            ],
            [
             0.4444444444444444,
             "#bd3786"
            ],
            [
             0.5555555555555556,
             "#d8576b"
            ],
            [
             0.6666666666666666,
             "#ed7953"
            ],
            [
             0.7777777777777778,
             "#fb9f3a"
            ],
            [
             0.8888888888888888,
             "#fdca26"
            ],
            [
             1,
             "#f0f921"
            ]
           ],
           "sequentialminus": [
            [
             0,
             "#0d0887"
            ],
            [
             0.1111111111111111,
             "#46039f"
            ],
            [
             0.2222222222222222,
             "#7201a8"
            ],
            [
             0.3333333333333333,
             "#9c179e"
            ],
            [
             0.4444444444444444,
             "#bd3786"
            ],
            [
             0.5555555555555556,
             "#d8576b"
            ],
            [
             0.6666666666666666,
             "#ed7953"
            ],
            [
             0.7777777777777778,
             "#fb9f3a"
            ],
            [
             0.8888888888888888,
             "#fdca26"
            ],
            [
             1,
             "#f0f921"
            ]
           ]
          },
          "colorway": [
           "#636efa",
           "#EF553B",
           "#00cc96",
           "#ab63fa",
           "#FFA15A",
           "#19d3f3",
           "#FF6692",
           "#B6E880",
           "#FF97FF",
           "#FECB52"
          ],
          "font": {
           "color": "#2a3f5f"
          },
          "geo": {
           "bgcolor": "white",
           "lakecolor": "white",
           "landcolor": "#E5ECF6",
           "showlakes": true,
           "showland": true,
           "subunitcolor": "white"
          },
          "hoverlabel": {
           "align": "left"
          },
          "hovermode": "closest",
          "mapbox": {
           "style": "light"
          },
          "paper_bgcolor": "white",
          "plot_bgcolor": "#E5ECF6",
          "polar": {
           "angularaxis": {
            "gridcolor": "white",
            "linecolor": "white",
            "ticks": ""
           },
           "bgcolor": "#E5ECF6",
           "radialaxis": {
            "gridcolor": "white",
            "linecolor": "white",
            "ticks": ""
           }
          },
          "scene": {
           "xaxis": {
            "backgroundcolor": "#E5ECF6",
            "gridcolor": "white",
            "gridwidth": 2,
            "linecolor": "white",
            "showbackground": true,
            "ticks": "",
            "zerolinecolor": "white"
           },
           "yaxis": {
            "backgroundcolor": "#E5ECF6",
            "gridcolor": "white",
            "gridwidth": 2,
            "linecolor": "white",
            "showbackground": true,
            "ticks": "",
            "zerolinecolor": "white"
           },
           "zaxis": {
            "backgroundcolor": "#E5ECF6",
            "gridcolor": "white",
            "gridwidth": 2,
            "linecolor": "white",
            "showbackground": true,
            "ticks": "",
            "zerolinecolor": "white"
           }
          },
          "shapedefaults": {
           "line": {
            "color": "#2a3f5f"
           }
          },
          "ternary": {
           "aaxis": {
            "gridcolor": "white",
            "linecolor": "white",
            "ticks": ""
           },
           "baxis": {
            "gridcolor": "white",
            "linecolor": "white",
            "ticks": ""
           },
           "bgcolor": "#E5ECF6",
           "caxis": {
            "gridcolor": "white",
            "linecolor": "white",
            "ticks": ""
           }
          },
          "title": {
           "x": 0.05
          },
          "xaxis": {
           "automargin": true,
           "gridcolor": "white",
           "linecolor": "white",
           "ticks": "",
           "title": {
            "standoff": 15
           },
           "zerolinecolor": "white",
           "zerolinewidth": 2
          },
          "yaxis": {
           "automargin": true,
           "gridcolor": "white",
           "linecolor": "white",
           "ticks": "",
           "title": {
            "standoff": 15
           },
           "zerolinecolor": "white",
           "zerolinewidth": 2
          }
         }
        },
        "title": {
         "text": "EURCHF=X"
        },
        "xaxis": {
         "autorange": true,
         "range": [
          "2021-09-05 12:00",
          "2022-02-04 12:00"
         ],
         "rangeslider": {
          "autorange": true,
          "range": [
           "2021-09-05 12:00",
           "2022-02-04 12:00"
          ],
          "yaxis": {
           "_template": null,
           "rangemode": "match"
          }
         },
         "type": "date"
        },
        "yaxis": {
         "autorange": true,
         "range": [
          1.0261594851811726,
          1.0969705979029338
         ]
        }
       }
      },
      "image/png": "[encoded data removed]",
      "text/html": [
       "<div>                            <div id=\"d760f47d-64fb-47f0-b47b-55d6e2b07088\" class=\"plotly-graph-div\" style=\"height:525px; width:100%;\"></div>            <script type=\"text/javascript\">                require([\"plotly\"], function(Plotly) {                    window.PLOTLYENV=window.PLOTLYENV || {};                                    if (document.getElementById(\"d760f47d-64fb-47f0-b47b-55d6e2b07088\")) {                    Plotly.newPlot(                        \"d760f47d-64fb-47f0-b47b-55d6e2b07088\",                        [{\"close\":[1.0860899686813354,1.086300015449524,1.0888500213623047,1.08951997756958,1.0836199522018433,1.0843000411987305,1.0891000032424927,1.0859500169754028,1.086899995803833,1.090980052947998,1.093000054359436,1.0879000425338745,1.0823999643325806,1.0826400518417358,1.0855599641799927,1.083739995956421,1.0825599431991577,1.0857000350952148,1.083799958229065,1.0791000127792358,1.078879952430725,1.074489951133728,1.0764800310134888,1.0719499588012695,1.073199987411499,1.0730500221252441,1.0715999603271484,1.072909951210022,1.0715700387954712,1.0713200569152832,1.0707999467849731,1.072450041770935,1.0735700130462646,1.0707999467849731,1.0672999620437622,1.0668200254440308,1.0678199529647827,1.0665700435638428,1.0649399757385254,1.0649499893188477,1.05840003490448,1.054819941520691,1.0592999458312988,1.0585399866104126,1.054479956626892,1.0549299716949463,1.05840003490448,1.0562000274658203,1.0542199611663818,1.0546000003814697,1.053820013999939,1.0517699718475342,1.0529600381851196,1.0509999990463257,1.0524100065231323,1.0475000143051147,1.0483499765396118,1.0495100021362305,1.0463000535964966,1.048200011253357,1.0437599420547485,1.042099952697754,1.0417399406433105,1.0420500040054321,1.0398499965667725,1.0382399559020996,1.0442999601364136,1.042199969291687,1.0438100099563599,1.0430999994277954,1.041890025138855,1.0407999753952026,1.040310025215149,1.0436700582504272,1.0414700508117676,1.0380200147628784,1.0394500494003296,1.0418399572372437,1.0413800477981567,1.0404000282287598,1.040310025215149,1.0389900207519531,1.037500023841858,1.038040041923523,1.0346399545669556,1.0371700525283813,1.037909984588623,1.0336799621582031,1.037600040435791,1.04066002368927,1.0431699752807617,1.0504800081253052,1.0496100187301636,1.045740008354187,1.0437899827957153,1.0434399843215942,1.0427000522613525,1.0389399528503418,1.038540005683899,1.03725004196167,1.034999966621399,1.0351200103759766,1.037600040435791,1.0386600494384766,1.0374599695205688,1.0383700132369995,1.0409799814224243,1.0383199453353882,1.038450002670288,1.0524100065231323],\"high\":[1.0879000425338745,1.0881099700927734,1.089900016784668,1.089609980583191,1.0860899686813354,1.0882699489593506,1.0903400182724,1.0869499444961548,1.0894099473953247,1.0934300422668457,1.0932999849319458,1.0885000228881836,1.0842000246047974,1.0849299430847168,1.0864299535751343,1.0864299535751343,1.0856399536132812,1.086400032043457,1.0845500230789185,1.0807700157165527,1.0800600051879883,1.0764000415802002,1.077299952507019,1.0727800130844116,1.0751800537109375,1.0745999813079834,1.0740000009536743,1.0739099979400635,1.0716500282287598,1.073799967765808,1.0733400583267212,1.0735000371932983,1.0764299631118774,1.0717999935150146,1.0682300329208374,1.069200038909912,1.070180058479309,1.0672999620437622,1.0670000314712524,1.0655399560928345,1.0602799654006958,1.0602600574493408,1.0593199729919434,1.059000015258789,1.0576200485229492,1.0597100257873535,1.05964994430542,1.0571000576019287,1.0573999881744385,1.0570299625396729,1.054260015487671,1.0550999641418457,1.054360032081604,1.052049994468689,1.0527399778366089,1.0484399795532227,1.0511300563812256,1.0503000020980835,1.049399971961975,1.0484999418258667,1.0450600385665894,1.0442899465560913,1.0433000326156616,1.0434800386428833,1.0407500267028809,1.0442999601364136,1.044700026512146,1.045390009880066,1.0453499555587769,1.0446699857711792,1.0429099798202515,1.0416300296783447,1.0438200235366821,1.0463999509811401,1.0418200492858887,1.0413000583648682,1.0425900220870972,1.0432900190353394,1.0432000160217285,1.0409300327301025,1.041100025177002,1.0394999980926514,1.0382399559020996,1.0384000539779663,1.0375399589538574,1.0390700101852417,1.0383000373840332,1.0384000539779663,1.0401500463485718,1.044950008392334,1.0482699871063232,1.051110029220581,1.0505199432373047,1.048699975013733,1.044700026512146,1.0444999933242798,1.0438300371170044,1.0401699542999268,1.0393999814987183,1.0374000072479248,1.0355700254440308,1.038390040397644,1.039620041847229,1.0395699739456177,1.038949966430664,1.0439800024032593,1.0413000583648682,1.0406999588012695,1.0525799989700317,1.0593199729919434],\"low\":[1.0853999853134155,1.0844800472259521,1.0863900184631348,1.0844000577926636,1.083400011062622,1.0836000442504883,1.0865000486373901,1.083799958229065,1.0856000185012817,1.090399980545044,1.0873600244522095,1.0814800262451172,1.0812000036239624,1.0820000171661377,1.0816999673843384,1.0823800563812256,1.082200050354004,1.0820000171661377,1.0805000066757202,1.0771000385284424,1.073199987411499,1.073799967765808,1.070770025253296,1.070099949836731,1.0717999935150146,1.0708999633789062,1.0707999467849731,1.0710999965667725,1.0678999423980713,1.0707000494003296,1.070199966430664,1.0707999467849731,1.0703999996185303,1.0677000284194946,1.065600037574768,1.0657000541687012,1.0664000511169434,1.063599944114685,1.0640100240707397,1.056939959526062,1.0544999837875366,1.0544999837875366,1.0551400184631348,1.0533000230789185,1.0532000064849854,1.0546000003814697,1.0564899444580078,1.0543999671936035,1.0534000396728516,1.0533000230789185,1.051900029182434,1.051200032234192,1.0507999658584595,1.0498700141906738,1.0448399782180786,1.044600009918213,1.0468699932098389,1.0469000339508057,1.0456000566482544,1.0434000492095947,1.0413000583648682,1.0389599800109863,1.0404900312423706,1.040220022201538,1.0375100374221802,1.038059949874878,1.0400999784469604,1.0415500402450562,1.0419000387191772,1.0409300327301025,1.0403000116348267,1.038599967956543,1.0400400161743164,1.0418000221252441,1.0393999814987183,1.0380100011825562,1.038699984550476,1.0413999557495117,1.0390000343322754,1.038699984550476,1.038599967956543,1.0369000434875488,1.0362000465393066,1.0345900058746338,1.0326199531555176,1.034890055656433,1.0334899425506592,1.0334999561309814,1.0374000072479248,1.0404900312423706,1.042580008506775,1.048699975013733,1.0436999797821045,1.0425299406051636,1.041700005531311,1.0418000221252441,1.038699984550476,1.0370999574661255,1.0369999408721924,1.033400058746338,1.0297000408172607,1.034600019454956,1.0367000102996826,1.0369000434875488,1.0357999801635742,1.037600040435791,1.0369999408721924,1.037600040435791,1.038100004196167,1.052299976348877],\"name\":\"market data\",\"open\":[1.0860799551010132,1.086300015449524,1.088979959487915,1.0895999670028687,1.0836999416351318,1.0844999551773071,1.0893000364303589,1.0858999490737915,1.0869799852371216,1.0913000106811523,1.0931199789047241,1.0878299474716187,1.0825400352478027,1.0827100276947021,1.0853999853134155,1.0836600065231323,1.0827200412750244,1.0857000350952148,1.083799958229065,1.0793399810791016,1.0789200067520142,1.0742700099945068,1.07669997215271,1.0720399618148804,1.073199987411499,1.0729999542236328,1.0717300176620483,1.0730199813842773,1.0714999437332153,1.071370005607605,1.0709400177001953,1.0724999904632568,1.0736099481582642,1.0707000494003296,1.0673999786376953,1.0667999982833862,1.067770004272461,1.066540002822876,1.0648800134658813,1.0650999546051025,1.058500051498413,1.0544999837875366,1.0592999458312988,1.058359980583191,1.054479956626892,1.054900050163269,1.0583300590515137,1.0561100244522095,1.0542000532150269,1.054669976234436,1.0536999702453613,1.0517699718475342,1.0528700351715088,1.0509899854660034,1.0523799657821655,1.0477800369262695,1.0484100580215454,1.0494600534439087,1.0463000535964966,1.0484000444412231,1.0437400341033936,1.0421299934387207,1.041759967803955,1.0420000553131104,1.039989948272705,1.0381499528884888,1.0443999767303467,1.0420700311660767,1.0438300371170044,1.043280005455017,1.0419600009918213,1.0407999753952026,1.0403000116348267,1.0439300537109375,1.0416100025177002,1.0380500555038452,1.0393600463867188,1.0419800281524658,1.0414199829101562,1.0405000448226929,1.0403599739074707,1.0390000343322754,1.0374699831008911,1.038040041923523,1.0347900390625,1.0372099876403809,1.0378999710083008,1.0337300300598145,1.0377000570297241,1.0407700538635254,1.0431499481201172,1.0504499673843384,1.0497499704360962,1.0457600355148315,1.0437400341033936,1.0434499979019165,1.042799949645996,1.0389599800109863,1.038699984550476,1.0371999740600586,1.0347299575805664,1.0351099967956543,1.037410020828247,1.0385500192642212,1.0375399589538574,1.0384600162506104,1.0410900115966797,1.0382100343704224,1.0382000207901,1.0523899793624878],\"x\":[\"2021-09-06T00:00:00\",\"2021-09-07T00:00:00\",\"2021-09-08T00:00:00\",\"2021-09-09T00:00:00\",\"2021-09-10T00:00:00\",\"2021-09-13T00:00:00\",\"2021-09-14T00:00:00\",\"2021-09-15T00:00:00\",\"2021-09-16T00:00:00\",\"2021-09-17T00:00:00\",\"2021-09-20T00:00:00\",\"2021-09-21T00:00:00\",\"2021-09-22T00:00:00\",\"2021-09-23T00:00:00\",\"2021-09-24T00:00:00\",\"2021-09-27T00:00:00\",\"2021-09-28T00:00:00\",\"2021-09-29T00:00:00\",\"2021-09-30T00:00:00\",\"2021-10-01T00:00:00\",\"2021-10-04T00:00:00\",\"2021-10-05T00:00:00\",\"2021-10-06T00:00:00\",\"2021-10-07T00:00:00\",\"2021-10-08T00:00:00\",\"2021-10-11T00:00:00\",\"2021-10-12T00:00:00\",\"2021-10-13T00:00:00\",\"2021-10-14T00:00:00\",\"2021-10-15T00:00:00\",\"2021-10-18T00:00:00\",\"2021-10-19T00:00:00\",\"2021-10-20T00:00:00\",\"2021-10-21T00:00:00\",\"2021-10-22T00:00:00\",\"2021-10-25T00:00:00\",\"2021-10-26T00:00:00\",\"2021-10-27T00:00:00\",\"2021-10-28T00:00:00\",\"2021-10-29T00:00:00\",\"2021-11-01T00:00:00\",\"2021-11-02T00:00:00\",\"2021-11-03T00:00:00\",\"2021-11-04T00:00:00\",\"2021-11-05T00:00:00\",\"2021-11-08T00:00:00\",\"2021-11-09T00:00:00\",\"2021-11-10T00:00:00\",\"2021-11-11T00:00:00\",\"2021-11-12T00:00:00\",\"2021-11-15T00:00:00\",\"2021-11-16T00:00:00\",\"2021-11-17T00:00:00\",\"2021-11-18T00:00:00\",\"2021-11-19T00:00:00\",\"2021-11-22T00:00:00\",\"2021-11-23T00:00:00\",\"2021-11-24T00:00:00\",\"2021-11-25T00:00:00\",\"2021-11-26T00:00:00\",\"2021-11-29T00:00:00\",\"2021-11-30T00:00:00\",\"2021-12-01T00:00:00\",\"2021-12-02T00:00:00\",\"2021-12-03T00:00:00\",\"2021-12-06T00:00:00\",\"2021-12-07T00:00:00\",\"2021-12-08T00:00:00\",\"2021-12-09T00:00:00\",\"2021-12-10T00:00:00\",\"2021-12-13T00:00:00\",\"2021-12-14T00:00:00\",\"2021-12-15T00:00:00\",\"2021-12-16T00:00:00\",\"2021-12-17T00:00:00\",\"2021-12-20T00:00:00\",\"2021-12-21T00:00:00\",\"2021-12-22T00:00:00\",\"2021-12-23T00:00:00\",\"2021-12-24T00:00:00\",\"2021-12-27T00:00:00\",\"2021-12-28T00:00:00\",\"2021-12-29T00:00:00\",\"2021-12-30T00:00:00\",\"2021-12-31T00:00:00\",\"2022-01-03T00:00:00\",\"2022-01-04T00:00:00\",\"2022-01-05T00:00:00\",\"2022-01-06T00:00:00\",\"2022-01-07T00:00:00\",\"2022-01-10T00:00:00\",\"2022-01-11T00:00:00\",\"2022-01-12T00:00:00\",\"2022-01-13T00:00:00\",\"2022-01-14T00:00:00\",\"2022-01-17T00:00:00\",\"2022-01-18T00:00:00\",\"2022-01-19T00:00:00\",\"2022-01-20T00:00:00\",\"2022-01-21T00:00:00\",\"2022-01-24T00:00:00\",\"2022-01-25T00:00:00\",\"2022-01-26T00:00:00\",\"2022-01-27T00:00:00\",\"2022-01-28T00:00:00\",\"2022-01-31T00:00:00\",\"2022-02-01T00:00:00\",\"2022-02-02T00:00:00\",\"2022-02-03T00:00:00\",\"2022-02-04T00:00:00\"],\"type\":\"candlestick\"}],                        {\"template\":{\"data\":{\"bar\":[{\"error_x\":{\"color\":\"#2a3f5f\"},\"error_y\":{\"color\":\"#2a3f5f\"},\"marker\":{\"line\":{\"color\":\"#E5ECF6\",\"width\":0.5},\"pattern\":{\"fillmode\":\"overlay\",\"size\":10,\"solidity\":0.2}},\"type\":\"bar\"}],\"barpolar\":[{\"marker\":{\"line\":{\"color\":\"#E5ECF6\",\"width\":0.5},\"pattern\":{\"fillmode\":\"overlay\",\"size\":10,\"solidity\":0.2}},\"type\":\"barpolar\"}],\"carpet\":[{\"aaxis\":{\"endlinecolor\":\"#2a3f5f\",\"gridcolor\":\"white\",\"linecolor\":\"white\",\"minorgridcolor\":\"white\",\"startlinecolor\":\"#2a3f5f\"},\"baxis\":{\"endlinecolor\":\"#2a3f5f\",\"gridcolor\":\"white\",\"linecolor\":\"white\",\"minorgridcolor\":\"white\",\"startlinecolor\":\"#2a3f5f\"},\"type\":\"carpet\"}],\"choropleth\":[{\"colorbar\":{\"outlinewidth\":0,\"ticks\":\"\"},\"type\":\"choropleth\"}],\"contour\":[{\"colorbar\":{\"outlinewidth\":0,\"ticks\":\"\"},\"colorscale\":[[0.0,\"#0d0887\"],[0.1111111111111111,\"#46039f\"],[0.2222222222222222,\"#7201a8\"],[0.3333333333333333,\"#9c179e\"],[0.4444444444444444,\"#bd3786\"],[0.5555555555555556,\"#d8576b\"],[0.6666666666666666,\"#ed7953\"],[0.7777777777777778,\"#fb9f3a\"],[0.8888888888888888,\"#fdca26\"],[1.0,\"#f0f921\"]],\"type\":\"contour\"}],\"contourcarpet\":[{\"colorbar\":{\"outlinewidth\":0,\"ticks\":\"\"},\"type\":\"contourcarpet\"}],\"heatmap\":[{\"colorbar\":{\"outlinewidth\":0,\"ticks\":\"\"},\"colorscale\":[[0.0,\"#0d0887\"],[0.1111111111111111,\"#46039f\"],[0.2222222222222222,\"#7201a8\"],[0.3333333333333333,\"#9c179e\"],[0.4444444444444444,\"#bd3786\"],[0.5555555555555556,\"#d8576b\"],[0.6666666666666666,\"#ed7953\"],[0.7777777777777778,\"#fb9f3a\"],[0.8888888888888888,\"#fdca26\"],[1.0,\"#f0f921\"]],\"type\":\"heatmap\"}],\"heatmapgl\":[{\"colorbar\":{\"outlinewidth\":0,\"ticks\":\"\"},\"colorscale\":[[0.0,\"#0d0887\"],[0.1111111111111111,\"#46039f\"],[0.2222222222222222,\"#7201a8\"],[0.3333333333333333,\"#9c179e\"],[0.4444444444444444,\"#bd3786\"],[0.5555555555555556,\"#d8576b\"],[0.6666666666666666,\"#ed7953\"],[0.7777777777777778,\"#fb9f3a\"],[0.8888888888888888,\"#fdca26\"],[1.0,\"#f0f921\"]],\"type\":\"heatmapgl\"}],\"histogram\":[{\"marker\":{\"pattern\":{\"fillmode\":\"overlay\",\"size\":10,\"solidity\":0.2}},\"type\":\"histogram\"}],\"histogram2d\":[{\"colorbar\":{\"outlinewidth\":0,\"ticks\":\"\"},\"colorscale\":[[0.0,\"#0d0887\"],[0.1111111111111111,\"#46039f\"],[0.2222222222222222,\"#7201a8\"],[0.3333333333333333,\"#9c179e\"],[0.4444444444444444,\"#bd3786\"],[0.5555555555555556,\"#d8576b\"],[0.6666666666666666,\"#ed7953\"],[0.7777777777777778,\"#fb9f3a\"],[0.8888888888888888,\"#fdca26\"],[1.0,\"#f0f921\"]],\"type\":\"histogram2d\"}],\"histogram2dcontour\":[{\"colorbar\":{\"outlinewidth\":0,\"ticks\":\"\"},\"colorscale\":[[0.0,\"#0d0887\"],[0.1111111111111111,\"#46039f\"],[0.2222222222222222,\"#7201a8\"],[0.3333333333333333,\"#9c179e\"],[0.4444444444444444,\"#bd3786\"],[0.5555555555555556,\"#d8576b\"],[0.6666666666666666,\"#ed7953\"],[0.7777777777777778,\"#fb9f3a\"],[0.8888888888888888,\"#fdca26\"],[1.0,\"#f0f921\"]],\"type\":\"histogram2dcontour\"}],\"mesh3d\":[{\"colorbar\":{\"outlinewidth\":0,\"ticks\":\"\"},\"type\":\"mesh3d\"}],\"parcoords\":[{\"line\":{\"colorbar\":{\"outlinewidth\":0,\"ticks\":\"\"}},\"type\":\"parcoords\"}],\"pie\":[{\"automargin\":true,\"type\":\"pie\"}],\"scatter\":[{\"marker\":{\"colorbar\":{\"outlinewidth\":0,\"ticks\":\"\"}},\"type\":\"scatter\"}],\"scatter3d\":[{\"line\":{\"colorbar\":{\"outlinewidth\":0,\"ticks\":\"\"}},\"marker\":{\"colorbar\":{\"outlinewidth\":0,\"ticks\":\"\"}},\"type\":\"scatter3d\"}],\"scattercarpet\":[{\"marker\":{\"colorbar\":{\"outlinewidth\":0,\"ticks\":\"\"}},\"type\":\"scattercarpet\"}],\"scattergeo\":[{\"marker\":{\"colorbar\":{\"outlinewidth\":0,\"ticks\":\"\"}},\"type\":\"scattergeo\"}],\"scattergl\":[{\"marker\":{\"colorbar\":{\"outlinewidth\":0,\"ticks\":\"\"}},\"type\":\"scattergl\"}],\"scattermapbox\":[{\"marker\":{\"colorbar\":{\"outlinewidth\":0,\"ticks\":\"\"}},\"type\":\"scattermapbox\"}],\"scatterpolar\":[{\"marker\":{\"colorbar\":{\"outlinewidth\":0,\"ticks\":\"\"}},\"type\":\"scatterpolar\"}],\"scatterpolargl\":[{\"marker\":{\"colorbar\":{\"outlinewidth\":0,\"ticks\":\"\"}},\"type\":\"scatterpolargl\"}],\"scatterternary\":[{\"marker\":{\"colorbar\":{\"outlinewidth\":0,\"ticks\":\"\"}},\"type\":\"scatterternary\"}],\"surface\":[{\"colorbar\":{\"outlinewidth\":0,\"ticks\":\"\"},\"colorscale\":[[0.0,\"#0d0887\"],[0.1111111111111111,\"#46039f\"],[0.2222222222222222,\"#7201a8\"],[0.3333333333333333,\"#9c179e\"],[0.4444444444444444,\"#bd3786\"],[0.5555555555555556,\"#d8576b\"],[0.6666666666666666,\"#ed7953\"],[0.7777777777777778,\"#fb9f3a\"],[0.8888888888888888,\"#fdca26\"],[1.0,\"#f0f921\"]],\"type\":\"surface\"}],\"table\":[{\"cells\":{\"fill\":{\"color\":\"#EBF0F8\"},\"line\":{\"color\":\"white\"}},\"header\":{\"fill\":{\"color\":\"#C8D4E3\"},\"line\":{\"color\":\"white\"}},\"type\":\"table\"}]},\"layout\":{\"annotationdefaults\":{\"arrowcolor\":\"#2a3f5f\",\"arrowhead\":0,\"arrowwidth\":1},\"autotypenumbers\":\"strict\",\"coloraxis\":{\"colorbar\":{\"outlinewidth\":0,\"ticks\":\"\"}},\"colorscale\":{\"diverging\":[[0,\"#8e0152\"],[0.1,\"#c51b7d\"],[0.2,\"#de77ae\"],[0.3,\"#f1b6da\"],[0.4,\"#fde0ef\"],[0.5,\"#f7f7f7\"],[0.6,\"#e6f5d0\"],[0.7,\"#b8e186\"],[0.8,\"#7fbc41\"],[0.9,\"#4d9221\"],[1,\"#276419\"]],\"sequential\":[[0.0,\"#0d0887\"],[0.1111111111111111,\"#46039f\"],[0.2222222222222222,\"#7201a8\"],[0.3333333333333333,\"#9c179e\"],[0.4444444444444444,\"#bd3786\"],[0.5555555555555556,\"#d8576b\"],[0.6666666666666666,\"#ed7953\"],[0.7777777777777778,\"#fb9f3a\"],[0.8888888888888888,\"#fdca26\"],[1.0,\"#f0f921\"]],\"sequentialminus\":[[0.0,\"#0d0887\"],[0.1111111111111111,\"#46039f\"],[0.2222222222222222,\"#7201a8\"],[0.3333333333333333,\"#9c179e\"],[0.4444444444444444,\"#bd3786\"],[0.5555555555555556,\"#d8576b\"],[0.6666666666666666,\"#ed7953\"],[0.7777777777777778,\"#fb9f3a\"],[0.8888888888888888,\"#fdca26\"],[1.0,\"#f0f921\"]]},\"colorway\":[\"#636efa\",\"#EF553B\",\"#00cc96\",\"#ab63fa\",\"#FFA15A\",\"#19d3f3\",\"#FF6692\",\"#B6E880\",\"#FF97FF\",\"#FECB52\"],\"font\":{\"color\":\"#2a3f5f\"},\"geo\":{\"bgcolor\":\"white\",\"lakecolor\":\"white\",\"landcolor\":\"#E5ECF6\",\"showlakes\":true,\"showland\":true,\"subunitcolor\":\"white\"},\"hoverlabel\":{\"align\":\"left\"},\"hovermode\":\"closest\",\"mapbox\":{\"style\":\"light\"},\"paper_bgcolor\":\"white\",\"plot_bgcolor\":\"#E5ECF6\",\"polar\":{\"angularaxis\":{\"gridcolor\":\"white\",\"linecolor\":\"white\",\"ticks\":\"\"},\"bgcolor\":\"#E5ECF6\",\"radialaxis\":{\"gridcolor\":\"white\",\"linecolor\":\"white\",\"ticks\":\"\"}},\"scene\":{\"xaxis\":{\"backgroundcolor\":\"#E5ECF6\",\"gridcolor\":\"white\",\"gridwidth\":2,\"linecolor\":\"white\",\"showbackground\":true,\"ticks\":\"\",\"zerolinecolor\":\"white\"},\"yaxis\":{\"backgroundcolor\":\"#E5ECF6\",\"gridcolor\":\"white\",\"gridwidth\":2,\"linecolor\":\"white\",\"showbackground\":true,\"ticks\":\"\",\"zerolinecolor\":\"white\"},\"zaxis\":{\"backgroundcolor\":\"#E5ECF6\",\"gridcolor\":\"white\",\"gridwidth\":2,\"linecolor\":\"white\",\"showbackground\":true,\"ticks\":\"\",\"zerolinecolor\":\"white\"}},\"shapedefaults\":{\"line\":{\"color\":\"#2a3f5f\"}},\"ternary\":{\"aaxis\":{\"gridcolor\":\"white\",\"linecolor\":\"white\",\"ticks\":\"\"},\"baxis\":{\"gridcolor\":\"white\",\"linecolor\":\"white\",\"ticks\":\"\"},\"bgcolor\":\"#E5ECF6\",\"caxis\":{\"gridcolor\":\"white\",\"linecolor\":\"white\",\"ticks\":\"\"}},\"title\":{\"x\":0.05},\"xaxis\":{\"automargin\":true,\"gridcolor\":\"white\",\"linecolor\":\"white\",\"ticks\":\"\",\"title\":{\"standoff\":15},\"zerolinecolor\":\"white\",\"zerolinewidth\":2},\"yaxis\":{\"automargin\":true,\"gridcolor\":\"white\",\"linecolor\":\"white\",\"ticks\":\"\",\"title\":{\"standoff\":15},\"zerolinecolor\":\"white\",\"zerolinewidth\":2}}},\"title\":{\"text\":\"EURCHF=X\"}},                        {\"responsive\": true}                    ).then(function(){\n",
       "                            \n",
       "var gd = document.getElementById('d760f47d-64fb-47f0-b47b-55d6e2b07088');\n",
       "var x = new MutationObserver(function (mutations, observer) {{\n",
       "        var display = window.getComputedStyle(gd).display;\n",
       "        if (!display || display === 'none') {{\n",
       "            console.log([gd, 'removed!']);\n",
       "            Plotly.purge(gd);\n",
       "            observer.disconnect();\n",
       "        }}\n",
       "}});\n",
       "\n",
       "// Listen for the removal of the full notebook cells\n",
       "var notebookContainer = gd.closest('#notebook-container');\n",
       "if (notebookContainer) {{\n",
       "    x.observe(notebookContainer, {childList: true});\n",
       "}}\n",
       "\n",
       "// Listen for the clearing of the current output cell\n",
       "var outputEl = gd.closest('.output');\n",
       "if (outputEl) {{\n",
       "    x.observe(outputEl, {childList: true});\n",
       "}}\n",
       "\n",
       "                        })                };                });            </script>        </div>"
      ]
     },
     "metadata": {},
     "output_type": "display_data"
    },
    {
     "name": "stdout",
     "output_type": "stream",
     "text": [
      "[*********************100%***********************]  1 of 1 completed\n"
     ]
    },
    {
     "data": {
      "application/vnd.plotly.v1+json": {
       "config": {
        "plotlyServerURL": "https://plot.ly"
       },
       "data": [
        {
         "close": [
          0.8574000000953674,
          0.8578000068664551,
          0.8594300150871277,
          0.8584399819374084,
          0.8542299866676331,
          0.8534299731254578,
          0.8533999919891357,
          0.8546299934387207,
          0.8533899784088135,
          0.8525699973106384,
          0.8542699813842773,
          0.8582900166511536,
          0.858299970626831,
          0.8582599759101868,
          0.8555999994277954,
          0.8575699925422668,
          0.8535900115966797,
          0.863099992275238,
          0.8637999892234802,
          0.8592699766159058,
          0.8550999760627747,
          0.8536499738693237,
          0.8509200215339661,
          0.8500999808311462,
          0.8485999703407288,
          0.8493300080299377,
          0.8497999906539917,
          0.8492000102996826,
          0.8483499884605408,
          0.8479200005531311,
          0.8426499962806702,
          0.8453999757766724,
          0.8432000279426575,
          0.8429800271987915,
          0.8428999781608582,
          0.8456000089645386,
          0.8433799743652344,
          0.8423500061035156,
          0.8446099758148193,
          0.8463799953460693,
          0.8445299863815308,
          0.849399983882904,
          0.8503000140190125,
          0.8481500148773193,
          0.8553799986839294,
          0.8574299812316895,
          0.854200005531311,
          0.8550000190734863,
          0.8560900092124939,
          0.8564299941062927,
          0.8527200222015381,
          0.8475499749183655,
          0.8428999781608582,
          0.8389999866485596,
          0.8420600295066833,
          0.8391000032424927,
          0.8390399813652039,
          0.8406299948692322,
          0.8403400182723999,
          0.8417999744415283,
          0.8464099764823914,
          0.8480600118637085,
          0.8521000146865845,
          0.8522999882698059,
          0.8500199913978577,
          0.8539999723434448,
          0.8506900072097778,
          0.8510000109672546,
          0.858739972114563,
          0.8539299964904785,
          0.8531200289726257,
          0.8538699746131897,
          0.8508599996566772,
          0.8512300252914429,
          0.850570023059845,
          0.849810004234314,
          0.853600025177002,
          0.8505899906158447,
          0.8482400178909302,
          0.8443899750709534,
          0.8446499705314636,
          0.8427799940109253,
          0.8418800234794617,
          0.8414000272750854,
          0.8385499715805054,
          0.8410000205039978,
          0.8381800055503845,
          0.833899974822998,
          0.83433997631073,
          0.8345500230789185,
          0.8352699875831604,
          0.8342400193214417,
          0.8335999846458435,
          0.8344299793243408,
          0.8353999853134155,
          0.8344299793243408,
          0.8359500169754028,
          0.8329700231552124,
          0.8335000276565552,
          0.8319900035858154,
          0.8366000056266785,
          0.8394399881362915,
          0.8363900184631348,
          0.8346999883651733,
          0.8322100043296814,
          0.8320099711418152,
          0.8351399898529053,
          0.8334500193595886,
          0.832889974117279,
          0.8409299850463867
         ],
         "high": [
          0.8585600256919861,
          0.8612800240516663,
          0.8601700067520142,
          0.8587999939918518,
          0.8544899821281433,
          0.8537700176239014,
          0.8540099859237671,
          0.8561400175094604,
          0.8546900153160095,
          0.8552299737930298,
          0.8589900135993958,
          0.8593599796295166,
          0.8610900044441223,
          0.8589100241661072,
          0.8572099804878235,
          0.8576499819755554,
          0.8639799952507019,
          0.8657600283622742,
          0.8641600012779236,
          0.8623300194740295,
          0.8571699857711792,
          0.854420006275177,
          0.8526099920272827,
          0.8521299958229065,
          0.8498899936676025,
          0.8495299816131592,
          0.8516600131988525,
          0.8495399951934814,
          0.8486999869346619,
          0.8486499786376953,
          0.8462700247764587,
          0.8463000059127808,
          0.8460000157356262,
          0.8443499803543091,
          0.8463699817657471,
          0.8464599847793579,
          0.8433799743652344,
          0.8463000059127808,
          0.846589982509613,
          0.8471999764442444,
          0.8478800058364868,
          0.8512899875640869,
          0.8512200117111206,
          0.8563500046730042,
          0.8593900203704834,
          0.8587300181388855,
          0.8560000061988831,
          0.855929970741272,
          0.857230007648468,
          0.856469988822937,
          0.8537099957466125,
          0.8481299877166748,
          0.8435999751091003,
          0.8424599766731262,
          0.8425999879837036,
          0.8402699828147888,
          0.842989981174469,
          0.8413800001144409,
          0.8434299826622009,
          0.8494799733161926,
          0.84757000207901,
          0.8524500131607056,
          0.8524500131607056,
          0.8525699973106384,
          0.8546599745750427,
          0.8540999889373779,
          0.8510000109672546,
          0.858430027961731,
          0.8589900135993958,
          0.85521000623703,
          0.8537399768829346,
          0.85521000623703,
          0.852429986000061,
          0.8527299761772156,
          0.8526700139045715,
          0.8549399971961975,
          0.8548700213432312,
          0.8510100245475769,
          0.8497999906539917,
          0.8462299704551697,
          0.8456000089645386,
          0.8434000015258789,
          0.8423500061035156,
          0.841509997844696,
          0.8409299850463867,
          0.8418099880218506,
          0.8393999934196472,
          0.8372099995613098,
          0.8371099829673767,
          0.8364899754524231,
          0.8354300260543823,
          0.8349000215530396,
          0.8345999717712402,
          0.8358799815177917,
          0.8361600041389465,
          0.8361499905586243,
          0.8377299904823303,
          0.83406001329422,
          0.8338599801063538,
          0.8375899791717529,
          0.8414199948310852,
          0.8400800228118896,
          0.8370100259780884,
          0.8357300162315369,
          0.8329600095748901,
          0.8356000185012817,
          0.8359299898147583,
          0.8349699974060059,
          0.8407400250434875,
          0.8469300270080566
         ],
         "low": [
          0.8565999865531921,
          0.8575000166893005,
          0.857699990272522,
          0.8524500131607056,
          0.8520600199699402,
          0.8510400056838989,
          0.8510000109672546,
          0.8529199957847595,
          0.8500499725341797,
          0.8521000146865845,
          0.8539000153541565,
          0.8563399910926819,
          0.8572999835014343,
          0.8535000085830688,
          0.8549000024795532,
          0.8526999950408936,
          0.8525400161743164,
          0.861299991607666,
          0.8577799797058105,
          0.8543999791145325,
          0.8529999852180481,
          0.8503699898719788,
          0.849399983882904,
          0.8478999733924866,
          0.8478000164031982,
          0.8472099900245667,
          0.8474000096321106,
          0.8472999930381775,
          0.8453999757766724,
          0.8425499796867371,
          0.8424000144004822,
          0.8423500061035156,
          0.842199981212616,
          0.8422200083732605,
          0.8420000076293945,
          0.8427000045776367,
          0.8402000069618225,
          0.8418999910354614,
          0.8422999978065491,
          0.843500018119812,
          0.8440999984741211,
          0.8490999937057495,
          0.8471999764442444,
          0.8465499877929688,
          0.8549799919128418,
          0.8535000085830688,
          0.8521000146865845,
          0.8531699776649475,
          0.8543999791145325,
          0.853190004825592,
          0.8494399785995483,
          0.8434799909591675,
          0.8385000228881836,
          0.8383499979972839,
          0.8385999798774719,
          0.8380600214004517,
          0.8384000062942505,
          0.8384400010108948,
          0.8398000001907349,
          0.8415899872779846,
          0.8446300029754639,
          0.8472499847412109,
          0.8493000268936157,
          0.8494399785995483,
          0.8492799997329712,
          0.850130021572113,
          0.8489099740982056,
          0.8507999777793884,
          0.8543400168418884,
          0.8529000282287598,
          0.8500999808311462,
          0.8510599732398987,
          0.8486499786376953,
          0.8453500270843506,
          0.8492000102996826,
          0.8494899868965149,
          0.8500400185585022,
          0.8480799794197083,
          0.8415799736976624,
          0.8428900241851807,
          0.8423900008201599,
          0.8402799963951111,
          0.8402699828147888,
          0.8379600048065186,
          0.8367900252342224,
          0.8378499746322632,
          0.833620011806488,
          0.8334199786186218,
          0.8342999815940857,
          0.8335999846458435,
          0.8331999778747559,
          0.8324699997901917,
          0.8328999876976013,
          0.8336600065231323,
          0.8341699838638306,
          0.8341000080108643,
          0.8341900110244751,
          0.8312000036239624,
          0.8305299878120422,
          0.8317999839782715,
          0.8352000117301941,
          0.8357999920845032,
          0.8342000246047974,
          0.832069993019104,
          0.8306000232696533,
          0.8305100202560425,
          0.8319799900054932,
          0.8324900269508362,
          0.8287699818611145,
          0.840499997138977
         ],
         "name": "market data",
         "open": [
          0.8576200008392334,
          0.8579400181770325,
          0.85944002866745,
          0.8583999872207642,
          0.8542900085449219,
          0.8534299731254578,
          0.8532599806785583,
          0.8546800017356873,
          0.8535299897193909,
          0.8525400161743164,
          0.8541899919509888,
          0.8583099842071533,
          0.8583999872207642,
          0.8581100106239319,
          0.8557000160217285,
          0.8574399948120117,
          0.853630006313324,
          0.8629000186920166,
          0.8640300035476685,
          0.859220027923584,
          0.8550999760627747,
          0.8535799980163574,
          0.8509200215339661,
          0.8500800132751465,
          0.8485000133514404,
          0.8492299914360046,
          0.849839985370636,
          0.8492400050163269,
          0.8483700156211853,
          0.8478900194168091,
          0.8426600098609924,
          0.8453699946403503,
          0.8432700037956238,
          0.8428800106048584,
          0.8429099917411804,
          0.845550000667572,
          0.8433399796485901,
          0.8422899842262268,
          0.8445900082588196,
          0.8464499711990356,
          0.844569981098175,
          0.8493199944496155,
          0.8503400087356567,
          0.8482000231742859,
          0.8552899956703186,
          0.857509970664978,
          0.8543400168418884,
          0.8546500205993652,
          0.8561000227928162,
          0.8562999963760376,
          0.8527699708938599,
          0.8475599884986877,
          0.8429200053215027,
          0.8389700055122375,
          0.8421099781990051,
          0.8393099904060364,
          0.8389000296592712,
          0.8405500054359436,
          0.8404300212860107,
          0.8417999744415283,
          0.8463600277900696,
          0.8480600118637085,
          0.8520799875259399,
          0.852400004863739,
          0.8500999808311462,
          0.8540700078010559,
          0.8507099747657776,
          0.8509500026702881,
          0.8586999773979187,
          0.853950023651123,
          0.8531000018119812,
          0.853879988193512,
          0.8507699966430664,
          0.8513100147247314,
          0.8506900072097778,
          0.8497099876403809,
          0.8535900115966797,
          0.8505799770355225,
          0.8482999801635742,
          0.8443199992179871,
          0.844760000705719,
          0.8427900075912476,
          0.8420799970626831,
          0.841509997844696,
          0.8388699889183044,
          0.8410400152206421,
          0.8382099866867065,
          0.8337900042533875,
          0.8343999981880188,
          0.8345699906349182,
          0.8353099822998047,
          0.8343999981880188,
          0.8337000012397766,
          0.8345400094985962,
          0.8353000283241272,
          0.8344900012016296,
          0.8360099792480469,
          0.8329799771308899,
          0.8335000276565552,
          0.8317999839782715,
          0.8366000056266785,
          0.8394299745559692,
          0.8364199995994568,
          0.8346099853515625,
          0.83228999376297,
          0.8320000171661377,
          0.8352800011634827,
          0.8335199952125549,
          0.8329300284385681,
          0.8408899903297424
         ],
         "type": "candlestick",
         "x": [
          "2021-09-06T00:00:00",
          "2021-09-07T00:00:00",
          "2021-09-08T00:00:00",
          "2021-09-09T00:00:00",
          "2021-09-10T00:00:00",
          "2021-09-13T00:00:00",
          "2021-09-14T00:00:00",
          "2021-09-15T00:00:00",
          "2021-09-16T00:00:00",
          "2021-09-17T00:00:00",
          "2021-09-20T00:00:00",
          "2021-09-21T00:00:00",
          "2021-09-22T00:00:00",
          "2021-09-23T00:00:00",
          "2021-09-24T00:00:00",
          "2021-09-27T00:00:00",
          "2021-09-28T00:00:00",
          "2021-09-29T00:00:00",
          "2021-09-30T00:00:00",
          "2021-10-01T00:00:00",
          "2021-10-04T00:00:00",
          "2021-10-05T00:00:00",
          "2021-10-06T00:00:00",
          "2021-10-07T00:00:00",
          "2021-10-08T00:00:00",
          "2021-10-11T00:00:00",
          "2021-10-12T00:00:00",
          "2021-10-13T00:00:00",
          "2021-10-14T00:00:00",
          "2021-10-15T00:00:00",
          "2021-10-18T00:00:00",
          "2021-10-19T00:00:00",
          "2021-10-20T00:00:00",
          "2021-10-21T00:00:00",
          "2021-10-22T00:00:00",
          "2021-10-25T00:00:00",
          "2021-10-26T00:00:00",
          "2021-10-27T00:00:00",
          "2021-10-28T00:00:00",
          "2021-10-29T00:00:00",
          "2021-11-01T00:00:00",
          "2021-11-02T00:00:00",
          "2021-11-03T00:00:00",
          "2021-11-04T00:00:00",
          "2021-11-05T00:00:00",
          "2021-11-08T00:00:00",
          "2021-11-09T00:00:00",
          "2021-11-10T00:00:00",
          "2021-11-11T00:00:00",
          "2021-11-12T00:00:00",
          "2021-11-15T00:00:00",
          "2021-11-16T00:00:00",
          "2021-11-17T00:00:00",
          "2021-11-18T00:00:00",
          "2021-11-19T00:00:00",
          "2021-11-22T00:00:00",
          "2021-11-23T00:00:00",
          "2021-11-24T00:00:00",
          "2021-11-25T00:00:00",
          "2021-11-26T00:00:00",
          "2021-11-29T00:00:00",
          "2021-11-30T00:00:00",
          "2021-12-01T00:00:00",
          "2021-12-02T00:00:00",
          "2021-12-03T00:00:00",
          "2021-12-06T00:00:00",
          "2021-12-07T00:00:00",
          "2021-12-08T00:00:00",
          "2021-12-09T00:00:00",
          "2021-12-10T00:00:00",
          "2021-12-13T00:00:00",
          "2021-12-14T00:00:00",
          "2021-12-15T00:00:00",
          "2021-12-16T00:00:00",
          "2021-12-17T00:00:00",
          "2021-12-20T00:00:00",
          "2021-12-21T00:00:00",
          "2021-12-22T00:00:00",
          "2021-12-23T00:00:00",
          "2021-12-24T00:00:00",
          "2021-12-27T00:00:00",
          "2021-12-28T00:00:00",
          "2021-12-29T00:00:00",
          "2021-12-30T00:00:00",
          "2021-12-31T00:00:00",
          "2022-01-03T00:00:00",
          "2022-01-04T00:00:00",
          "2022-01-05T00:00:00",
          "2022-01-06T00:00:00",
          "2022-01-07T00:00:00",
          "2022-01-10T00:00:00",
          "2022-01-11T00:00:00",
          "2022-01-12T00:00:00",
          "2022-01-13T00:00:00",
          "2022-01-14T00:00:00",
          "2022-01-17T00:00:00",
          "2022-01-18T00:00:00",
          "2022-01-19T00:00:00",
          "2022-01-20T00:00:00",
          "2022-01-21T00:00:00",
          "2022-01-24T00:00:00",
          "2022-01-25T00:00:00",
          "2022-01-26T00:00:00",
          "2022-01-27T00:00:00",
          "2022-01-28T00:00:00",
          "2022-01-31T00:00:00",
          "2022-02-01T00:00:00",
          "2022-02-02T00:00:00",
          "2022-02-03T00:00:00",
          "2022-02-04T00:00:00"
         ]
        }
       ],
       "layout": {
        "autosize": true,
        "template": {
         "data": {
          "bar": [
           {
            "error_x": {
             "color": "#2a3f5f"
            },
            "error_y": {
             "color": "#2a3f5f"
            },
            "marker": {
             "line": {
              "color": "#E5ECF6",
              "width": 0.5
             },
             "pattern": {
              "fillmode": "overlay",
              "size": 10,
              "solidity": 0.2
             }
            },
            "type": "bar"
           }
          ],
          "barpolar": [
           {
            "marker": {
             "line": {
              "color": "#E5ECF6",
              "width": 0.5
             },
             "pattern": {
              "fillmode": "overlay",
              "size": 10,
              "solidity": 0.2
             }
            },
            "type": "barpolar"
           }
          ],
          "carpet": [
           {
            "aaxis": {
             "endlinecolor": "#2a3f5f",
             "gridcolor": "white",
             "linecolor": "white",
             "minorgridcolor": "white",
             "startlinecolor": "#2a3f5f"
            },
            "baxis": {
             "endlinecolor": "#2a3f5f",
             "gridcolor": "white",
             "linecolor": "white",
             "minorgridcolor": "white",
             "startlinecolor": "#2a3f5f"
            },
            "type": "carpet"
           }
          ],
          "choropleth": [
           {
            "colorbar": {
             "outlinewidth": 0,
             "ticks": ""
            },
            "type": "choropleth"
           }
          ],
          "contour": [
           {
            "colorbar": {
             "outlinewidth": 0,
             "ticks": ""
            },
            "colorscale": [
             [
              0,
              "#0d0887"
             ],
             [
              0.1111111111111111,
              "#46039f"
             ],
             [
              0.2222222222222222,
              "#7201a8"
             ],
             [
              0.3333333333333333,
              "#9c179e"
             ],
             [
              0.4444444444444444,
              "#bd3786"
             ],
             [
              0.5555555555555556,
              "#d8576b"
             ],
             [
              0.6666666666666666,
              "#ed7953"
             ],
             [
              0.7777777777777778,
              "#fb9f3a"
             ],
             [
              0.8888888888888888,
              "#fdca26"
             ],
             [
              1,
              "#f0f921"
             ]
            ],
            "type": "contour"
           }
          ],
          "contourcarpet": [
           {
            "colorbar": {
             "outlinewidth": 0,
             "ticks": ""
            },
            "type": "contourcarpet"
           }
          ],
          "heatmap": [
           {
            "colorbar": {
             "outlinewidth": 0,
             "ticks": ""
            },
            "colorscale": [
             [
              0,
              "#0d0887"
             ],
             [
              0.1111111111111111,
              "#46039f"
             ],
             [
              0.2222222222222222,
              "#7201a8"
             ],
             [
              0.3333333333333333,
              "#9c179e"
             ],
             [
              0.4444444444444444,
              "#bd3786"
             ],
             [
              0.5555555555555556,
              "#d8576b"
             ],
             [
              0.6666666666666666,
              "#ed7953"
             ],
             [
              0.7777777777777778,
              "#fb9f3a"
             ],
             [
              0.8888888888888888,
              "#fdca26"
             ],
             [
              1,
              "#f0f921"
             ]
            ],
            "type": "heatmap"
           }
          ],
          "heatmapgl": [
           {
            "colorbar": {
             "outlinewidth": 0,
             "ticks": ""
            },
            "colorscale": [
             [
              0,
              "#0d0887"
             ],
             [
              0.1111111111111111,
              "#46039f"
             ],
             [
              0.2222222222222222,
              "#7201a8"
             ],
             [
              0.3333333333333333,
              "#9c179e"
             ],
             [
              0.4444444444444444,
              "#bd3786"
             ],
             [
              0.5555555555555556,
              "#d8576b"
             ],
             [
              0.6666666666666666,
              "#ed7953"
             ],
             [
              0.7777777777777778,
              "#fb9f3a"
             ],
             [
              0.8888888888888888,
              "#fdca26"
             ],
             [
              1,
              "#f0f921"
             ]
            ],
            "type": "heatmapgl"
           }
          ],
          "histogram": [
           {
            "marker": {
             "pattern": {
              "fillmode": "overlay",
              "size": 10,
              "solidity": 0.2
             }
            },
            "type": "histogram"
           }
          ],
          "histogram2d": [
           {
            "colorbar": {
             "outlinewidth": 0,
             "ticks": ""
            },
            "colorscale": [
             [
              0,
              "#0d0887"
             ],
             [
              0.1111111111111111,
              "#46039f"
             ],
             [
              0.2222222222222222,
              "#7201a8"
             ],
             [
              0.3333333333333333,
              "#9c179e"
             ],
             [
              0.4444444444444444,
              "#bd3786"
             ],
             [
              0.5555555555555556,
              "#d8576b"
             ],
             [
              0.6666666666666666,
              "#ed7953"
             ],
             [
              0.7777777777777778,
              "#fb9f3a"
             ],
             [
              0.8888888888888888,
              "#fdca26"
             ],
             [
              1,
              "#f0f921"
             ]
            ],
            "type": "histogram2d"
           }
          ],
          "histogram2dcontour": [
           {
            "colorbar": {
             "outlinewidth": 0,
             "ticks": ""
            },
            "colorscale": [
             [
              0,
              "#0d0887"
             ],
             [
              0.1111111111111111,
              "#46039f"
             ],
             [
              0.2222222222222222,
              "#7201a8"
             ],
             [
              0.3333333333333333,
              "#9c179e"
             ],
             [
              0.4444444444444444,
              "#bd3786"
             ],
             [
              0.5555555555555556,
              "#d8576b"
             ],
             [
              0.6666666666666666,
              "#ed7953"
             ],
             [
              0.7777777777777778,
              "#fb9f3a"
             ],
             [
              0.8888888888888888,
              "#fdca26"
             ],
             [
              1,
              "#f0f921"
             ]
            ],
            "type": "histogram2dcontour"
           }
          ],
          "mesh3d": [
           {
            "colorbar": {
             "outlinewidth": 0,
             "ticks": ""
            },
            "type": "mesh3d"
           }
          ],
          "parcoords": [
           {
            "line": {
             "colorbar": {
              "outlinewidth": 0,
              "ticks": ""
             }
            },
            "type": "parcoords"
           }
          ],
          "pie": [
           {
            "automargin": true,
            "type": "pie"
           }
          ],
          "scatter": [
           {
            "marker": {
             "colorbar": {
              "outlinewidth": 0,
              "ticks": ""
             }
            },
            "type": "scatter"
           }
          ],
          "scatter3d": [
           {
            "line": {
             "colorbar": {
              "outlinewidth": 0,
              "ticks": ""
             }
            },
            "marker": {
             "colorbar": {
              "outlinewidth": 0,
              "ticks": ""
             }
            },
            "type": "scatter3d"
           }
          ],
          "scattercarpet": [
           {
            "marker": {
             "colorbar": {
              "outlinewidth": 0,
              "ticks": ""
             }
            },
            "type": "scattercarpet"
           }
          ],
          "scattergeo": [
           {
            "marker": {
             "colorbar": {
              "outlinewidth": 0,
              "ticks": ""
             }
            },
            "type": "scattergeo"
           }
          ],
          "scattergl": [
           {
            "marker": {
             "colorbar": {
              "outlinewidth": 0,
              "ticks": ""
             }
            },
            "type": "scattergl"
           }
          ],
          "scattermapbox": [
           {
            "marker": {
             "colorbar": {
              "outlinewidth": 0,
              "ticks": ""
             }
            },
            "type": "scattermapbox"
           }
          ],
          "scatterpolar": [
           {
            "marker": {
             "colorbar": {
              "outlinewidth": 0,
              "ticks": ""
             }
            },
            "type": "scatterpolar"
           }
          ],
          "scatterpolargl": [
           {
            "marker": {
             "colorbar": {
              "outlinewidth": 0,
              "ticks": ""
             }
            },
            "type": "scatterpolargl"
           }
          ],
          "scatterternary": [
           {
            "marker": {
             "colorbar": {
              "outlinewidth": 0,
              "ticks": ""
             }
            },
            "type": "scatterternary"
           }
          ],
          "surface": [
           {
            "colorbar": {
             "outlinewidth": 0,
             "ticks": ""
            },
            "colorscale": [
             [
              0,
              "#0d0887"
             ],
             [
              0.1111111111111111,
              "#46039f"
             ],
             [
              0.2222222222222222,
              "#7201a8"
             ],
             [
              0.3333333333333333,
              "#9c179e"
             ],
             [
              0.4444444444444444,
              "#bd3786"
             ],
             [
              0.5555555555555556,
              "#d8576b"
             ],
             [
              0.6666666666666666,
              "#ed7953"
             ],
             [
              0.7777777777777778,
              "#fb9f3a"
             ],
             [
              0.8888888888888888,
              "#fdca26"
             ],
             [
              1,
              "#f0f921"
             ]
            ],
            "type": "surface"
           }
          ],
          "table": [
           {
            "cells": {
             "fill": {
              "color": "#EBF0F8"
             },
             "line": {
              "color": "white"
             }
            },
            "header": {
             "fill": {
              "color": "#C8D4E3"
             },
             "line": {
              "color": "white"
             }
            },
            "type": "table"
           }
          ]
         },
         "layout": {
          "annotationdefaults": {
           "arrowcolor": "#2a3f5f",
           "arrowhead": 0,
           "arrowwidth": 1
          },
          "autotypenumbers": "strict",
          "coloraxis": {
           "colorbar": {
            "outlinewidth": 0,
            "ticks": ""
           }
          },
          "colorscale": {
           "diverging": [
            [
             0,
             "#8e0152"
            ],
            [
             0.1,
             "#c51b7d"
            ],
            [
             0.2,
             "#de77ae"
            ],
            [
             0.3,
             "#f1b6da"
            ],
            [
             0.4,
             "#fde0ef"
            ],
            [
             0.5,
             "#f7f7f7"
            ],
            [
             0.6,
             "#e6f5d0"
            ],
            [
             0.7,
             "#b8e186"
            ],
            [
             0.8,
             "#7fbc41"
            ],
            [
             0.9,
             "#4d9221"
            ],
            [
             1,
             "#276419"
            ]
           ],
           "sequential": [
            [
             0,
             "#0d0887"
            ],
            [
             0.1111111111111111,
             "#46039f"
            ],
            [
             0.2222222222222222,
             "#7201a8"
            ],
            [
             0.3333333333333333,
             "#9c179e"
            ],
            [
             0.4444444444444444,
             "#bd3786"
            ],
            [
             0.5555555555555556,
             "#d8576b"
            ],
            [
             0.6666666666666666,
             "#ed7953"
            ],
            [
             0.7777777777777778,
             "#fb9f3a"
            ],
            [
             0.8888888888888888,
             "#fdca26"
            ],
            [
             1,
             "#f0f921"
            ]
           ],
           "sequentialminus": [
            [
             0,
             "#0d0887"
            ],
            [
             0.1111111111111111,
             "#46039f"
            ],
            [
             0.2222222222222222,
             "#7201a8"
            ],
            [
             0.3333333333333333,
             "#9c179e"
            ],
            [
             0.4444444444444444,
             "#bd3786"
            ],
            [
             0.5555555555555556,
             "#d8576b"
            ],
            [
             0.6666666666666666,
             "#ed7953"
            ],
            [
             0.7777777777777778,
             "#fb9f3a"
            ],
            [
             0.8888888888888888,
             "#fdca26"
            ],
            [
             1,
             "#f0f921"
            ]
           ]
          },
          "colorway": [
           "#636efa",
           "#EF553B",
           "#00cc96",
           "#ab63fa",
           "#FFA15A",
           "#19d3f3",
           "#FF6692",
           "#B6E880",
           "#FF97FF",
           "#FECB52"
          ],
          "font": {
           "color": "#2a3f5f"
          },
          "geo": {
           "bgcolor": "white",
           "lakecolor": "white",
           "landcolor": "#E5ECF6",
           "showlakes": true,
           "showland": true,
           "subunitcolor": "white"
          },
          "hoverlabel": {
           "align": "left"
          },
          "hovermode": "closest",
          "mapbox": {
           "style": "light"
          },
          "paper_bgcolor": "white",
          "plot_bgcolor": "#E5ECF6",
          "polar": {
           "angularaxis": {
            "gridcolor": "white",
            "linecolor": "white",
            "ticks": ""
           },
           "bgcolor": "#E5ECF6",
           "radialaxis": {
            "gridcolor": "white",
            "linecolor": "white",
            "ticks": ""
           }
          },
          "scene": {
           "xaxis": {
            "backgroundcolor": "#E5ECF6",
            "gridcolor": "white",
            "gridwidth": 2,
            "linecolor": "white",
            "showbackground": true,
            "ticks": "",
            "zerolinecolor": "white"
           },
           "yaxis": {
            "backgroundcolor": "#E5ECF6",
            "gridcolor": "white",
            "gridwidth": 2,
            "linecolor": "white",
            "showbackground": true,
            "ticks": "",
            "zerolinecolor": "white"
           },
           "zaxis": {
            "backgroundcolor": "#E5ECF6",
            "gridcolor": "white",
            "gridwidth": 2,
            "linecolor": "white",
            "showbackground": true,
            "ticks": "",
            "zerolinecolor": "white"
           }
          },
          "shapedefaults": {
           "line": {
            "color": "#2a3f5f"
           }
          },
          "ternary": {
           "aaxis": {
            "gridcolor": "white",
            "linecolor": "white",
            "ticks": ""
           },
           "baxis": {
            "gridcolor": "white",
            "linecolor": "white",
            "ticks": ""
           },
           "bgcolor": "#E5ECF6",
           "caxis": {
            "gridcolor": "white",
            "linecolor": "white",
            "ticks": ""
           }
          },
          "title": {
           "x": 0.05
          },
          "xaxis": {
           "automargin": true,
           "gridcolor": "white",
           "linecolor": "white",
           "ticks": "",
           "title": {
            "standoff": 15
           },
           "zerolinecolor": "white",
           "zerolinewidth": 2
          },
          "yaxis": {
           "automargin": true,
           "gridcolor": "white",
           "linecolor": "white",
           "ticks": "",
           "title": {
            "standoff": 15
           },
           "zerolinecolor": "white",
           "zerolinewidth": 2
          }
         }
        },
        "title": {
         "text": "EURGBP=X"
        },
        "xaxis": {
         "autorange": true,
         "range": [
          "2021-09-05 12:00",
          "2022-02-04 12:00"
         ],
         "rangeslider": {
          "autorange": true,
          "range": [
           "2021-09-05 12:00",
           "2022-02-04 12:00"
          ],
          "yaxis": {
           "_template": null,
           "rangemode": "match"
          }
         },
         "type": "date"
        },
        "yaxis": {
         "autorange": true,
         "range": [
          0.8267149792777168,
          0.8678150309456719
         ]
        }
       }
      },
      "image/png": "[encoded data removed]",
      "text/html": [
       "<div>                            <div id=\"b213aa01-ae1b-404f-af78-86933d06f8e5\" class=\"plotly-graph-div\" style=\"height:525px; width:100%;\"></div>            <script type=\"text/javascript\">                require([\"plotly\"], function(Plotly) {                    window.PLOTLYENV=window.PLOTLYENV || {};                                    if (document.getElementById(\"b213aa01-ae1b-404f-af78-86933d06f8e5\")) {                    Plotly.newPlot(                        \"b213aa01-ae1b-404f-af78-86933d06f8e5\",                        [{\"close\":[0.8574000000953674,0.8578000068664551,0.8594300150871277,0.8584399819374084,0.8542299866676331,0.8534299731254578,0.8533999919891357,0.8546299934387207,0.8533899784088135,0.8525699973106384,0.8542699813842773,0.8582900166511536,0.858299970626831,0.8582599759101868,0.8555999994277954,0.8575699925422668,0.8535900115966797,0.863099992275238,0.8637999892234802,0.8592699766159058,0.8550999760627747,0.8536499738693237,0.8509200215339661,0.8500999808311462,0.8485999703407288,0.8493300080299377,0.8497999906539917,0.8492000102996826,0.8483499884605408,0.8479200005531311,0.8426499962806702,0.8453999757766724,0.8432000279426575,0.8429800271987915,0.8428999781608582,0.8456000089645386,0.8433799743652344,0.8423500061035156,0.8446099758148193,0.8463799953460693,0.8445299863815308,0.849399983882904,0.8503000140190125,0.8481500148773193,0.8553799986839294,0.8574299812316895,0.854200005531311,0.8550000190734863,0.8560900092124939,0.8564299941062927,0.8527200222015381,0.8475499749183655,0.8428999781608582,0.8389999866485596,0.8420600295066833,0.8391000032424927,0.8390399813652039,0.8406299948692322,0.8403400182723999,0.8417999744415283,0.8464099764823914,0.8480600118637085,0.8521000146865845,0.8522999882698059,0.8500199913978577,0.8539999723434448,0.8506900072097778,0.8510000109672546,0.858739972114563,0.8539299964904785,0.8531200289726257,0.8538699746131897,0.8508599996566772,0.8512300252914429,0.850570023059845,0.849810004234314,0.853600025177002,0.8505899906158447,0.8482400178909302,0.8443899750709534,0.8446499705314636,0.8427799940109253,0.8418800234794617,0.8414000272750854,0.8385499715805054,0.8410000205039978,0.8381800055503845,0.833899974822998,0.83433997631073,0.8345500230789185,0.8352699875831604,0.8342400193214417,0.8335999846458435,0.8344299793243408,0.8353999853134155,0.8344299793243408,0.8359500169754028,0.8329700231552124,0.8335000276565552,0.8319900035858154,0.8366000056266785,0.8394399881362915,0.8363900184631348,0.8346999883651733,0.8322100043296814,0.8320099711418152,0.8351399898529053,0.8334500193595886,0.832889974117279,0.8409299850463867],\"high\":[0.8585600256919861,0.8612800240516663,0.8601700067520142,0.8587999939918518,0.8544899821281433,0.8537700176239014,0.8540099859237671,0.8561400175094604,0.8546900153160095,0.8552299737930298,0.8589900135993958,0.8593599796295166,0.8610900044441223,0.8589100241661072,0.8572099804878235,0.8576499819755554,0.8639799952507019,0.8657600283622742,0.8641600012779236,0.8623300194740295,0.8571699857711792,0.854420006275177,0.8526099920272827,0.8521299958229065,0.8498899936676025,0.8495299816131592,0.8516600131988525,0.8495399951934814,0.8486999869346619,0.8486499786376953,0.8462700247764587,0.8463000059127808,0.8460000157356262,0.8443499803543091,0.8463699817657471,0.8464599847793579,0.8433799743652344,0.8463000059127808,0.846589982509613,0.8471999764442444,0.8478800058364868,0.8512899875640869,0.8512200117111206,0.8563500046730042,0.8593900203704834,0.8587300181388855,0.8560000061988831,0.855929970741272,0.857230007648468,0.856469988822937,0.8537099957466125,0.8481299877166748,0.8435999751091003,0.8424599766731262,0.8425999879837036,0.8402699828147888,0.842989981174469,0.8413800001144409,0.8434299826622009,0.8494799733161926,0.84757000207901,0.8524500131607056,0.8524500131607056,0.8525699973106384,0.8546599745750427,0.8540999889373779,0.8510000109672546,0.858430027961731,0.8589900135993958,0.85521000623703,0.8537399768829346,0.85521000623703,0.852429986000061,0.8527299761772156,0.8526700139045715,0.8549399971961975,0.8548700213432312,0.8510100245475769,0.8497999906539917,0.8462299704551697,0.8456000089645386,0.8434000015258789,0.8423500061035156,0.841509997844696,0.8409299850463867,0.8418099880218506,0.8393999934196472,0.8372099995613098,0.8371099829673767,0.8364899754524231,0.8354300260543823,0.8349000215530396,0.8345999717712402,0.8358799815177917,0.8361600041389465,0.8361499905586243,0.8377299904823303,0.83406001329422,0.8338599801063538,0.8375899791717529,0.8414199948310852,0.8400800228118896,0.8370100259780884,0.8357300162315369,0.8329600095748901,0.8356000185012817,0.8359299898147583,0.8349699974060059,0.8407400250434875,0.8469300270080566],\"low\":[0.8565999865531921,0.8575000166893005,0.857699990272522,0.8524500131607056,0.8520600199699402,0.8510400056838989,0.8510000109672546,0.8529199957847595,0.8500499725341797,0.8521000146865845,0.8539000153541565,0.8563399910926819,0.8572999835014343,0.8535000085830688,0.8549000024795532,0.8526999950408936,0.8525400161743164,0.861299991607666,0.8577799797058105,0.8543999791145325,0.8529999852180481,0.8503699898719788,0.849399983882904,0.8478999733924866,0.8478000164031982,0.8472099900245667,0.8474000096321106,0.8472999930381775,0.8453999757766724,0.8425499796867371,0.8424000144004822,0.8423500061035156,0.842199981212616,0.8422200083732605,0.8420000076293945,0.8427000045776367,0.8402000069618225,0.8418999910354614,0.8422999978065491,0.843500018119812,0.8440999984741211,0.8490999937057495,0.8471999764442444,0.8465499877929688,0.8549799919128418,0.8535000085830688,0.8521000146865845,0.8531699776649475,0.8543999791145325,0.853190004825592,0.8494399785995483,0.8434799909591675,0.8385000228881836,0.8383499979972839,0.8385999798774719,0.8380600214004517,0.8384000062942505,0.8384400010108948,0.8398000001907349,0.8415899872779846,0.8446300029754639,0.8472499847412109,0.8493000268936157,0.8494399785995483,0.8492799997329712,0.850130021572113,0.8489099740982056,0.8507999777793884,0.8543400168418884,0.8529000282287598,0.8500999808311462,0.8510599732398987,0.8486499786376953,0.8453500270843506,0.8492000102996826,0.8494899868965149,0.8500400185585022,0.8480799794197083,0.8415799736976624,0.8428900241851807,0.8423900008201599,0.8402799963951111,0.8402699828147888,0.8379600048065186,0.8367900252342224,0.8378499746322632,0.833620011806488,0.8334199786186218,0.8342999815940857,0.8335999846458435,0.8331999778747559,0.8324699997901917,0.8328999876976013,0.8336600065231323,0.8341699838638306,0.8341000080108643,0.8341900110244751,0.8312000036239624,0.8305299878120422,0.8317999839782715,0.8352000117301941,0.8357999920845032,0.8342000246047974,0.832069993019104,0.8306000232696533,0.8305100202560425,0.8319799900054932,0.8324900269508362,0.8287699818611145,0.840499997138977],\"name\":\"market data\",\"open\":[0.8576200008392334,0.8579400181770325,0.85944002866745,0.8583999872207642,0.8542900085449219,0.8534299731254578,0.8532599806785583,0.8546800017356873,0.8535299897193909,0.8525400161743164,0.8541899919509888,0.8583099842071533,0.8583999872207642,0.8581100106239319,0.8557000160217285,0.8574399948120117,0.853630006313324,0.8629000186920166,0.8640300035476685,0.859220027923584,0.8550999760627747,0.8535799980163574,0.8509200215339661,0.8500800132751465,0.8485000133514404,0.8492299914360046,0.849839985370636,0.8492400050163269,0.8483700156211853,0.8478900194168091,0.8426600098609924,0.8453699946403503,0.8432700037956238,0.8428800106048584,0.8429099917411804,0.845550000667572,0.8433399796485901,0.8422899842262268,0.8445900082588196,0.8464499711990356,0.844569981098175,0.8493199944496155,0.8503400087356567,0.8482000231742859,0.8552899956703186,0.857509970664978,0.8543400168418884,0.8546500205993652,0.8561000227928162,0.8562999963760376,0.8527699708938599,0.8475599884986877,0.8429200053215027,0.8389700055122375,0.8421099781990051,0.8393099904060364,0.8389000296592712,0.8405500054359436,0.8404300212860107,0.8417999744415283,0.8463600277900696,0.8480600118637085,0.8520799875259399,0.852400004863739,0.8500999808311462,0.8540700078010559,0.8507099747657776,0.8509500026702881,0.8586999773979187,0.853950023651123,0.8531000018119812,0.853879988193512,0.8507699966430664,0.8513100147247314,0.8506900072097778,0.8497099876403809,0.8535900115966797,0.8505799770355225,0.8482999801635742,0.8443199992179871,0.844760000705719,0.8427900075912476,0.8420799970626831,0.841509997844696,0.8388699889183044,0.8410400152206421,0.8382099866867065,0.8337900042533875,0.8343999981880188,0.8345699906349182,0.8353099822998047,0.8343999981880188,0.8337000012397766,0.8345400094985962,0.8353000283241272,0.8344900012016296,0.8360099792480469,0.8329799771308899,0.8335000276565552,0.8317999839782715,0.8366000056266785,0.8394299745559692,0.8364199995994568,0.8346099853515625,0.83228999376297,0.8320000171661377,0.8352800011634827,0.8335199952125549,0.8329300284385681,0.8408899903297424],\"x\":[\"2021-09-06T00:00:00\",\"2021-09-07T00:00:00\",\"2021-09-08T00:00:00\",\"2021-09-09T00:00:00\",\"2021-09-10T00:00:00\",\"2021-09-13T00:00:00\",\"2021-09-14T00:00:00\",\"2021-09-15T00:00:00\",\"2021-09-16T00:00:00\",\"2021-09-17T00:00:00\",\"2021-09-20T00:00:00\",\"2021-09-21T00:00:00\",\"2021-09-22T00:00:00\",\"2021-09-23T00:00:00\",\"2021-09-24T00:00:00\",\"2021-09-27T00:00:00\",\"2021-09-28T00:00:00\",\"2021-09-29T00:00:00\",\"2021-09-30T00:00:00\",\"2021-10-01T00:00:00\",\"2021-10-04T00:00:00\",\"2021-10-05T00:00:00\",\"2021-10-06T00:00:00\",\"2021-10-07T00:00:00\",\"2021-10-08T00:00:00\",\"2021-10-11T00:00:00\",\"2021-10-12T00:00:00\",\"2021-10-13T00:00:00\",\"2021-10-14T00:00:00\",\"2021-10-15T00:00:00\",\"2021-10-18T00:00:00\",\"2021-10-19T00:00:00\",\"2021-10-20T00:00:00\",\"2021-10-21T00:00:00\",\"2021-10-22T00:00:00\",\"2021-10-25T00:00:00\",\"2021-10-26T00:00:00\",\"2021-10-27T00:00:00\",\"2021-10-28T00:00:00\",\"2021-10-29T00:00:00\",\"2021-11-01T00:00:00\",\"2021-11-02T00:00:00\",\"2021-11-03T00:00:00\",\"2021-11-04T00:00:00\",\"2021-11-05T00:00:00\",\"2021-11-08T00:00:00\",\"2021-11-09T00:00:00\",\"2021-11-10T00:00:00\",\"2021-11-11T00:00:00\",\"2021-11-12T00:00:00\",\"2021-11-15T00:00:00\",\"2021-11-16T00:00:00\",\"2021-11-17T00:00:00\",\"2021-11-18T00:00:00\",\"2021-11-19T00:00:00\",\"2021-11-22T00:00:00\",\"2021-11-23T00:00:00\",\"2021-11-24T00:00:00\",\"2021-11-25T00:00:00\",\"2021-11-26T00:00:00\",\"2021-11-29T00:00:00\",\"2021-11-30T00:00:00\",\"2021-12-01T00:00:00\",\"2021-12-02T00:00:00\",\"2021-12-03T00:00:00\",\"2021-12-06T00:00:00\",\"2021-12-07T00:00:00\",\"2021-12-08T00:00:00\",\"2021-12-09T00:00:00\",\"2021-12-10T00:00:00\",\"2021-12-13T00:00:00\",\"2021-12-14T00:00:00\",\"2021-12-15T00:00:00\",\"2021-12-16T00:00:00\",\"2021-12-17T00:00:00\",\"2021-12-20T00:00:00\",\"2021-12-21T00:00:00\",\"2021-12-22T00:00:00\",\"2021-12-23T00:00:00\",\"2021-12-24T00:00:00\",\"2021-12-27T00:00:00\",\"2021-12-28T00:00:00\",\"2021-12-29T00:00:00\",\"2021-12-30T00:00:00\",\"2021-12-31T00:00:00\",\"2022-01-03T00:00:00\",\"2022-01-04T00:00:00\",\"2022-01-05T00:00:00\",\"2022-01-06T00:00:00\",\"2022-01-07T00:00:00\",\"2022-01-10T00:00:00\",\"2022-01-11T00:00:00\",\"2022-01-12T00:00:00\",\"2022-01-13T00:00:00\",\"2022-01-14T00:00:00\",\"2022-01-17T00:00:00\",\"2022-01-18T00:00:00\",\"2022-01-19T00:00:00\",\"2022-01-20T00:00:00\",\"2022-01-21T00:00:00\",\"2022-01-24T00:00:00\",\"2022-01-25T00:00:00\",\"2022-01-26T00:00:00\",\"2022-01-27T00:00:00\",\"2022-01-28T00:00:00\",\"2022-01-31T00:00:00\",\"2022-02-01T00:00:00\",\"2022-02-02T00:00:00\",\"2022-02-03T00:00:00\",\"2022-02-04T00:00:00\"],\"type\":\"candlestick\"}],                        {\"template\":{\"data\":{\"bar\":[{\"error_x\":{\"color\":\"#2a3f5f\"},\"error_y\":{\"color\":\"#2a3f5f\"},\"marker\":{\"line\":{\"color\":\"#E5ECF6\",\"width\":0.5},\"pattern\":{\"fillmode\":\"overlay\",\"size\":10,\"solidity\":0.2}},\"type\":\"bar\"}],\"barpolar\":[{\"marker\":{\"line\":{\"color\":\"#E5ECF6\",\"width\":0.5},\"pattern\":{\"fillmode\":\"overlay\",\"size\":10,\"solidity\":0.2}},\"type\":\"barpolar\"}],\"carpet\":[{\"aaxis\":{\"endlinecolor\":\"#2a3f5f\",\"gridcolor\":\"white\",\"linecolor\":\"white\",\"minorgridcolor\":\"white\",\"startlinecolor\":\"#2a3f5f\"},\"baxis\":{\"endlinecolor\":\"#2a3f5f\",\"gridcolor\":\"white\",\"linecolor\":\"white\",\"minorgridcolor\":\"white\",\"startlinecolor\":\"#2a3f5f\"},\"type\":\"carpet\"}],\"choropleth\":[{\"colorbar\":{\"outlinewidth\":0,\"ticks\":\"\"},\"type\":\"choropleth\"}],\"contour\":[{\"colorbar\":{\"outlinewidth\":0,\"ticks\":\"\"},\"colorscale\":[[0.0,\"#0d0887\"],[0.1111111111111111,\"#46039f\"],[0.2222222222222222,\"#7201a8\"],[0.3333333333333333,\"#9c179e\"],[0.4444444444444444,\"#bd3786\"],[0.5555555555555556,\"#d8576b\"],[0.6666666666666666,\"#ed7953\"],[0.7777777777777778,\"#fb9f3a\"],[0.8888888888888888,\"#fdca26\"],[1.0,\"#f0f921\"]],\"type\":\"contour\"}],\"contourcarpet\":[{\"colorbar\":{\"outlinewidth\":0,\"ticks\":\"\"},\"type\":\"contourcarpet\"}],\"heatmap\":[{\"colorbar\":{\"outlinewidth\":0,\"ticks\":\"\"},\"colorscale\":[[0.0,\"#0d0887\"],[0.1111111111111111,\"#46039f\"],[0.2222222222222222,\"#7201a8\"],[0.3333333333333333,\"#9c179e\"],[0.4444444444444444,\"#bd3786\"],[0.5555555555555556,\"#d8576b\"],[0.6666666666666666,\"#ed7953\"],[0.7777777777777778,\"#fb9f3a\"],[0.8888888888888888,\"#fdca26\"],[1.0,\"#f0f921\"]],\"type\":\"heatmap\"}],\"heatmapgl\":[{\"colorbar\":{\"outlinewidth\":0,\"ticks\":\"\"},\"colorscale\":[[0.0,\"#0d0887\"],[0.1111111111111111,\"#46039f\"],[0.2222222222222222,\"#7201a8\"],[0.3333333333333333,\"#9c179e\"],[0.4444444444444444,\"#bd3786\"],[0.5555555555555556,\"#d8576b\"],[0.6666666666666666,\"#ed7953\"],[0.7777777777777778,\"#fb9f3a\"],[0.8888888888888888,\"#fdca26\"],[1.0,\"#f0f921\"]],\"type\":\"heatmapgl\"}],\"histogram\":[{\"marker\":{\"pattern\":{\"fillmode\":\"overlay\",\"size\":10,\"solidity\":0.2}},\"type\":\"histogram\"}],\"histogram2d\":[{\"colorbar\":{\"outlinewidth\":0,\"ticks\":\"\"},\"colorscale\":[[0.0,\"#0d0887\"],[0.1111111111111111,\"#46039f\"],[0.2222222222222222,\"#7201a8\"],[0.3333333333333333,\"#9c179e\"],[0.4444444444444444,\"#bd3786\"],[0.5555555555555556,\"#d8576b\"],[0.6666666666666666,\"#ed7953\"],[0.7777777777777778,\"#fb9f3a\"],[0.8888888888888888,\"#fdca26\"],[1.0,\"#f0f921\"]],\"type\":\"histogram2d\"}],\"histogram2dcontour\":[{\"colorbar\":{\"outlinewidth\":0,\"ticks\":\"\"},\"colorscale\":[[0.0,\"#0d0887\"],[0.1111111111111111,\"#46039f\"],[0.2222222222222222,\"#7201a8\"],[0.3333333333333333,\"#9c179e\"],[0.4444444444444444,\"#bd3786\"],[0.5555555555555556,\"#d8576b\"],[0.6666666666666666,\"#ed7953\"],[0.7777777777777778,\"#fb9f3a\"],[0.8888888888888888,\"#fdca26\"],[1.0,\"#f0f921\"]],\"type\":\"histogram2dcontour\"}],\"mesh3d\":[{\"colorbar\":{\"outlinewidth\":0,\"ticks\":\"\"},\"type\":\"mesh3d\"}],\"parcoords\":[{\"line\":{\"colorbar\":{\"outlinewidth\":0,\"ticks\":\"\"}},\"type\":\"parcoords\"}],\"pie\":[{\"automargin\":true,\"type\":\"pie\"}],\"scatter\":[{\"marker\":{\"colorbar\":{\"outlinewidth\":0,\"ticks\":\"\"}},\"type\":\"scatter\"}],\"scatter3d\":[{\"line\":{\"colorbar\":{\"outlinewidth\":0,\"ticks\":\"\"}},\"marker\":{\"colorbar\":{\"outlinewidth\":0,\"ticks\":\"\"}},\"type\":\"scatter3d\"}],\"scattercarpet\":[{\"marker\":{\"colorbar\":{\"outlinewidth\":0,\"ticks\":\"\"}},\"type\":\"scattercarpet\"}],\"scattergeo\":[{\"marker\":{\"colorbar\":{\"outlinewidth\":0,\"ticks\":\"\"}},\"type\":\"scattergeo\"}],\"scattergl\":[{\"marker\":{\"colorbar\":{\"outlinewidth\":0,\"ticks\":\"\"}},\"type\":\"scattergl\"}],\"scattermapbox\":[{\"marker\":{\"colorbar\":{\"outlinewidth\":0,\"ticks\":\"\"}},\"type\":\"scattermapbox\"}],\"scatterpolar\":[{\"marker\":{\"colorbar\":{\"outlinewidth\":0,\"ticks\":\"\"}},\"type\":\"scatterpolar\"}],\"scatterpolargl\":[{\"marker\":{\"colorbar\":{\"outlinewidth\":0,\"ticks\":\"\"}},\"type\":\"scatterpolargl\"}],\"scatterternary\":[{\"marker\":{\"colorbar\":{\"outlinewidth\":0,\"ticks\":\"\"}},\"type\":\"scatterternary\"}],\"surface\":[{\"colorbar\":{\"outlinewidth\":0,\"ticks\":\"\"},\"colorscale\":[[0.0,\"#0d0887\"],[0.1111111111111111,\"#46039f\"],[0.2222222222222222,\"#7201a8\"],[0.3333333333333333,\"#9c179e\"],[0.4444444444444444,\"#bd3786\"],[0.5555555555555556,\"#d8576b\"],[0.6666666666666666,\"#ed7953\"],[0.7777777777777778,\"#fb9f3a\"],[0.8888888888888888,\"#fdca26\"],[1.0,\"#f0f921\"]],\"type\":\"surface\"}],\"table\":[{\"cells\":{\"fill\":{\"color\":\"#EBF0F8\"},\"line\":{\"color\":\"white\"}},\"header\":{\"fill\":{\"color\":\"#C8D4E3\"},\"line\":{\"color\":\"white\"}},\"type\":\"table\"}]},\"layout\":{\"annotationdefaults\":{\"arrowcolor\":\"#2a3f5f\",\"arrowhead\":0,\"arrowwidth\":1},\"autotypenumbers\":\"strict\",\"coloraxis\":{\"colorbar\":{\"outlinewidth\":0,\"ticks\":\"\"}},\"colorscale\":{\"diverging\":[[0,\"#8e0152\"],[0.1,\"#c51b7d\"],[0.2,\"#de77ae\"],[0.3,\"#f1b6da\"],[0.4,\"#fde0ef\"],[0.5,\"#f7f7f7\"],[0.6,\"#e6f5d0\"],[0.7,\"#b8e186\"],[0.8,\"#7fbc41\"],[0.9,\"#4d9221\"],[1,\"#276419\"]],\"sequential\":[[0.0,\"#0d0887\"],[0.1111111111111111,\"#46039f\"],[0.2222222222222222,\"#7201a8\"],[0.3333333333333333,\"#9c179e\"],[0.4444444444444444,\"#bd3786\"],[0.5555555555555556,\"#d8576b\"],[0.6666666666666666,\"#ed7953\"],[0.7777777777777778,\"#fb9f3a\"],[0.8888888888888888,\"#fdca26\"],[1.0,\"#f0f921\"]],\"sequentialminus\":[[0.0,\"#0d0887\"],[0.1111111111111111,\"#46039f\"],[0.2222222222222222,\"#7201a8\"],[0.3333333333333333,\"#9c179e\"],[0.4444444444444444,\"#bd3786\"],[0.5555555555555556,\"#d8576b\"],[0.6666666666666666,\"#ed7953\"],[0.7777777777777778,\"#fb9f3a\"],[0.8888888888888888,\"#fdca26\"],[1.0,\"#f0f921\"]]},\"colorway\":[\"#636efa\",\"#EF553B\",\"#00cc96\",\"#ab63fa\",\"#FFA15A\",\"#19d3f3\",\"#FF6692\",\"#B6E880\",\"#FF97FF\",\"#FECB52\"],\"font\":{\"color\":\"#2a3f5f\"},\"geo\":{\"bgcolor\":\"white\",\"lakecolor\":\"white\",\"landcolor\":\"#E5ECF6\",\"showlakes\":true,\"showland\":true,\"subunitcolor\":\"white\"},\"hoverlabel\":{\"align\":\"left\"},\"hovermode\":\"closest\",\"mapbox\":{\"style\":\"light\"},\"paper_bgcolor\":\"white\",\"plot_bgcolor\":\"#E5ECF6\",\"polar\":{\"angularaxis\":{\"gridcolor\":\"white\",\"linecolor\":\"white\",\"ticks\":\"\"},\"bgcolor\":\"#E5ECF6\",\"radialaxis\":{\"gridcolor\":\"white\",\"linecolor\":\"white\",\"ticks\":\"\"}},\"scene\":{\"xaxis\":{\"backgroundcolor\":\"#E5ECF6\",\"gridcolor\":\"white\",\"gridwidth\":2,\"linecolor\":\"white\",\"showbackground\":true,\"ticks\":\"\",\"zerolinecolor\":\"white\"},\"yaxis\":{\"backgroundcolor\":\"#E5ECF6\",\"gridcolor\":\"white\",\"gridwidth\":2,\"linecolor\":\"white\",\"showbackground\":true,\"ticks\":\"\",\"zerolinecolor\":\"white\"},\"zaxis\":{\"backgroundcolor\":\"#E5ECF6\",\"gridcolor\":\"white\",\"gridwidth\":2,\"linecolor\":\"white\",\"showbackground\":true,\"ticks\":\"\",\"zerolinecolor\":\"white\"}},\"shapedefaults\":{\"line\":{\"color\":\"#2a3f5f\"}},\"ternary\":{\"aaxis\":{\"gridcolor\":\"white\",\"linecolor\":\"white\",\"ticks\":\"\"},\"baxis\":{\"gridcolor\":\"white\",\"linecolor\":\"white\",\"ticks\":\"\"},\"bgcolor\":\"#E5ECF6\",\"caxis\":{\"gridcolor\":\"white\",\"linecolor\":\"white\",\"ticks\":\"\"}},\"title\":{\"x\":0.05},\"xaxis\":{\"automargin\":true,\"gridcolor\":\"white\",\"linecolor\":\"white\",\"ticks\":\"\",\"title\":{\"standoff\":15},\"zerolinecolor\":\"white\",\"zerolinewidth\":2},\"yaxis\":{\"automargin\":true,\"gridcolor\":\"white\",\"linecolor\":\"white\",\"ticks\":\"\",\"title\":{\"standoff\":15},\"zerolinecolor\":\"white\",\"zerolinewidth\":2}}},\"title\":{\"text\":\"EURGBP=X\"}},                        {\"responsive\": true}                    ).then(function(){\n",
       "                            \n",
       "var gd = document.getElementById('b213aa01-ae1b-404f-af78-86933d06f8e5');\n",
       "var x = new MutationObserver(function (mutations, observer) {{\n",
       "        var display = window.getComputedStyle(gd).display;\n",
       "        if (!display || display === 'none') {{\n",
       "            console.log([gd, 'removed!']);\n",
       "            Plotly.purge(gd);\n",
       "            observer.disconnect();\n",
       "        }}\n",
       "}});\n",
       "\n",
       "// Listen for the removal of the full notebook cells\n",
       "var notebookContainer = gd.closest('#notebook-container');\n",
       "if (notebookContainer) {{\n",
       "    x.observe(notebookContainer, {childList: true});\n",
       "}}\n",
       "\n",
       "// Listen for the clearing of the current output cell\n",
       "var outputEl = gd.closest('.output');\n",
       "if (outputEl) {{\n",
       "    x.observe(outputEl, {childList: true});\n",
       "}}\n",
       "\n",
       "                        })                };                });            </script>        </div>"
      ]
     },
     "metadata": {},
     "output_type": "display_data"
    }
   ],
   "source": [
    "import pandas as pd\n",
    "import numpy as np\n",
    "import platform\n",
    "print('Python version = ' + platform.python_version())\n",
    "import yfinance as yf\n",
    "print('yfinance version = ' + yf.__version__)\n",
    "import json\n",
    "import datetime\n",
    "import matplotlib.pyplot as plt\n",
    "from matplotlib import style\n",
    "import sys\n",
    "import plotly.graph_objs as go\n",
    "\n",
    "%matplotlib inline\n",
    "\n",
    "#Stockdata\n",
    "tickersymbol = ['TSLA', 'APC.DE', 'VOO']\n",
    "fxtickersymbol = ['^TNX','CL=F','GC=F', 'EURUSD=X', 'BTC-EUR', 'ETH-EUR', 'EURCHF=X', 'EURGBP=X']\n",
    "stock_data = {}\n",
    "\n",
    "today = datetime.datetime.today().replace(microsecond=0).isoformat()\n",
    "print('Today = ' + today)\n",
    "print()\n",
    "\n",
    "def fetch_data(tickersymbol):\n",
    "    for symbol in tickersymbol:\n",
    "        \n",
    "        #Create Dict from tickerdata\n",
    "        tickerdata = yf.Ticker(symbol) #Ticker-Object\n",
    "        daten = tickerdata.info #Dictionary\n",
    "        #print(json.dumps(daten, indent=4))\n",
    "        \n",
    "        #Create DF for time certain period \n",
    "        tickerDF = tickerdata.history(period='1d',start='2020-1-1', end=today[:10]) #w isoformat, first 10 chars are the date\n",
    "        priceLast = tickerDF['Close'].iloc[-1] #last row\n",
    "        priceYest = tickerDF['Close'].iloc[-2] #row before last\n",
    "        priceChange = priceLast - priceYest\n",
    "        \n",
    "        #Eigene Statistiken\n",
    "        tickerDF['90ma']=tickerDF['Close'].rolling(window=90, min_periods=0).mean()\n",
    "        tickerDF['200ma']=tickerDF['Close'].rolling(window=200, min_periods=0).mean()\n",
    "            \n",
    "        try:\n",
    "            data = {\n",
    "                'Symbol': symbol,\n",
    "                'Letzter Preis': str(\"%.2f\" % priceLast),\n",
    "                'Preis gestern': str(\"%.2f\" % priceYest),\n",
    "                'Preis Change': str(\"%.2f\" % priceChange),\n",
    "                '52-Wochen-Hoch': daten.get('fiftyTwoWeekHigh'),\n",
    "                '52-Wochen-Tief': daten.get('fiftyTwoWeekLow'),\n",
    "                'Unternehmenswert/EBITDA': daten.get('enterpriseToEbitda'),\n",
    "                'Durchschnittliche Dividendenrendite 5y': daten.get('fiveYearAvgDividendYield'),\n",
    "                'Eigenkapitalrendite': daten.get('returnOnEquity'),\n",
    "                'Schulden/Equity (gesamt) (mrq)': daten.get('debtToEquity')\n",
    "            }\n",
    "            stock_data[symbol] = data\n",
    "        except:\n",
    "            print(sys.exc_info())\n",
    "            continue\n",
    "        \n",
    "        print(json.dumps(stock_data[symbol], indent=4, ensure_ascii=False))\n",
    "        \n",
    "        #plots \n",
    "        plt.rcParams['figure.figsize']=[15,15]\n",
    "        print(tickerDF['Close'].plot())\n",
    "        print(tickerDF['90ma'].plot())\n",
    "        print(tickerDF['200ma'].plot())\n",
    "        plt.grid(True)    \n",
    "        plt.xlabel('Date')\n",
    "        plt.ylabel('Close')\n",
    "        plt.legend()\n",
    "        plt.title(symbol + ' Stock Price')\n",
    "        plt.show() #mpld3.show() - falls im Browser\n",
    "        style.use('ggplot')\n",
    "        \n",
    "        print()\n",
    "        \n",
    "def fx_rates(fxtickersymbol):\n",
    "    for symbol in fxtickersymbol:\n",
    "        data = yf.download(tickers=symbol, period='5mo', interval='1d')\n",
    "\n",
    "        fig = go.Figure()\n",
    "        \n",
    "        #candlestick\n",
    "        fig.add_trace(go.Candlestick(x=data.index,\n",
    "                                    open=data['Open'],\n",
    "                                    high=data['High'],\n",
    "                                    low=data['Low'],\n",
    "                                    close=data['Close'], name='market data'))\n",
    "        #add titles\n",
    "        fig.update_layout(\n",
    "            title=symbol)\n",
    "        fig.show()\n",
    "    \n",
    "#fetch_data(tickersymbol)\n",
    "fx_rates(fxtickersymbol)\n"
   ]
  },
  {
   "cell_type": "code",
   "execution_count": null,
   "id": "1a675491",
   "metadata": {},
   "outputs": [],
   "source": []
  }
 ],
 "metadata": {
  "kernelspec": {
   "display_name": "Python 3 (ipykernel)",
   "language": "python",
   "name": "python3"
  },
  "language_info": {
   "codemirror_mode": {
    "name": "ipython",
    "version": 3
   },
   "file_extension": ".py",
   "mimetype": "text/x-python",
   "name": "python",
   "nbconvert_exporter": "python",
   "pygments_lexer": "ipython3",
   "version": "3.9.5"
  }
 },
 "nbformat": 4,
 "nbformat_minor": 5
}
